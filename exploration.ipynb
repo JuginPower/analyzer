{
 "cells": [
  {
   "cell_type": "code",
   "execution_count": 1,
   "id": "23a965af-d9fa-4610-9dfc-07ca8c7b2e71",
   "metadata": {},
   "outputs": [],
   "source": [
    "from classes import BaseLoader\n",
    "import requests\n",
    "from time import sleep"
   ]
  },
  {
   "cell_type": "code",
   "execution_count": 2,
   "id": "5563fee2-aefb-4489-9478-3d2953bb51d1",
   "metadata": {},
   "outputs": [],
   "source": [
    "url_template = \"https://www.alphavantage.co/query?function=TIME_SERIES_DAILY&symbol={}&outputsize=full&apikey=ZUSZT8MKKLSRLMK3\"\n",
    "sql_query = \"insert into stock_price values (%s, %s, %s, %s, %s, %s);\"\n",
    "data_manager = BaseLoader()\n",
    "symbols = data_manager.select(\"select symbol from indexes;\")"
   ]
  },
  {
   "cell_type": "code",
   "execution_count": 3,
   "id": "49753825-46c8-4fbc-baf0-bb8d14459ce0",
   "metadata": {},
   "outputs": [],
   "source": [
    "# Insert full data for each symbol in database\n",
    "\n",
    "for item in symbols:\n",
    "    full_data = requests.get(url_template.format(item[0])).json()\n",
    "    price_rows = []\n",
    "    symbol = full_data['Meta Data']['2. Symbol']\n",
    "    \n",
    "    for day_item in full_data[\"Time Series (Daily)\"].items():\n",
    "        datum = day_item[0]\n",
    "        opening = float(day_item[1][\"1. open\"])\n",
    "        high = float(day_item[1][\"2. high\"])\n",
    "        low = float(day_item[1][\"3. low\"])\n",
    "        closing = float(day_item[1][\"4. close\"])\n",
    "        price_row = tuple([symbol, datum, opening, high, low, closing])\n",
    "        price_rows.append(price_row)\n",
    "\n",
    "    sleep(1)\n",
    "    data_manager.query(sql_query, price_rows)"
   ]
  },
  {
   "cell_type": "code",
   "execution_count": 3,
   "id": "7a2c2dcf-0d21-434c-b367-b67f96d22837",
   "metadata": {},
   "outputs": [],
   "source": [
    "full_data = requests.get(url_template.format('AMZN')).json()"
   ]
  },
  {
   "cell_type": "code",
   "execution_count": 7,
   "id": "0125b338-1e50-4f61-8202-e67904288d4b",
   "metadata": {},
   "outputs": [],
   "source": [
    "price_rows = []\n",
    "symbol = full_data['Meta Data']['2. Symbol']\n",
    "datum = day_item[0]\n",
    "opening = float(day_item[1][\"1. open\"])\n",
    "high = float(day_item[1][\"2. high\"])\n",
    "low = float(day_item[1][\"3. low\"])\n",
    "closing = float(day_item[1][\"4. close\"])\n",
    "price_row = tuple([symbol, datum, opening, high, low, closing])\n",
    "price_rows.append(price_row)"
   ]
  },
  {
   "cell_type": "code",
   "execution_count": 8,
   "id": "b51f511c-8c2b-4f16-8e4d-18224f61c75e",
   "metadata": {},
   "outputs": [
    {
     "name": "stdout",
     "output_type": "stream",
     "text": [
      "[('AMZN', '1999-11-01', 68.06, 71.88, 66.31, 69.13)]\n"
     ]
    }
   ],
   "source": [
    "print(price_rows)"
   ]
  },
  {
   "cell_type": "code",
   "execution_count": null,
   "id": "f3833e19-da85-49d9-992c-7fdffad3ca31",
   "metadata": {},
   "outputs": [],
   "source": []
  }
 ],
 "metadata": {
  "kernelspec": {
   "display_name": "Python 3 (ipykernel)",
   "language": "python",
   "name": "python3"
  },
  "language_info": {
   "codemirror_mode": {
    "name": "ipython",
    "version": 3
   },
   "file_extension": ".py",
   "mimetype": "text/x-python",
   "name": "python",
   "nbconvert_exporter": "python",
   "pygments_lexer": "ipython3",
   "version": "3.12.3"
  }
 },
 "nbformat": 4,
 "nbformat_minor": 5
}
