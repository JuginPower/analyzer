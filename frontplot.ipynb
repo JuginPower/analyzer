{
 "cells": [
  {
   "cell_type": "code",
   "execution_count": 1,
   "id": "f3ce8ddd-e210-437f-b301-c8eaec026c07",
   "metadata": {},
   "outputs": [],
   "source": [
    "from classes import CsvLoader\n",
    "from pathlib import Path\n",
    "import pandas as pd\n",
    "import plotly.graph_objects as go\n",
    "from plotly.data import tips\n",
    "import numpy as np\n",
    "from pathlib import Path\n",
    "\n",
    "# Docs to multiple Axes which I used on -> https://plotly.com/python/multiple-axes/"
   ]
  },
  {
   "cell_type": "markdown",
   "id": "cb7b46bd-cbab-4c3c-b7f4-000f159b36d8",
   "metadata": {},
   "source": [
    "## Initialize the CsvLoader"
   ]
  },
  {
   "cell_type": "code",
   "execution_count": 2,
   "id": "0b1bad6e-ad71-4ec5-95dd-691e6b77b148",
   "metadata": {},
   "outputs": [],
   "source": [
    "loader = CsvLoader()\n",
    "files = loader.get_csv_files()"
   ]
  },
  {
   "cell_type": "markdown",
   "id": "8d88af5e-53f2-401b-9499-6b42c0e0dd79",
   "metadata": {},
   "source": [
    "## Cleaning Files"
   ]
  },
  {
   "cell_type": "code",
   "execution_count": 3,
   "id": "1c9891b2-c728-45d3-ae99-5a09cca4527d",
   "metadata": {
    "scrolled": true
   },
   "outputs": [
    {
     "name": "stdout",
     "output_type": "stream",
     "text": [
      "Cleaning csv data completed!\n",
      "Cleaning csv data completed!\n",
      "Cleaning csv data completed!\n",
      "Cleaning csv data completed!\n",
      "Cleaning csv data completed!\n",
      "Cleaning csv data completed!\n",
      "Cleaning csv data completed!\n",
      "Cleaning csv data completed!\n",
      "Cleaning csv data completed!\n",
      "Cleaning csv data completed!\n",
      "Cleaning csv data completed!\n",
      "Cleaning csv data completed!\n",
      "Cleaning csv data completed!\n",
      "Cleaning csv data completed!\n",
      "Cleaning csv data completed!\n",
      "Cleaning csv data completed!\n",
      "Cleaning csv data completed!\n",
      "Cleaning csv data completed!\n",
      "Cleaning csv data completed!\n",
      "Cleaning csv data completed!\n",
      "Cleaning csv data completed!\n",
      "Cleaning csv data completed!\n",
      "Cleaning csv data completed!\n",
      "Cleaning csv data completed!\n",
      "Cleaning csv data completed!\n",
      "Cleaning csv data completed!\n",
      "Cleaning csv data completed!\n",
      "Cleaning csv data completed!\n",
      "Cleaning csv data completed!\n",
      "Cleaning csv data completed!\n",
      "Cleaning csv data completed!\n",
      "Cleaning csv data completed!\n",
      "Cleaning csv data completed!\n",
      "Cleaning csv data completed!\n",
      "Cleaning csv data completed!\n",
      "Cleaning csv data completed!\n",
      "Cleaning csv data completed!\n",
      "Cleaning csv data completed!\n",
      "Cleaning csv data completed!\n",
      "Cleaning csv data completed!\n",
      "Cleaning csv data completed!\n",
      "Cleaning csv data completed!\n",
      "Cleaning csv data completed!\n",
      "Cleaning csv data completed!\n",
      "Cleaning csv data completed!\n",
      "Cleaning csv data completed!\n",
      "Cleaning csv data completed!\n",
      "Cleaning csv data completed!\n",
      "Cleaning csv data completed!\n"
     ]
    }
   ],
   "source": [
    "# Cleaning files in data subdirectory\n",
    "for file in files:\n",
    "    loader.clean_csv(file)\n",
    "\n",
    "files = loader.get_csv_files()"
   ]
  },
  {
   "cell_type": "markdown",
   "id": "b64fe568-8a49-4246-9197-5782c9ac25ff",
   "metadata": {},
   "source": [
    "## Save all plots"
   ]
  },
  {
   "cell_type": "code",
   "execution_count": 4,
   "id": "8760f3a4-04ed-437b-af2c-1e48d8fadb83",
   "metadata": {},
   "outputs": [],
   "source": [
    "\n",
    "\n",
    "for file in files:\n",
    "    df = pd.read_csv(file)\n",
    "\n",
    "    fig = go.Figure(\n",
    "        data=go.Bar(\n",
    "            x=df[\"Durchmesser\"],\n",
    "            y=df[\"q\"],\n",
    "            name=\"Incremental Volume\",\n",
    "            marker=dict(color=\"blue\"),\n",
    "        )\n",
    "    )\n",
    "    \n",
    "    fig.add_trace(\n",
    "        go.Scatter(\n",
    "            x=df[\"Durchmesser\"],\n",
    "            y=df[\"Q\"],\n",
    "            yaxis=\"y2\",\n",
    "            name=\"Cumulative Volume\",\n",
    "            marker=dict(color=\"red\"),\n",
    "            mode=\"lines+markers\"\n",
    "        )\n",
    "    )\n",
    "    \n",
    "    fig.update_layout(\n",
    "        title_text=\"Partikelgrößenverteilung\",\n",
    "        legend=dict(orientation=\"h\", \n",
    "                    yanchor=\"top\",\n",
    "                    y=-0.2,\n",
    "                    xanchor=\"center\",\n",
    "                    x=0.5),         \n",
    "        xaxis=dict(\n",
    "            title=dict(text=\"Particle size (µm)\"),\n",
    "            type=\"log\", # Wichtig: X-Achse auf logarithmische Skala setzen\n",
    "            autorange=True,\n",
    "            showgrid=True, # Optional: Gitterlinien anzeigen\n",
    "            mirror=True,\n",
    "            linewidth=1, # Optional: Achsenlinienbreite\n",
    "            linecolor='black', # Optional: Achsenlinienfarbe\n",
    "            ticks='outside',\n",
    "            ticklen=5,\n",
    "            tickwidth=1, # Optional: Tick-Breite\n",
    "        ),\n",
    "        yaxis=dict(\n",
    "            title=dict(text=\"Incremental volume (%)\"),\n",
    "            side=\"left\",\n",
    "            range=[0, 10],\n",
    "            showgrid=True,\n",
    "            mirror=True,\n",
    "            linewidth=1,\n",
    "            linecolor='black',\n",
    "            ticks='outside',\n",
    "            ticklen=5,\n",
    "            tickwidth=1,\n",
    "        ),\n",
    "        yaxis2=dict(\n",
    "            title=dict(text=\"Cumulative Volume %\"),\n",
    "            side=\"right\",\n",
    "            range=[0, 100],\n",
    "            overlaying=\"y\",\n",
    "            tickmode=\"array\",\n",
    "            tickvals=[0, 20, 40, 60, 80, 100], # Explizite Tick-Werte für rechte Achse\n",
    "            showgrid=True,\n",
    "            mirror=True,\n",
    "            linewidth=1,\n",
    "            linecolor='black',\n",
    "            ticks='outside',\n",
    "            ticklen=5,\n",
    "            tickwidth=1,\n",
    "        ),\n",
    "        bargap=0, # Optional: Abstand zwischen Balken entfernen, damit sie direkt aneinander liegen\n",
    "        plot_bgcolor='white' # Optional: Plot-Hintergrund weiß setzen\n",
    "    )\n",
    "    \n",
    "    fig.write_image(str(Path.cwd().joinpath(\"images\", file.stem)) + \".png\")\n"
   ]
  },
  {
   "cell_type": "markdown",
   "id": "875bf2a2-ff7f-4dde-9308-41b0f26ab811",
   "metadata": {},
   "source": [
    "## Show Plot"
   ]
  },
  {
   "cell_type": "code",
   "execution_count": 17,
   "id": "b2ef3853-768c-4d86-a4f0-e5005e0e25f8",
   "metadata": {},
   "outputs": [
    {
     "data": {
      "application/vnd.plotly.v1+json": {
       "config": {
        "plotlyServerURL": "https://plot.ly"
       },
       "data": [
        {
         "marker": {
          "color": "blue"
         },
         "name": "Incremental Volume",
         "type": "bar",
         "x": {
          "bdata": "cT0K16NwvT/4U+Olm8TAPzMzMzMzM8M/arx0kxgExj+e76fGSzfJPyGwcmiR7cw/+n5qvHST0D+LbOf7qfHSPxkEVg4tstU/TDeJQWDl2D97FK5H4XrcP1K4HoXrUeA/46WbxCCw4j+cxCCwcmjlP1CNl24Sg+g/qvHSTWIQ7D8UrkfhehTwP9Ei2/l+avI/SgwCK4cW9T8pXI/C9Sj4P0SLbOf7qfs/GQRWDi2y/z/0/dR46SYCQJhuEoPAygRAAiuHFtnOB0ASg8DKoUULQD0K16NwPQ9AF9nO91PjEUCwcmiR7XwUQCuHFtnOdxdA4XoUrkfhGkB9PzVeuskeQG8Sg8DKoSFAi2zn+6kxJEDhehSuRyEnQMuhRbbzfSpA8tJNYhBYLkCNl24Sg2AxQIGVQ4ts5zNAeekmMQjMNkAj2/l+ahw6QNV46SYx6D1AcT0K16MgQUDLoUW2851DQPLSTWIQeEZAPzVeukm8SUBEi2zn+3lNQLbz/dR44VBABFYOLbJVU0BaZDvfTyVWQD0K16NwXVlAPQrXo3ANXUCe76fGS6NgQNEi2/l+DmNAwcqhRbbTZUAAAAAAAABpQGZmZmZmomxAvHSTGARmcEA/NV66SchyQJ7vp8ZLg3VAlkOLbOejeEA3iUFg5Th8QJqZmZmZKYBAarx0kxiDgkA=",
          "dtype": "f8"
         },
         "y": {
          "bdata": "AAAAAAAAAAAAAAAAAAAAAAAAAAAAAAAAAAAAAAAAAAAAAAAAAAAAAAAAAAAAAAAAAAAAAAAAAAAAAAAAAAAAAAAAAAAAAAAAAAAAAAAAAAAAAAAAAAAAAAAAAAAAAAAAAAAAAAAAAAAAAAAAAAAAAAAAAAAAAAAAoBov3SQGwT/NzMzMzMzMP7Kd76fGS9c/lkOLbOf74T8QWDm0yHbqP3sUrkfhevI/+n5qvHST+D/2KFyPwvX+P28Sg8DKoQJAJQaBlUOLBkAZBFYOLbIJQLKd76fGSwxAF9nO91PjDkDdJAaBlcMQQCUGgZVDixFAEFg5tMh2EkBiEFg5tEgTQCGwcmiR7RNAiUFg5dCiFECgGi/dJAYVQN0kBoGVQxVAUrgehetRFUCamZmZmRkVQDvfT42XbhRAke18PzVeE0AzMzMzM7MRQCGwcmiR7Q5A8KfGSzeJCUACK4cW2c4DQHnpJjEIrPw/Rrbz/dR48z8hsHJoke3oPxBYObTIdt4/AAAAAAAAAAAAAAAAAAAAAAAAAAAAAAAAAAAAAAAAAAAAAAAAAAAAAAAAAAAAAAAAAAAAAAAAAAAAAAAAAAAAAAAAAAAAAAAAAAAAAAAAAAAAAAAAAAAAAAAAAAAAAAAAAAAAAAAAAAAAAAAAAAAAAAAAAAAAAAAAAAAAAAAAAAA=",
          "dtype": "f8"
         }
        },
        {
         "marker": {
          "color": "red"
         },
         "mode": "lines+markers",
         "name": "Cumulative Volume",
         "type": "scatter",
         "x": {
          "bdata": "cT0K16NwvT/4U+Olm8TAPzMzMzMzM8M/arx0kxgExj+e76fGSzfJPyGwcmiR7cw/+n5qvHST0D+LbOf7qfHSPxkEVg4tstU/TDeJQWDl2D97FK5H4XrcP1K4HoXrUeA/46WbxCCw4j+cxCCwcmjlP1CNl24Sg+g/qvHSTWIQ7D8UrkfhehTwP9Ei2/l+avI/SgwCK4cW9T8pXI/C9Sj4P0SLbOf7qfs/GQRWDi2y/z/0/dR46SYCQJhuEoPAygRAAiuHFtnOB0ASg8DKoUULQD0K16NwPQ9AF9nO91PjEUCwcmiR7XwUQCuHFtnOdxdA4XoUrkfhGkB9PzVeuskeQG8Sg8DKoSFAi2zn+6kxJEDhehSuRyEnQMuhRbbzfSpA8tJNYhBYLkCNl24Sg2AxQIGVQ4ts5zNAeekmMQjMNkAj2/l+ahw6QNV46SYx6D1AcT0K16MgQUDLoUW2851DQPLSTWIQeEZAPzVeukm8SUBEi2zn+3lNQLbz/dR44VBABFYOLbJVU0BaZDvfTyVWQD0K16NwXVlAPQrXo3ANXUCe76fGS6NgQNEi2/l+DmNAwcqhRbbTZUAAAAAAAABpQGZmZmZmomxAvHSTGARmcEA/NV66SchyQJ7vp8ZLg3VAlkOLbOejeEA3iUFg5Th8QJqZmZmZKYBAarx0kxiDgkA=",
          "dtype": "f8"
         },
         "y": {
          "bdata": "AAAAAAAAAAAAAAAAAAAAAAAAAAAAAAAAAAAAAAAAAAAAAAAAAAAAAAAAAAAAAAAAAAAAAAAAAAAAAAAAAAAAAAAAAAAAAAAAAAAAAAAAAAAAAAAAAAAAAAAAAAAAAAAAAAAAAAAAAAAAAAAAAAAAAAAAAAAAAAAAoBov3SQGwT9g5dAi2/nWP4lBYOXQIuc/j8L1KFyP9D9MN4lBYOUAQIlBYOXQIgpAg8DKoUU2E0DByqFFtvMaQG8Sg8DKISJA+FPjpZvEJ0CLbOf7qTEuQPyp8dJNojJAH4XrUbh+NkBWDi2yna86QN9PjZduEj9A8tJNYhDYQUD+1HjpJkFEQAIrhxbZvkZAMzMzMzNTSUBqvHSTGPRLQCPb+X5qnE5AF9nO91OjUECwcmiR7fRRQKRwPQrXO1NAbxKDwMpxVECiRbbz/YxVQCPb+X5qhFZAYhBYObRQV0C6SQwCK+9XQGDl0CLbYVhASOF6FK6vWECoxks3ieFYQAAAAAAAAFlAAAAAAAAAWUAAAAAAAABZQAAAAAAAAFlAAAAAAAAAWUAAAAAAAABZQAAAAAAAAFlAAAAAAAAAWUAAAAAAAABZQAAAAAAAAFlAAAAAAAAAWUAAAAAAAABZQAAAAAAAAFlAAAAAAAAAWUAAAAAAAABZQAAAAAAAAFlAAAAAAAAAWUA=",
          "dtype": "f8"
         },
         "yaxis": "y2"
        }
       ],
       "layout": {
        "bargap": 0,
        "legend": {
         "orientation": "h"
        },
        "plot_bgcolor": "white",
        "template": {
         "data": {
          "bar": [
           {
            "error_x": {
             "color": "#2a3f5f"
            },
            "error_y": {
             "color": "#2a3f5f"
            },
            "marker": {
             "line": {
              "color": "#E5ECF6",
              "width": 0.5
             },
             "pattern": {
              "fillmode": "overlay",
              "size": 10,
              "solidity": 0.2
             }
            },
            "type": "bar"
           }
          ],
          "barpolar": [
           {
            "marker": {
             "line": {
              "color": "#E5ECF6",
              "width": 0.5
             },
             "pattern": {
              "fillmode": "overlay",
              "size": 10,
              "solidity": 0.2
             }
            },
            "type": "barpolar"
           }
          ],
          "carpet": [
           {
            "aaxis": {
             "endlinecolor": "#2a3f5f",
             "gridcolor": "white",
             "linecolor": "white",
             "minorgridcolor": "white",
             "startlinecolor": "#2a3f5f"
            },
            "baxis": {
             "endlinecolor": "#2a3f5f",
             "gridcolor": "white",
             "linecolor": "white",
             "minorgridcolor": "white",
             "startlinecolor": "#2a3f5f"
            },
            "type": "carpet"
           }
          ],
          "choropleth": [
           {
            "colorbar": {
             "outlinewidth": 0,
             "ticks": ""
            },
            "type": "choropleth"
           }
          ],
          "contour": [
           {
            "colorbar": {
             "outlinewidth": 0,
             "ticks": ""
            },
            "colorscale": [
             [
              0,
              "#0d0887"
             ],
             [
              0.1111111111111111,
              "#46039f"
             ],
             [
              0.2222222222222222,
              "#7201a8"
             ],
             [
              0.3333333333333333,
              "#9c179e"
             ],
             [
              0.4444444444444444,
              "#bd3786"
             ],
             [
              0.5555555555555556,
              "#d8576b"
             ],
             [
              0.6666666666666666,
              "#ed7953"
             ],
             [
              0.7777777777777778,
              "#fb9f3a"
             ],
             [
              0.8888888888888888,
              "#fdca26"
             ],
             [
              1,
              "#f0f921"
             ]
            ],
            "type": "contour"
           }
          ],
          "contourcarpet": [
           {
            "colorbar": {
             "outlinewidth": 0,
             "ticks": ""
            },
            "type": "contourcarpet"
           }
          ],
          "heatmap": [
           {
            "colorbar": {
             "outlinewidth": 0,
             "ticks": ""
            },
            "colorscale": [
             [
              0,
              "#0d0887"
             ],
             [
              0.1111111111111111,
              "#46039f"
             ],
             [
              0.2222222222222222,
              "#7201a8"
             ],
             [
              0.3333333333333333,
              "#9c179e"
             ],
             [
              0.4444444444444444,
              "#bd3786"
             ],
             [
              0.5555555555555556,
              "#d8576b"
             ],
             [
              0.6666666666666666,
              "#ed7953"
             ],
             [
              0.7777777777777778,
              "#fb9f3a"
             ],
             [
              0.8888888888888888,
              "#fdca26"
             ],
             [
              1,
              "#f0f921"
             ]
            ],
            "type": "heatmap"
           }
          ],
          "histogram": [
           {
            "marker": {
             "pattern": {
              "fillmode": "overlay",
              "size": 10,
              "solidity": 0.2
             }
            },
            "type": "histogram"
           }
          ],
          "histogram2d": [
           {
            "colorbar": {
             "outlinewidth": 0,
             "ticks": ""
            },
            "colorscale": [
             [
              0,
              "#0d0887"
             ],
             [
              0.1111111111111111,
              "#46039f"
             ],
             [
              0.2222222222222222,
              "#7201a8"
             ],
             [
              0.3333333333333333,
              "#9c179e"
             ],
             [
              0.4444444444444444,
              "#bd3786"
             ],
             [
              0.5555555555555556,
              "#d8576b"
             ],
             [
              0.6666666666666666,
              "#ed7953"
             ],
             [
              0.7777777777777778,
              "#fb9f3a"
             ],
             [
              0.8888888888888888,
              "#fdca26"
             ],
             [
              1,
              "#f0f921"
             ]
            ],
            "type": "histogram2d"
           }
          ],
          "histogram2dcontour": [
           {
            "colorbar": {
             "outlinewidth": 0,
             "ticks": ""
            },
            "colorscale": [
             [
              0,
              "#0d0887"
             ],
             [
              0.1111111111111111,
              "#46039f"
             ],
             [
              0.2222222222222222,
              "#7201a8"
             ],
             [
              0.3333333333333333,
              "#9c179e"
             ],
             [
              0.4444444444444444,
              "#bd3786"
             ],
             [
              0.5555555555555556,
              "#d8576b"
             ],
             [
              0.6666666666666666,
              "#ed7953"
             ],
             [
              0.7777777777777778,
              "#fb9f3a"
             ],
             [
              0.8888888888888888,
              "#fdca26"
             ],
             [
              1,
              "#f0f921"
             ]
            ],
            "type": "histogram2dcontour"
           }
          ],
          "mesh3d": [
           {
            "colorbar": {
             "outlinewidth": 0,
             "ticks": ""
            },
            "type": "mesh3d"
           }
          ],
          "parcoords": [
           {
            "line": {
             "colorbar": {
              "outlinewidth": 0,
              "ticks": ""
             }
            },
            "type": "parcoords"
           }
          ],
          "pie": [
           {
            "automargin": true,
            "type": "pie"
           }
          ],
          "scatter": [
           {
            "fillpattern": {
             "fillmode": "overlay",
             "size": 10,
             "solidity": 0.2
            },
            "type": "scatter"
           }
          ],
          "scatter3d": [
           {
            "line": {
             "colorbar": {
              "outlinewidth": 0,
              "ticks": ""
             }
            },
            "marker": {
             "colorbar": {
              "outlinewidth": 0,
              "ticks": ""
             }
            },
            "type": "scatter3d"
           }
          ],
          "scattercarpet": [
           {
            "marker": {
             "colorbar": {
              "outlinewidth": 0,
              "ticks": ""
             }
            },
            "type": "scattercarpet"
           }
          ],
          "scattergeo": [
           {
            "marker": {
             "colorbar": {
              "outlinewidth": 0,
              "ticks": ""
             }
            },
            "type": "scattergeo"
           }
          ],
          "scattergl": [
           {
            "marker": {
             "colorbar": {
              "outlinewidth": 0,
              "ticks": ""
             }
            },
            "type": "scattergl"
           }
          ],
          "scattermap": [
           {
            "marker": {
             "colorbar": {
              "outlinewidth": 0,
              "ticks": ""
             }
            },
            "type": "scattermap"
           }
          ],
          "scattermapbox": [
           {
            "marker": {
             "colorbar": {
              "outlinewidth": 0,
              "ticks": ""
             }
            },
            "type": "scattermapbox"
           }
          ],
          "scatterpolar": [
           {
            "marker": {
             "colorbar": {
              "outlinewidth": 0,
              "ticks": ""
             }
            },
            "type": "scatterpolar"
           }
          ],
          "scatterpolargl": [
           {
            "marker": {
             "colorbar": {
              "outlinewidth": 0,
              "ticks": ""
             }
            },
            "type": "scatterpolargl"
           }
          ],
          "scatterternary": [
           {
            "marker": {
             "colorbar": {
              "outlinewidth": 0,
              "ticks": ""
             }
            },
            "type": "scatterternary"
           }
          ],
          "surface": [
           {
            "colorbar": {
             "outlinewidth": 0,
             "ticks": ""
            },
            "colorscale": [
             [
              0,
              "#0d0887"
             ],
             [
              0.1111111111111111,
              "#46039f"
             ],
             [
              0.2222222222222222,
              "#7201a8"
             ],
             [
              0.3333333333333333,
              "#9c179e"
             ],
             [
              0.4444444444444444,
              "#bd3786"
             ],
             [
              0.5555555555555556,
              "#d8576b"
             ],
             [
              0.6666666666666666,
              "#ed7953"
             ],
             [
              0.7777777777777778,
              "#fb9f3a"
             ],
             [
              0.8888888888888888,
              "#fdca26"
             ],
             [
              1,
              "#f0f921"
             ]
            ],
            "type": "surface"
           }
          ],
          "table": [
           {
            "cells": {
             "fill": {
              "color": "#EBF0F8"
             },
             "line": {
              "color": "white"
             }
            },
            "header": {
             "fill": {
              "color": "#C8D4E3"
             },
             "line": {
              "color": "white"
             }
            },
            "type": "table"
           }
          ]
         },
         "layout": {
          "annotationdefaults": {
           "arrowcolor": "#2a3f5f",
           "arrowhead": 0,
           "arrowwidth": 1
          },
          "autotypenumbers": "strict",
          "coloraxis": {
           "colorbar": {
            "outlinewidth": 0,
            "ticks": ""
           }
          },
          "colorscale": {
           "diverging": [
            [
             0,
             "#8e0152"
            ],
            [
             0.1,
             "#c51b7d"
            ],
            [
             0.2,
             "#de77ae"
            ],
            [
             0.3,
             "#f1b6da"
            ],
            [
             0.4,
             "#fde0ef"
            ],
            [
             0.5,
             "#f7f7f7"
            ],
            [
             0.6,
             "#e6f5d0"
            ],
            [
             0.7,
             "#b8e186"
            ],
            [
             0.8,
             "#7fbc41"
            ],
            [
             0.9,
             "#4d9221"
            ],
            [
             1,
             "#276419"
            ]
           ],
           "sequential": [
            [
             0,
             "#0d0887"
            ],
            [
             0.1111111111111111,
             "#46039f"
            ],
            [
             0.2222222222222222,
             "#7201a8"
            ],
            [
             0.3333333333333333,
             "#9c179e"
            ],
            [
             0.4444444444444444,
             "#bd3786"
            ],
            [
             0.5555555555555556,
             "#d8576b"
            ],
            [
             0.6666666666666666,
             "#ed7953"
            ],
            [
             0.7777777777777778,
             "#fb9f3a"
            ],
            [
             0.8888888888888888,
             "#fdca26"
            ],
            [
             1,
             "#f0f921"
            ]
           ],
           "sequentialminus": [
            [
             0,
             "#0d0887"
            ],
            [
             0.1111111111111111,
             "#46039f"
            ],
            [
             0.2222222222222222,
             "#7201a8"
            ],
            [
             0.3333333333333333,
             "#9c179e"
            ],
            [
             0.4444444444444444,
             "#bd3786"
            ],
            [
             0.5555555555555556,
             "#d8576b"
            ],
            [
             0.6666666666666666,
             "#ed7953"
            ],
            [
             0.7777777777777778,
             "#fb9f3a"
            ],
            [
             0.8888888888888888,
             "#fdca26"
            ],
            [
             1,
             "#f0f921"
            ]
           ]
          },
          "colorway": [
           "#636efa",
           "#EF553B",
           "#00cc96",
           "#ab63fa",
           "#FFA15A",
           "#19d3f3",
           "#FF6692",
           "#B6E880",
           "#FF97FF",
           "#FECB52"
          ],
          "font": {
           "color": "#2a3f5f"
          },
          "geo": {
           "bgcolor": "white",
           "lakecolor": "white",
           "landcolor": "#E5ECF6",
           "showlakes": true,
           "showland": true,
           "subunitcolor": "white"
          },
          "hoverlabel": {
           "align": "left"
          },
          "hovermode": "closest",
          "mapbox": {
           "style": "light"
          },
          "paper_bgcolor": "white",
          "plot_bgcolor": "#E5ECF6",
          "polar": {
           "angularaxis": {
            "gridcolor": "white",
            "linecolor": "white",
            "ticks": ""
           },
           "bgcolor": "#E5ECF6",
           "radialaxis": {
            "gridcolor": "white",
            "linecolor": "white",
            "ticks": ""
           }
          },
          "scene": {
           "xaxis": {
            "backgroundcolor": "#E5ECF6",
            "gridcolor": "white",
            "gridwidth": 2,
            "linecolor": "white",
            "showbackground": true,
            "ticks": "",
            "zerolinecolor": "white"
           },
           "yaxis": {
            "backgroundcolor": "#E5ECF6",
            "gridcolor": "white",
            "gridwidth": 2,
            "linecolor": "white",
            "showbackground": true,
            "ticks": "",
            "zerolinecolor": "white"
           },
           "zaxis": {
            "backgroundcolor": "#E5ECF6",
            "gridcolor": "white",
            "gridwidth": 2,
            "linecolor": "white",
            "showbackground": true,
            "ticks": "",
            "zerolinecolor": "white"
           }
          },
          "shapedefaults": {
           "line": {
            "color": "#2a3f5f"
           }
          },
          "ternary": {
           "aaxis": {
            "gridcolor": "white",
            "linecolor": "white",
            "ticks": ""
           },
           "baxis": {
            "gridcolor": "white",
            "linecolor": "white",
            "ticks": ""
           },
           "bgcolor": "#E5ECF6",
           "caxis": {
            "gridcolor": "white",
            "linecolor": "white",
            "ticks": ""
           }
          },
          "title": {
           "x": 0.05
          },
          "xaxis": {
           "automargin": true,
           "gridcolor": "white",
           "linecolor": "white",
           "ticks": "",
           "title": {
            "standoff": 15
           },
           "zerolinecolor": "white",
           "zerolinewidth": 2
          },
          "yaxis": {
           "automargin": true,
           "gridcolor": "white",
           "linecolor": "white",
           "ticks": "",
           "title": {
            "standoff": 15
           },
           "zerolinecolor": "white",
           "zerolinewidth": 2
          }
         }
        },
        "title": {
         "text": "Partikelgrößenverteilung"
        },
        "xaxis": {
         "autorange": true,
         "linecolor": "black",
         "linewidth": 1,
         "mirror": true,
         "showgrid": true,
         "ticklen": 5,
         "ticks": "outside",
         "tickwidth": 1,
         "title": {
          "text": "Particle size (µm)"
         },
         "type": "log"
        },
        "yaxis": {
         "linecolor": "black",
         "linewidth": 1,
         "mirror": true,
         "range": [
          0,
          10
         ],
         "showgrid": true,
         "side": "left",
         "ticklen": 5,
         "ticks": "outside",
         "tickwidth": 1,
         "title": {
          "text": "Incremental volume (%)"
         }
        },
        "yaxis2": {
         "linecolor": "black",
         "linewidth": 1,
         "mirror": true,
         "overlaying": "y",
         "range": [
          0,
          100
         ],
         "showgrid": true,
         "side": "right",
         "ticklen": 5,
         "tickmode": "array",
         "ticks": "outside",
         "tickvals": [
          0,
          20,
          40,
          60,
          80,
          100
         ],
         "tickwidth": 1,
         "title": {
          "text": "Cumulative Volume %"
         }
        }
       }
      },
      "image/png": "[encoded data removed]"
     },
     "metadata": {},
     "output_type": "display_data"
    }
   ],
   "source": [
    "# Dokumentation zu mehrfachen Axen auf -> https://plotly.com/python/multiple-axes/\n",
    "\n",
    "# Follow the instructions via the text input field!\n",
    "df_test = loader.get_csv_file()\n",
    "\n",
    "# The Plotting\n",
    "fig = go.Figure(\n",
    "    data=go.Bar(\n",
    "        x=df[\"Durchmesser\"],\n",
    "        y=df[\"q\"],\n",
    "        name=\"Incremental Volume\",\n",
    "        marker=dict(color=\"blue\"),\n",
    "    )\n",
    ")\n",
    "\n",
    "fig.add_trace(\n",
    "    go.Scatter(\n",
    "        x=df[\"Durchmesser\"],\n",
    "        y=df[\"Q\"],\n",
    "        yaxis=\"y2\",\n",
    "        name=\"Cumulative Volume\",\n",
    "        marker=dict(color=\"red\"),\n",
    "        mode=\"lines+markers\"\n",
    "    )\n",
    ")\n",
    "\n",
    "fig.update_layout(\n",
    "    title_text=\"Partikelgrößenverteilung\",\n",
    "    legend=dict(orientation=\"h\"),         \n",
    "    xaxis=dict(\n",
    "        title=dict(text=\"Particle size (µm)\"),\n",
    "        type=\"log\", # Wichtig: X-Achse auf logarithmische Skala setzen\n",
    "        autorange=True,\n",
    "        showgrid=True, # Optional: Gitterlinien anzeigen\n",
    "        mirror=True,\n",
    "        linewidth=1, # Optional: Achsenlinienbreite\n",
    "        linecolor='black', # Optional: Achsenlinienfarbe\n",
    "        ticks='outside',\n",
    "        ticklen=5,\n",
    "        tickwidth=1, # Optional: Tick-Breite\n",
    "    ),\n",
    "    yaxis=dict(\n",
    "        title=dict(text=\"Incremental volume (%)\"),\n",
    "        side=\"left\",\n",
    "        range=[0, 10],\n",
    "        showgrid=True,\n",
    "        mirror=True,\n",
    "        linewidth=1,\n",
    "        linecolor='black',\n",
    "        ticks='outside',\n",
    "        ticklen=5,\n",
    "        tickwidth=1,\n",
    "    ),\n",
    "    yaxis2=dict(\n",
    "        title=dict(text=\"Cumulative Volume %\"),\n",
    "        side=\"right\",\n",
    "        range=[0, 100],\n",
    "        overlaying=\"y\",\n",
    "        tickmode=\"array\",\n",
    "        tickvals=[0, 20, 40, 60, 80, 100], # Explizite Tick-Werte für rechte Achse\n",
    "        showgrid=True,\n",
    "        mirror=True,\n",
    "        linewidth=1,\n",
    "        linecolor='black',\n",
    "        ticks='outside',\n",
    "        ticklen=5,\n",
    "        tickwidth=1,\n",
    "    ),\n",
    "    bargap=0, # Optional: Abstand zwischen Balken entfernen, damit sie direkt aneinander liegen\n",
    "    plot_bgcolor='white' # Optional: Plot-Hintergrund weiß setzen\n",
    ")\n",
    "\n",
    "fig.show()"
   ]
  }
 ],
 "metadata": {
  "kernelspec": {
   "display_name": "Python 3 (ipykernel)",
   "language": "python",
   "name": "python3"
  },
  "language_info": {
   "codemirror_mode": {
    "name": "ipython",
    "version": 3
   },
   "file_extension": ".py",
   "mimetype": "text/x-python",
   "name": "python",
   "nbconvert_exporter": "python",
   "pygments_lexer": "ipython3",
   "version": "3.12.3"
  }
 },
 "nbformat": 4,
 "nbformat_minor": 5
}
