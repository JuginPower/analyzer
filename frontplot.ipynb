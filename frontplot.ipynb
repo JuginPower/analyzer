{
 "cells": [
  {
   "cell_type": "code",
   "execution_count": 1,
   "id": "f3ce8ddd-e210-437f-b301-c8eaec026c07",
   "metadata": {},
   "outputs": [],
   "source": [
    "from classes import CsvPsdDataLoader\n",
    "from pathlib import Path\n",
    "import pandas as pd\n",
    "import plotly.graph_objects as go\n",
    "from plotly.data import tips\n",
    "import numpy as np\n",
    "from pathlib import Path\n",
    "import json\n",
    "\n",
    "# Docs to multiple Axes which I used on -> https://plotly.com/python/multiple-axes/"
   ]
  },
  {
   "cell_type": "markdown",
   "id": "cb7b46bd-cbab-4c3c-b7f4-000f159b36d8",
   "metadata": {},
   "source": [
    "## Initialize the CsvLoader"
   ]
  },
  {
   "cell_type": "code",
   "execution_count": 2,
   "id": "0b1bad6e-ad71-4ec5-95dd-691e6b77b148",
   "metadata": {},
   "outputs": [
    {
     "data": {
      "text/plain": [
       "[PosixPath('/home/eugen/Schreibtisch/projects/analyzer/data/2557019_EtOH.txt'),\n",
       " PosixPath('/home/eugen/Schreibtisch/projects/analyzer/data/2557010_EtOH.txt'),\n",
       " PosixPath('/home/eugen/Schreibtisch/projects/analyzer/data/2557015_NK_EtOH.txt'),\n",
       " PosixPath('/home/eugen/Schreibtisch/projects/analyzer/data/2557014_EtOH.txt'),\n",
       " PosixPath('/home/eugen/Schreibtisch/projects/analyzer/data/2557027_RB_1h_EtOH.txt'),\n",
       " PosixPath('/home/eugen/Schreibtisch/projects/analyzer/data/2557026_RB_1h_EtOH.txt'),\n",
       " PosixPath('/home/eugen/Schreibtisch/projects/analyzer/data/2557028_RB1_30h_EtOH_1.txt'),\n",
       " PosixPath('/home/eugen/Schreibtisch/projects/analyzer/data/2557012_EtOH.txt'),\n",
       " PosixPath('/home/eugen/Schreibtisch/projects/analyzer/data/2557024_EtOH_3_RB1_30h.txt'),\n",
       " PosixPath('/home/eugen/Schreibtisch/projects/analyzer/data/2557015_EtOH.txt'),\n",
       " PosixPath('/home/eugen/Schreibtisch/projects/analyzer/data/2557024_EtOH_2.txt'),\n",
       " PosixPath('/home/eugen/Schreibtisch/projects/analyzer/data/2557007.txt'),\n",
       " PosixPath('/home/eugen/Schreibtisch/projects/analyzer/data/2557025(Us-bad 10 min, 24h eingelegt).txt'),\n",
       " PosixPath('/home/eugen/Schreibtisch/projects/analyzer/data/2557028_RB1_40h_EtOH_1.txt'),\n",
       " PosixPath('/home/eugen/Schreibtisch/projects/analyzer/data/2557002_EtOH.txt'),\n",
       " PosixPath('/home/eugen/Schreibtisch/projects/analyzer/data/2557026_EtOH.txt'),\n",
       " PosixPath('/home/eugen/Schreibtisch/projects/analyzer/data/2557025.txt'),\n",
       " PosixPath('/home/eugen/Schreibtisch/projects/analyzer/data/2557019_2.txt'),\n",
       " PosixPath('/home/eugen/Schreibtisch/projects/analyzer/data/2557021_EtOH.txt'),\n",
       " PosixPath('/home/eugen/Schreibtisch/projects/analyzer/data/2557018_NK_EtOH.txt'),\n",
       " PosixPath('/home/eugen/Schreibtisch/projects/analyzer/data/2557025_RB_1h_EtOH.txt'),\n",
       " PosixPath('/home/eugen/Schreibtisch/projects/analyzer/data/2557022_EtOH.txt'),\n",
       " PosixPath('/home/eugen/Schreibtisch/projects/analyzer/data/2557017_NK_EtOH.txt'),\n",
       " PosixPath('/home/eugen/Schreibtisch/projects/analyzer/data/2557028_RB1_30h_EtOH_2.txt'),\n",
       " PosixPath('/home/eugen/Schreibtisch/projects/analyzer/data/2557020.txt'),\n",
       " PosixPath('/home/eugen/Schreibtisch/projects/analyzer/data/2557025(Us-bad 13 min, 2T_Dispex AA4040).txt'),\n",
       " PosixPath('/home/eugen/Schreibtisch/projects/analyzer/data/2557022_2(längere Wartezeit, länger Us).txt'),\n",
       " PosixPath('/home/eugen/Schreibtisch/projects/analyzer/data/2557008_EtOH.txt'),\n",
       " PosixPath('/home/eugen/Schreibtisch/projects/analyzer/data/2557029_RB1_30h_EtOH.txt'),\n",
       " PosixPath('/home/eugen/Schreibtisch/projects/analyzer/data/2557029_EtOH.txt'),\n",
       " PosixPath('/home/eugen/Schreibtisch/projects/analyzer/data/2557021.txt'),\n",
       " PosixPath('/home/eugen/Schreibtisch/projects/analyzer/data/2557028_EtOH.txt'),\n",
       " PosixPath('/home/eugen/Schreibtisch/projects/analyzer/data/2557009_EtOH.txt'),\n",
       " PosixPath('/home/eugen/Schreibtisch/projects/analyzer/data/2557022.txt'),\n",
       " PosixPath('/home/eugen/Schreibtisch/projects/analyzer/data/2557020_EtOH.txt'),\n",
       " PosixPath('/home/eugen/Schreibtisch/projects/analyzer/data/2557015_NK.txt'),\n",
       " PosixPath('/home/eugen/Schreibtisch/projects/analyzer/data/2557027_EtOH.txt'),\n",
       " PosixPath('/home/eugen/Schreibtisch/projects/analyzer/data/2557024_EtOH.txt'),\n",
       " PosixPath('/home/eugen/Schreibtisch/projects/analyzer/data/2557023_EtOH.txt'),\n",
       " PosixPath('/home/eugen/Schreibtisch/projects/analyzer/data/2557013_EtOH.txt'),\n",
       " PosixPath('/home/eugen/Schreibtisch/projects/analyzer/data/2557025_EtOH.txt'),\n",
       " PosixPath('/home/eugen/Schreibtisch/projects/analyzer/data/2557018_EtOH.txt'),\n",
       " PosixPath('/home/eugen/Schreibtisch/projects/analyzer/data/2557010_45minRB.txt'),\n",
       " PosixPath('/home/eugen/Schreibtisch/projects/analyzer/data/2557010.txt'),\n",
       " PosixPath('/home/eugen/Schreibtisch/projects/analyzer/data/2557016_EtOH.txt'),\n",
       " PosixPath('/home/eugen/Schreibtisch/projects/analyzer/data/2557005_EtOH.txt'),\n",
       " PosixPath('/home/eugen/Schreibtisch/projects/analyzer/data/2557009.txt'),\n",
       " PosixPath('/home/eugen/Schreibtisch/projects/analyzer/data/2557024_EtOH_2_RB50min.txt'),\n",
       " PosixPath('/home/eugen/Schreibtisch/projects/analyzer/data/2557019.txt')]"
      ]
     },
     "execution_count": 2,
     "metadata": {},
     "output_type": "execute_result"
    }
   ],
   "source": [
    "csv_loader = CsvPsdDataLoader()\n",
    "csv_files = csv_loader.get_files()\n",
    "csv_files"
   ]
  },
  {
   "cell_type": "markdown",
   "id": "8d88af5e-53f2-401b-9499-6b42c0e0dd79",
   "metadata": {},
   "source": [
    "## Cleaning Files"
   ]
  },
  {
   "cell_type": "code",
   "execution_count": 3,
   "id": "9b008f09-8b80-443c-b07f-9350568beb24",
   "metadata": {},
   "outputs": [
    {
     "data": {
      "text/html": [
       "<div>\n",
       "<style scoped>\n",
       "    .dataframe tbody tr th:only-of-type {\n",
       "        vertical-align: middle;\n",
       "    }\n",
       "\n",
       "    .dataframe tbody tr th {\n",
       "        vertical-align: top;\n",
       "    }\n",
       "\n",
       "    .dataframe thead th {\n",
       "        text-align: right;\n",
       "    }\n",
       "</style>\n",
       "<table border=\"1\" class=\"dataframe\">\n",
       "  <thead>\n",
       "    <tr style=\"text-align: right;\">\n",
       "      <th></th>\n",
       "      <th>D50</th>\n",
       "      <th>D10</th>\n",
       "      <th>D90</th>\n",
       "    </tr>\n",
       "  </thead>\n",
       "  <tbody>\n",
       "    <tr>\n",
       "      <th>0</th>\n",
       "      <td>35.7587</td>\n",
       "      <td>10.2514</td>\n",
       "      <td>90.1333</td>\n",
       "    </tr>\n",
       "  </tbody>\n",
       "</table>\n",
       "</div>"
      ],
      "text/plain": [
       "       D50      D10      D90\n",
       "0  35.7587  10.2514  90.1333"
      ]
     },
     "execution_count": 3,
     "metadata": {},
     "output_type": "execute_result"
    }
   ],
   "source": [
    "csv_loader.extract_d905010(csv_files[0])\n",
    "df_test = csv_loader.dataframe\n",
    "df_test.head()"
   ]
  },
  {
   "cell_type": "code",
   "execution_count": 4,
   "id": "0fb84bd9-d3d8-4238-8b5c-fd71ad06e7e0",
   "metadata": {},
   "outputs": [
    {
     "name": "stdout",
     "output_type": "stream",
     "text": [
      "<class 'pandas.core.frame.DataFrame'>\n",
      "RangeIndex: 1 entries, 0 to 0\n",
      "Data columns (total 3 columns):\n",
      " #   Column  Non-Null Count  Dtype  \n",
      "---  ------  --------------  -----  \n",
      " 0   D50     1 non-null      float64\n",
      " 1   D10     1 non-null      float64\n",
      " 2   D90     1 non-null      float64\n",
      "dtypes: float64(3)\n",
      "memory usage: 156.0 bytes\n"
     ]
    }
   ],
   "source": [
    "df_test.info()"
   ]
  },
  {
   "cell_type": "code",
   "execution_count": 5,
   "id": "a7f9041e-e269-45eb-b5e7-a6821108f148",
   "metadata": {},
   "outputs": [
    {
     "data": {
      "text/plain": [
       "'{\"D50\":{\"0\":35.7587},\"D10\":{\"0\":10.2514},\"D90\":{\"0\":90.1333}}'"
      ]
     },
     "execution_count": 5,
     "metadata": {},
     "output_type": "execute_result"
    }
   ],
   "source": [
    "json_data = df_test.to_json()\n",
    "json_data"
   ]
  },
  {
   "cell_type": "code",
   "execution_count": 6,
   "id": "bf777065-7d91-40cb-a844-df41b78b2334",
   "metadata": {},
   "outputs": [
    {
     "name": "stdout",
     "output_type": "stream",
     "text": [
      "<class 'dict'>\n",
      "{'D50': {'0': 35.7587}, 'D10': {'0': 10.2514}, 'D90': {'0': 90.1333}}\n"
     ]
    }
   ],
   "source": [
    "json_dict = json.loads(json_data)\n",
    "print(type(json_dict))\n",
    "print(json_dict)"
   ]
  },
  {
   "cell_type": "code",
   "execution_count": 3,
   "id": "1c9891b2-c728-45d3-ae99-5a09cca4527d",
   "metadata": {
    "scrolled": true
   },
   "outputs": [
    {
     "name": "stdout",
     "output_type": "stream",
     "text": [
      "Cleaning csv data completed!\n",
      "Cleaning csv data completed!\n",
      "Cleaning csv data completed!\n",
      "Cleaning csv data completed!\n",
      "Cleaning csv data completed!\n",
      "Cleaning csv data completed!\n",
      "Cleaning csv data completed!\n",
      "Cleaning csv data completed!\n",
      "Cleaning csv data completed!\n",
      "Cleaning csv data completed!\n",
      "Cleaning csv data completed!\n",
      "Cleaning csv data completed!\n",
      "Cleaning csv data completed!\n",
      "Cleaning csv data completed!\n",
      "Cleaning csv data completed!\n",
      "Cleaning csv data completed!\n",
      "Cleaning csv data completed!\n",
      "Cleaning csv data completed!\n",
      "Cleaning csv data completed!\n",
      "Cleaning csv data completed!\n",
      "Cleaning csv data completed!\n",
      "Cleaning csv data completed!\n",
      "Cleaning csv data completed!\n",
      "Cleaning csv data completed!\n",
      "Cleaning csv data completed!\n",
      "Cleaning csv data completed!\n",
      "Cleaning csv data completed!\n",
      "Cleaning csv data completed!\n",
      "Cleaning csv data completed!\n",
      "Cleaning csv data completed!\n",
      "Cleaning csv data completed!\n",
      "Cleaning csv data completed!\n",
      "Cleaning csv data completed!\n",
      "Cleaning csv data completed!\n",
      "Cleaning csv data completed!\n",
      "Cleaning csv data completed!\n",
      "Cleaning csv data completed!\n",
      "Cleaning csv data completed!\n",
      "Cleaning csv data completed!\n",
      "Cleaning csv data completed!\n",
      "Cleaning csv data completed!\n",
      "Cleaning csv data completed!\n",
      "Cleaning csv data completed!\n",
      "Cleaning csv data completed!\n",
      "Cleaning csv data completed!\n",
      "Cleaning csv data completed!\n",
      "Cleaning csv data completed!\n",
      "Cleaning csv data completed!\n",
      "Cleaning csv data completed!\n"
     ]
    },
    {
     "data": {
      "text/plain": [
       "[PosixPath('/home/eugen/Schreibtisch/projects/analyzer/data/2557019_EtOH.txt'),\n",
       " PosixPath('/home/eugen/Schreibtisch/projects/analyzer/data/2557010_EtOH.txt'),\n",
       " PosixPath('/home/eugen/Schreibtisch/projects/analyzer/data/2557019_EtOH_attributes.txt'),\n",
       " PosixPath('/home/eugen/Schreibtisch/projects/analyzer/data/2557009_EtOH_attributes.txt'),\n",
       " PosixPath('/home/eugen/Schreibtisch/projects/analyzer/data/2557024_EtOH_2_attributes.txt'),\n",
       " PosixPath('/home/eugen/Schreibtisch/projects/analyzer/data/2557024_EtOH_attributes.txt'),\n",
       " PosixPath('/home/eugen/Schreibtisch/projects/analyzer/data/2557015_NK_EtOH.txt'),\n",
       " PosixPath('/home/eugen/Schreibtisch/projects/analyzer/data/2557028_RB1_30h_EtOH_2_attributes.txt'),\n",
       " PosixPath('/home/eugen/Schreibtisch/projects/analyzer/data/2557012_EtOH_attributes.txt'),\n",
       " PosixPath('/home/eugen/Schreibtisch/projects/analyzer/data/2557019_attributes.txt'),\n",
       " PosixPath('/home/eugen/Schreibtisch/projects/analyzer/data/2557029_RB1_30h_EtOH_attributes.txt'),\n",
       " PosixPath('/home/eugen/Schreibtisch/projects/analyzer/data/2557014_EtOH.txt'),\n",
       " PosixPath('/home/eugen/Schreibtisch/projects/analyzer/data/2557019_2_attributes.txt'),\n",
       " PosixPath('/home/eugen/Schreibtisch/projects/analyzer/data/2557016_EtOH_attributes.txt'),\n",
       " PosixPath('/home/eugen/Schreibtisch/projects/analyzer/data/2557027_RB_1h_EtOH.txt'),\n",
       " PosixPath('/home/eugen/Schreibtisch/projects/analyzer/data/2557026_RB_1h_EtOH.txt'),\n",
       " PosixPath('/home/eugen/Schreibtisch/projects/analyzer/data/2557028_RB1_30h_EtOH_1.txt'),\n",
       " PosixPath('/home/eugen/Schreibtisch/projects/analyzer/data/2557021_EtOH_attributes.txt'),\n",
       " PosixPath('/home/eugen/Schreibtisch/projects/analyzer/data/2557012_EtOH.txt'),\n",
       " PosixPath('/home/eugen/Schreibtisch/projects/analyzer/data/2557024_EtOH_3_RB1_30h.txt'),\n",
       " PosixPath('/home/eugen/Schreibtisch/projects/analyzer/data/2557009_attributes.txt'),\n",
       " PosixPath('/home/eugen/Schreibtisch/projects/analyzer/data/2557025(Us-bad 13 min, 2T_Dispex AA4040)_attributes.txt'),\n",
       " PosixPath('/home/eugen/Schreibtisch/projects/analyzer/data/2557015_EtOH.txt'),\n",
       " PosixPath('/home/eugen/Schreibtisch/projects/analyzer/data/2557024_EtOH_2.txt'),\n",
       " PosixPath('/home/eugen/Schreibtisch/projects/analyzer/data/2557007.txt'),\n",
       " PosixPath('/home/eugen/Schreibtisch/projects/analyzer/data/2557025(Us-bad 10 min, 24h eingelegt).txt'),\n",
       " PosixPath('/home/eugen/Schreibtisch/projects/analyzer/data/2557028_RB1_40h_EtOH_1.txt'),\n",
       " PosixPath('/home/eugen/Schreibtisch/projects/analyzer/data/2557002_EtOH.txt'),\n",
       " PosixPath('/home/eugen/Schreibtisch/projects/analyzer/data/2557018_NK_EtOH_attributes.txt'),\n",
       " PosixPath('/home/eugen/Schreibtisch/projects/analyzer/data/2557026_EtOH.txt'),\n",
       " PosixPath('/home/eugen/Schreibtisch/projects/analyzer/data/2557005_EtOH_attributes.txt'),\n",
       " PosixPath('/home/eugen/Schreibtisch/projects/analyzer/data/2557023_EtOH_attributes.txt'),\n",
       " PosixPath('/home/eugen/Schreibtisch/projects/analyzer/data/2557025.txt'),\n",
       " PosixPath('/home/eugen/Schreibtisch/projects/analyzer/data/2557019_2.txt'),\n",
       " PosixPath('/home/eugen/Schreibtisch/projects/analyzer/data/2557025_attributes.txt'),\n",
       " PosixPath('/home/eugen/Schreibtisch/projects/analyzer/data/2557021_EtOH.txt'),\n",
       " PosixPath('/home/eugen/Schreibtisch/projects/analyzer/data/2557018_NK_EtOH.txt'),\n",
       " PosixPath('/home/eugen/Schreibtisch/projects/analyzer/data/2557025_RB_1h_EtOH.txt'),\n",
       " PosixPath('/home/eugen/Schreibtisch/projects/analyzer/data/2557022_EtOH.txt'),\n",
       " PosixPath('/home/eugen/Schreibtisch/projects/analyzer/data/2557017_NK_EtOH.txt'),\n",
       " PosixPath('/home/eugen/Schreibtisch/projects/analyzer/data/2557025(Us-bad 10 min, 24h eingelegt)_attributes.txt'),\n",
       " PosixPath('/home/eugen/Schreibtisch/projects/analyzer/data/2557013_EtOH_attributes.txt'),\n",
       " PosixPath('/home/eugen/Schreibtisch/projects/analyzer/data/2557027_RB_1h_EtOH_attributes.txt'),\n",
       " PosixPath('/home/eugen/Schreibtisch/projects/analyzer/data/2557028_RB1_30h_EtOH_2.txt'),\n",
       " PosixPath('/home/eugen/Schreibtisch/projects/analyzer/data/2557020.txt'),\n",
       " PosixPath('/home/eugen/Schreibtisch/projects/analyzer/data/2557025_EtOH_attributes.txt'),\n",
       " PosixPath('/home/eugen/Schreibtisch/projects/analyzer/data/2557020_attributes.txt'),\n",
       " PosixPath('/home/eugen/Schreibtisch/projects/analyzer/data/2557025_RB_1h_EtOH_attributes.txt'),\n",
       " PosixPath('/home/eugen/Schreibtisch/projects/analyzer/data/2557028_EtOH_attributes.txt'),\n",
       " PosixPath('/home/eugen/Schreibtisch/projects/analyzer/data/2557025(Us-bad 13 min, 2T_Dispex AA4040).txt'),\n",
       " PosixPath('/home/eugen/Schreibtisch/projects/analyzer/data/2557022_2(längere Wartezeit, länger Us)_attributes.txt'),\n",
       " PosixPath('/home/eugen/Schreibtisch/projects/analyzer/data/2557022_2(längere Wartezeit, länger Us).txt'),\n",
       " PosixPath('/home/eugen/Schreibtisch/projects/analyzer/data/2557015_EtOH_attributes.txt'),\n",
       " PosixPath('/home/eugen/Schreibtisch/projects/analyzer/data/2557010_attributes.txt'),\n",
       " PosixPath('/home/eugen/Schreibtisch/projects/analyzer/data/2557020_EtOH_attributes.txt'),\n",
       " PosixPath('/home/eugen/Schreibtisch/projects/analyzer/data/2557028_RB1_30h_EtOH_1_attributes.txt'),\n",
       " PosixPath('/home/eugen/Schreibtisch/projects/analyzer/data/2557008_EtOH.txt'),\n",
       " PosixPath('/home/eugen/Schreibtisch/projects/analyzer/data/2557029_RB1_30h_EtOH.txt'),\n",
       " PosixPath('/home/eugen/Schreibtisch/projects/analyzer/data/2557029_EtOH.txt'),\n",
       " PosixPath('/home/eugen/Schreibtisch/projects/analyzer/data/2557021.txt'),\n",
       " PosixPath('/home/eugen/Schreibtisch/projects/analyzer/data/2557028_EtOH.txt'),\n",
       " PosixPath('/home/eugen/Schreibtisch/projects/analyzer/data/2557024_EtOH_2_RB50min_attributes.txt'),\n",
       " PosixPath('/home/eugen/Schreibtisch/projects/analyzer/data/2557009_EtOH.txt'),\n",
       " PosixPath('/home/eugen/Schreibtisch/projects/analyzer/data/2557014_EtOH_attributes.txt'),\n",
       " PosixPath('/home/eugen/Schreibtisch/projects/analyzer/data/2557007_attributes.txt'),\n",
       " PosixPath('/home/eugen/Schreibtisch/projects/analyzer/data/2557022.txt'),\n",
       " PosixPath('/home/eugen/Schreibtisch/projects/analyzer/data/2557020_EtOH.txt'),\n",
       " PosixPath('/home/eugen/Schreibtisch/projects/analyzer/data/2557021_attributes.txt'),\n",
       " PosixPath('/home/eugen/Schreibtisch/projects/analyzer/data/2557015_NK.txt'),\n",
       " PosixPath('/home/eugen/Schreibtisch/projects/analyzer/data/2557027_EtOH.txt'),\n",
       " PosixPath('/home/eugen/Schreibtisch/projects/analyzer/data/2557022_EtOH_attributes.txt'),\n",
       " PosixPath('/home/eugen/Schreibtisch/projects/analyzer/data/2557008_EtOH_attributes.txt'),\n",
       " PosixPath('/home/eugen/Schreibtisch/projects/analyzer/data/2557024_EtOH.txt'),\n",
       " PosixPath('/home/eugen/Schreibtisch/projects/analyzer/data/2557023_EtOH.txt'),\n",
       " PosixPath('/home/eugen/Schreibtisch/projects/analyzer/data/2557013_EtOH.txt'),\n",
       " PosixPath('/home/eugen/Schreibtisch/projects/analyzer/data/2557029_EtOH_attributes.txt'),\n",
       " PosixPath('/home/eugen/Schreibtisch/projects/analyzer/data/2557017_NK_EtOH_attributes.txt'),\n",
       " PosixPath('/home/eugen/Schreibtisch/projects/analyzer/data/2557025_EtOH.txt'),\n",
       " PosixPath('/home/eugen/Schreibtisch/projects/analyzer/data/2557018_EtOH_attributes.txt'),\n",
       " PosixPath('/home/eugen/Schreibtisch/projects/analyzer/data/2557026_EtOH_attributes.txt'),\n",
       " PosixPath('/home/eugen/Schreibtisch/projects/analyzer/data/2557022_attributes.txt'),\n",
       " PosixPath('/home/eugen/Schreibtisch/projects/analyzer/data/2557018_EtOH.txt'),\n",
       " PosixPath('/home/eugen/Schreibtisch/projects/analyzer/data/2557010_45minRB.txt'),\n",
       " PosixPath('/home/eugen/Schreibtisch/projects/analyzer/data/2557028_RB1_40h_EtOH_1_attributes.txt'),\n",
       " PosixPath('/home/eugen/Schreibtisch/projects/analyzer/data/2557010.txt'),\n",
       " PosixPath('/home/eugen/Schreibtisch/projects/analyzer/data/2557027_EtOH_attributes.txt'),\n",
       " PosixPath('/home/eugen/Schreibtisch/projects/analyzer/data/2557016_EtOH.txt'),\n",
       " PosixPath('/home/eugen/Schreibtisch/projects/analyzer/data/2557005_EtOH.txt'),\n",
       " PosixPath('/home/eugen/Schreibtisch/projects/analyzer/data/2557002_EtOH_attributes.txt'),\n",
       " PosixPath('/home/eugen/Schreibtisch/projects/analyzer/data/2557015_NK_EtOH_attributes.txt'),\n",
       " PosixPath('/home/eugen/Schreibtisch/projects/analyzer/data/2557009.txt'),\n",
       " PosixPath('/home/eugen/Schreibtisch/projects/analyzer/data/2557010_45minRB_attributes.txt'),\n",
       " PosixPath('/home/eugen/Schreibtisch/projects/analyzer/data/2557010_EtOH_attributes.txt'),\n",
       " PosixPath('/home/eugen/Schreibtisch/projects/analyzer/data/2557024_EtOH_2_RB50min.txt'),\n",
       " PosixPath('/home/eugen/Schreibtisch/projects/analyzer/data/2557026_RB_1h_EtOH_attributes.txt'),\n",
       " PosixPath('/home/eugen/Schreibtisch/projects/analyzer/data/2557015_NK_attributes.txt'),\n",
       " PosixPath('/home/eugen/Schreibtisch/projects/analyzer/data/2557019.txt'),\n",
       " PosixPath('/home/eugen/Schreibtisch/projects/analyzer/data/2557024_EtOH_3_RB1_30h_attributes.txt')]"
      ]
     },
     "execution_count": 3,
     "metadata": {},
     "output_type": "execute_result"
    }
   ],
   "source": [
    "# HIER STEHEN GEBLIEBEN\n",
    "\n",
    "# In der For-Schleife müssen dann die D501090 Werte und die Hauptdaten extrahiert werden und dann miteinander transoformiert.\n",
    "# Dann kann ich in Ruhe zum zeichnen übergehen.\n",
    "for file in csv_files:\n",
    "    csv_loader.clean_csv(file)\n",
    "\n",
    "csv_files = csv_loader.get_files()\n",
    "csv_files.sort()\n",
    "csv_files"
   ]
  },
  {
   "cell_type": "markdown",
   "id": "b64fe568-8a49-4246-9197-5782c9ac25ff",
   "metadata": {},
   "source": [
    "## Save all plots"
   ]
  },
  {
   "cell_type": "code",
   "execution_count": 5,
   "id": "8760f3a4-04ed-437b-af2c-1e48d8fadb83",
   "metadata": {
    "scrolled": true
   },
   "outputs": [
    {
     "ename": "ValueError",
     "evalue": "Invalid property specified for object of type plotly.graph_objs.Layout: 'showgrid'\n\nDid you mean \"grid\"?\n\n    Valid properties:\n        activeselection\n            :class:`plotly.graph_objects.layout.Activeselection`\n            instance or dict with compatible properties\n        activeshape\n            :class:`plotly.graph_objects.layout.Activeshape`\n            instance or dict with compatible properties\n        annotations\n            A tuple of\n            :class:`plotly.graph_objects.layout.Annotation`\n            instances or dicts with compatible properties\n        annotationdefaults\n            When used in a template (as\n            layout.template.layout.annotationdefaults), sets the\n            default property values to use for elements of\n            layout.annotations\n        autosize\n            Determines whether or not a layout width or height that\n            has been left undefined by the user is initialized on\n            each relayout. Note that, regardless of this attribute,\n            an undefined layout width or height is always\n            initialized on the first call to plot.\n        autotypenumbers\n            Using \"strict\" a numeric string in trace data is not\n            converted to a number. Using *convert types* a numeric\n            string in trace data may be treated as a number during\n            automatic axis `type` detection. This is the default\n            value; however it could be overridden for individual\n            axes.\n        barcornerradius\n            Sets the rounding of bar corners. May be an integer\n            number of pixels, or a percentage of bar width (as a\n            string ending in %).\n        bargap\n            Sets the gap (in plot fraction) between bars of\n            adjacent location coordinates.\n        bargroupgap\n            Sets the gap (in plot fraction) between bars of the\n            same location coordinate.\n        barmode\n            Determines how bars at the same location coordinate are\n            displayed on the graph. With \"stack\", the bars are\n            stacked on top of one another With \"relative\", the bars\n            are stacked on top of one another, with negative values\n            below the axis, positive values above With \"group\", the\n            bars are plotted next to one another centered around\n            the shared location. With \"overlay\", the bars are\n            plotted over one another, you might need to reduce\n            \"opacity\" to see multiple bars.\n        barnorm\n            Sets the normalization for bar traces on the graph.\n            With \"fraction\", the value of each bar is divided by\n            the sum of all values at that location coordinate.\n            \"percent\" is the same but multiplied by 100 to show\n            percentages.\n        boxgap\n            Sets the gap (in plot fraction) between boxes of\n            adjacent location coordinates. Has no effect on traces\n            that have \"width\" set.\n        boxgroupgap\n            Sets the gap (in plot fraction) between boxes of the\n            same location coordinate. Has no effect on traces that\n            have \"width\" set.\n        boxmode\n            Determines how boxes at the same location coordinate\n            are displayed on the graph. If \"group\", the boxes are\n            plotted next to one another centered around the shared\n            location. If \"overlay\", the boxes are plotted over one\n            another, you might need to set \"opacity\" to see them\n            multiple boxes. Has no effect on traces that have\n            \"width\" set.\n        calendar\n            Sets the default calendar system to use for\n            interpreting and displaying dates throughout the plot.\n        clickmode\n            Determines the mode of single click interactions.\n            \"event\" is the default value and emits the\n            `plotly_click` event. In addition this mode emits the\n            `plotly_selected` event in drag modes \"lasso\" and\n            \"select\", but with no event data attached (kept for\n            compatibility reasons). The \"select\" flag enables\n            selecting single data points via click. This mode also\n            supports persistent selections, meaning that pressing\n            Shift while clicking, adds to / subtracts from an\n            existing selection. \"select\" with `hovermode`: \"x\" can\n            be confusing, consider explicitly setting `hovermode`:\n            \"closest\" when using this feature. Selection events are\n            sent accordingly as long as \"event\" flag is set as\n            well. When the \"event\" flag is missing, `plotly_click`\n            and `plotly_selected` events are not fired.\n        coloraxis\n            :class:`plotly.graph_objects.layout.Coloraxis` instance\n            or dict with compatible properties\n        colorscale\n            :class:`plotly.graph_objects.layout.Colorscale`\n            instance or dict with compatible properties\n        colorway\n            Sets the default trace colors.\n        computed\n            Placeholder for exporting automargin-impacting values\n            namely `margin.t`, `margin.b`, `margin.l` and\n            `margin.r` in \"full-json\" mode.\n        datarevision\n            If provided, a changed value tells `Plotly.react` that\n            one or more data arrays has changed. This way you can\n            modify arrays in-place rather than making a complete\n            new copy for an incremental change. If NOT provided,\n            `Plotly.react` assumes that data arrays are being\n            treated as immutable, thus any data array with a\n            different identity from its predecessor contains new\n            data.\n        dragmode\n            Determines the mode of drag interactions. \"select\" and\n            \"lasso\" apply only to scatter traces with markers or\n            text. \"orbit\" and \"turntable\" apply only to 3D scenes.\n        editrevision\n            Controls persistence of user-driven changes in\n            `editable: true` configuration, other than trace names\n            and axis titles. Defaults to `layout.uirevision`.\n        extendfunnelareacolors\n            If `true`, the funnelarea slice colors (whether given\n            by `funnelareacolorway` or inherited from `colorway`)\n            will be extended to three times its original length by\n            first repeating every color 20% lighter then each color\n            20% darker. This is intended to reduce the likelihood\n            of reusing the same color when you have many slices,\n            but you can set `false` to disable. Colors provided in\n            the trace, using `marker.colors`, are never extended.\n        extendiciclecolors\n            If `true`, the icicle slice colors (whether given by\n            `iciclecolorway` or inherited from `colorway`) will be\n            extended to three times its original length by first\n            repeating every color 20% lighter then each color 20%\n            darker. This is intended to reduce the likelihood of\n            reusing the same color when you have many slices, but\n            you can set `false` to disable. Colors provided in the\n            trace, using `marker.colors`, are never extended.\n        extendpiecolors\n            If `true`, the pie slice colors (whether given by\n            `piecolorway` or inherited from `colorway`) will be\n            extended to three times its original length by first\n            repeating every color 20% lighter then each color 20%\n            darker. This is intended to reduce the likelihood of\n            reusing the same color when you have many slices, but\n            you can set `false` to disable. Colors provided in the\n            trace, using `marker.colors`, are never extended.\n        extendsunburstcolors\n            If `true`, the sunburst slice colors (whether given by\n            `sunburstcolorway` or inherited from `colorway`) will\n            be extended to three times its original length by first\n            repeating every color 20% lighter then each color 20%\n            darker. This is intended to reduce the likelihood of\n            reusing the same color when you have many slices, but\n            you can set `false` to disable. Colors provided in the\n            trace, using `marker.colors`, are never extended.\n        extendtreemapcolors\n            If `true`, the treemap slice colors (whether given by\n            `treemapcolorway` or inherited from `colorway`) will be\n            extended to three times its original length by first\n            repeating every color 20% lighter then each color 20%\n            darker. This is intended to reduce the likelihood of\n            reusing the same color when you have many slices, but\n            you can set `false` to disable. Colors provided in the\n            trace, using `marker.colors`, are never extended.\n        font\n            Sets the global font. Note that fonts used in traces\n            and other layout components inherit from the global\n            font.\n        funnelareacolorway\n            Sets the default funnelarea slice colors. Defaults to\n            the main `colorway` used for trace colors. If you\n            specify a new list here it can still be extended with\n            lighter and darker colors, see\n            `extendfunnelareacolors`.\n        funnelgap\n            Sets the gap (in plot fraction) between bars of\n            adjacent location coordinates.\n        funnelgroupgap\n            Sets the gap (in plot fraction) between bars of the\n            same location coordinate.\n        funnelmode\n            Determines how bars at the same location coordinate are\n            displayed on the graph. With \"stack\", the bars are\n            stacked on top of one another With \"group\", the bars\n            are plotted next to one another centered around the\n            shared location. With \"overlay\", the bars are plotted\n            over one another, you might need to reduce \"opacity\" to\n            see multiple bars.\n        geo\n            :class:`plotly.graph_objects.layout.Geo` instance or\n            dict with compatible properties\n        grid\n            :class:`plotly.graph_objects.layout.Grid` instance or\n            dict with compatible properties\n        height\n            Sets the plot's height (in px).\n        hiddenlabels\n            hiddenlabels is the funnelarea & pie chart analog of\n            visible:'legendonly' but it can contain many labels,\n            and can simultaneously hide slices from several\n            pies/funnelarea charts\n        hiddenlabelssrc\n            Sets the source reference on Chart Studio Cloud for\n            `hiddenlabels`.\n        hidesources\n            Determines whether or not a text link citing the data\n            source is placed at the bottom-right cored of the\n            figure. Has only an effect only on graphs that have\n            been generated via forked graphs from the Chart Studio\n            Cloud (at https://chart-studio.plotly.com or on-\n            premise).\n        hoverdistance\n            Sets the default distance (in pixels) to look for data\n            to add hover labels (-1 means no cutoff, 0 means no\n            looking for data). This is only a real distance for\n            hovering on point-like objects, like scatter points.\n            For area-like objects (bars, scatter fills, etc)\n            hovering is on inside the area and off outside, but\n            these objects will not supersede hover on point-like\n            objects in case of conflict.\n        hoverlabel\n            :class:`plotly.graph_objects.layout.Hoverlabel`\n            instance or dict with compatible properties\n        hovermode\n            Determines the mode of hover interactions. If\n            \"closest\", a single hoverlabel will appear for the\n            \"closest\" point within the `hoverdistance`. If \"x\" (or\n            \"y\"), multiple hoverlabels will appear for multiple\n            points at the \"closest\" x- (or y-) coordinate within\n            the `hoverdistance`, with the caveat that no more than\n            one hoverlabel will appear per trace. If *x unified*\n            (or *y unified*), a single hoverlabel will appear\n            multiple points at the closest x- (or y-) coordinate\n            within the `hoverdistance` with the caveat that no more\n            than one hoverlabel will appear per trace. In this\n            mode, spikelines are enabled by default perpendicular\n            to the specified axis. If false, hover interactions are\n            disabled.\n        hoversubplots\n            Determines expansion of hover effects to other subplots\n            If \"single\" just the axis pair of the primary point is\n            included without overlaying subplots. If \"overlaying\"\n            all subplots using the main axis and occupying the same\n            space are included. If \"axis\", also include stacked\n            subplots using the same axis when `hovermode` is set to\n            \"x\", *x unified*, \"y\" or *y unified*.\n        iciclecolorway\n            Sets the default icicle slice colors. Defaults to the\n            main `colorway` used for trace colors. If you specify a\n            new list here it can still be extended with lighter and\n            darker colors, see `extendiciclecolors`.\n        images\n            A tuple of :class:`plotly.graph_objects.layout.Image`\n            instances or dicts with compatible properties\n        imagedefaults\n            When used in a template (as\n            layout.template.layout.imagedefaults), sets the default\n            property values to use for elements of layout.images\n        legend\n            :class:`plotly.graph_objects.layout.Legend` instance or\n            dict with compatible properties\n        map\n            :class:`plotly.graph_objects.layout.Map` instance or\n            dict with compatible properties\n        mapbox\n            :class:`plotly.graph_objects.layout.Mapbox` instance or\n            dict with compatible properties\n        margin\n            :class:`plotly.graph_objects.layout.Margin` instance or\n            dict with compatible properties\n        meta\n            Assigns extra meta information that can be used in\n            various `text` attributes. Attributes such as the\n            graph, axis and colorbar `title.text`, annotation\n            `text` `trace.name` in legend items, `rangeselector`,\n            `updatemenus` and `sliders` `label` text all support\n            `meta`. One can access `meta` fields using template\n            strings: `%{meta[i]}` where `i` is the index of the\n            `meta` item in question. `meta` can also be an object\n            for example `{key: value}` which can be accessed\n            %{meta[key]}.\n        metasrc\n            Sets the source reference on Chart Studio Cloud for\n            `meta`.\n        minreducedheight\n            Minimum height of the plot with margin.automargin\n            applied (in px)\n        minreducedwidth\n            Minimum width of the plot with margin.automargin\n            applied (in px)\n        modebar\n            :class:`plotly.graph_objects.layout.Modebar` instance\n            or dict with compatible properties\n        newselection\n            :class:`plotly.graph_objects.layout.Newselection`\n            instance or dict with compatible properties\n        newshape\n            :class:`plotly.graph_objects.layout.Newshape` instance\n            or dict with compatible properties\n        paper_bgcolor\n            Sets the background color of the paper where the graph\n            is drawn.\n        piecolorway\n            Sets the default pie slice colors. Defaults to the main\n            `colorway` used for trace colors. If you specify a new\n            list here it can still be extended with lighter and\n            darker colors, see `extendpiecolors`.\n        plot_bgcolor\n            Sets the background color of the plotting area in-\n            between x and y axes.\n        polar\n            :class:`plotly.graph_objects.layout.Polar` instance or\n            dict with compatible properties\n        scattergap\n            Sets the gap (in plot fraction) between scatter points\n            of adjacent location coordinates. Defaults to `bargap`.\n        scattermode\n            Determines how scatter points at the same location\n            coordinate are displayed on the graph. With \"group\",\n            the scatter points are plotted next to one another\n            centered around the shared location. With \"overlay\",\n            the scatter points are plotted over one another, you\n            might need to reduce \"opacity\" to see multiple scatter\n            points.\n        scene\n            :class:`plotly.graph_objects.layout.Scene` instance or\n            dict with compatible properties\n        selectdirection\n            When `dragmode` is set to \"select\", this limits the\n            selection of the drag to horizontal, vertical or\n            diagonal. \"h\" only allows horizontal selection, \"v\"\n            only vertical, \"d\" only diagonal and \"any\" sets no\n            limit.\n        selectionrevision\n            Controls persistence of user-driven changes in selected\n            points from all traces.\n        selections\n            A tuple of\n            :class:`plotly.graph_objects.layout.Selection`\n            instances or dicts with compatible properties\n        selectiondefaults\n            When used in a template (as\n            layout.template.layout.selectiondefaults), sets the\n            default property values to use for elements of\n            layout.selections\n        separators\n            Sets the decimal and thousand separators. For example,\n            *. * puts a '.' before decimals and a space between\n            thousands. In English locales, dflt is \".,\" but other\n            locales may alter this default.\n        shapes\n            A tuple of :class:`plotly.graph_objects.layout.Shape`\n            instances or dicts with compatible properties\n        shapedefaults\n            When used in a template (as\n            layout.template.layout.shapedefaults), sets the default\n            property values to use for elements of layout.shapes\n        showlegend\n            Determines whether or not a legend is drawn. Default is\n            `true` if there is a trace to show and any of these: a)\n            Two or more traces would by default be shown in the\n            legend. b) One pie trace is shown in the legend. c) One\n            trace is explicitly given with `showlegend: true`.\n        sliders\n            A tuple of :class:`plotly.graph_objects.layout.Slider`\n            instances or dicts with compatible properties\n        sliderdefaults\n            When used in a template (as\n            layout.template.layout.sliderdefaults), sets the\n            default property values to use for elements of\n            layout.sliders\n        smith\n            :class:`plotly.graph_objects.layout.Smith` instance or\n            dict with compatible properties\n        spikedistance\n            Sets the default distance (in pixels) to look for data\n            to draw spikelines to (-1 means no cutoff, 0 means no\n            looking for data). As with hoverdistance, distance does\n            not apply to area-like objects. In addition, some\n            objects can be hovered on but will not generate\n            spikelines, such as scatter fills.\n        sunburstcolorway\n            Sets the default sunburst slice colors. Defaults to the\n            main `colorway` used for trace colors. If you specify a\n            new list here it can still be extended with lighter and\n            darker colors, see `extendsunburstcolors`.\n        template\n            Default attributes to be applied to the plot. This\n            should be a dict with format: `{'layout':\n            layoutTemplate, 'data': {trace_type: [traceTemplate,\n            ...], ...}}` where `layoutTemplate` is a dict matching\n            the structure of `figure.layout` and `traceTemplate` is\n            a dict matching the structure of the trace with type\n            `trace_type` (e.g. 'scatter'). Alternatively, this may\n            be specified as an instance of\n            plotly.graph_objs.layout.Template.  Trace templates are\n            applied cyclically to traces of each type. Container\n            arrays (eg `annotations`) have special handling: An\n            object ending in `defaults` (eg `annotationdefaults`)\n            is applied to each array item. But if an item has a\n            `templateitemname` key we look in the template array\n            for an item with matching `name` and apply that\n            instead. If no matching `name` is found we mark the\n            item invisible. Any named template item not referenced\n            is appended to the end of the array, so this can be\n            used to add a watermark annotation or a logo image, for\n            example. To omit one of these items on the plot, make\n            an item with matching `templateitemname` and `visible:\n            false`.\n        ternary\n            :class:`plotly.graph_objects.layout.Ternary` instance\n            or dict with compatible properties\n        title\n            :class:`plotly.graph_objects.layout.Title` instance or\n            dict with compatible properties\n        transition\n            Sets transition options used during Plotly.react\n            updates.\n        treemapcolorway\n            Sets the default treemap slice colors. Defaults to the\n            main `colorway` used for trace colors. If you specify a\n            new list here it can still be extended with lighter and\n            darker colors, see `extendtreemapcolors`.\n        uirevision\n            Used to allow user interactions with the plot to\n            persist after `Plotly.react` calls that are unaware of\n            these interactions. If `uirevision` is omitted, or if\n            it is given and it changed from the previous\n            `Plotly.react` call, the exact new figure is used. If\n            `uirevision` is truthy and did NOT change, any\n            attribute that has been affected by user interactions\n            and did not receive a different value in the new figure\n            will keep the interaction value. `layout.uirevision`\n            attribute serves as the default for `uirevision`\n            attributes in various sub-containers. For finer control\n            you can set these sub-attributes directly. For example,\n            if your app separately controls the data on the x and y\n            axes you might set `xaxis.uirevision=*time*` and\n            `yaxis.uirevision=*cost*`. Then if only the y data is\n            changed, you can update `yaxis.uirevision=*quantity*`\n            and the y axis range will reset but the x axis range\n            will retain any user-driven zoom.\n        uniformtext\n            :class:`plotly.graph_objects.layout.Uniformtext`\n            instance or dict with compatible properties\n        updatemenus\n            A tuple of\n            :class:`plotly.graph_objects.layout.Updatemenu`\n            instances or dicts with compatible properties\n        updatemenudefaults\n            When used in a template (as\n            layout.template.layout.updatemenudefaults), sets the\n            default property values to use for elements of\n            layout.updatemenus\n        violingap\n            Sets the gap (in plot fraction) between violins of\n            adjacent location coordinates. Has no effect on traces\n            that have \"width\" set.\n        violingroupgap\n            Sets the gap (in plot fraction) between violins of the\n            same location coordinate. Has no effect on traces that\n            have \"width\" set.\n        violinmode\n            Determines how violins at the same location coordinate\n            are displayed on the graph. If \"group\", the violins are\n            plotted next to one another centered around the shared\n            location. If \"overlay\", the violins are plotted over\n            one another, you might need to set \"opacity\" to see\n            them multiple violins. Has no effect on traces that\n            have \"width\" set.\n        waterfallgap\n            Sets the gap (in plot fraction) between bars of\n            adjacent location coordinates.\n        waterfallgroupgap\n            Sets the gap (in plot fraction) between bars of the\n            same location coordinate.\n        waterfallmode\n            Determines how bars at the same location coordinate are\n            displayed on the graph. With \"group\", the bars are\n            plotted next to one another centered around the shared\n            location. With \"overlay\", the bars are plotted over one\n            another, you might need to reduce \"opacity\" to see\n            multiple bars.\n        width\n            Sets the plot's width (in px).\n        xaxis\n            :class:`plotly.graph_objects.layout.XAxis` instance or\n            dict with compatible properties\n        yaxis\n            :class:`plotly.graph_objects.layout.YAxis` instance or\n            dict with compatible properties\n        \nDid you mean \"grid\"?\n\nBad property path:\nshowgrid\n^^^^^^^^",
     "output_type": "error",
     "traceback": [
      "\u001b[31m---------------------------------------------------------------------------\u001b[39m",
      "\u001b[31mValueError\u001b[39m                                Traceback (most recent call last)",
      "\u001b[36mCell\u001b[39m\u001b[36m \u001b[39m\u001b[32mIn[5]\u001b[39m\u001b[32m, line 25\u001b[39m\n\u001b[32m      4\u001b[39m fig = go.Figure(\n\u001b[32m      5\u001b[39m     data=go.Scatter(\n\u001b[32m      6\u001b[39m         x=df[\u001b[33m\"\u001b[39m\u001b[33mDurchmesser\u001b[39m\u001b[33m\"\u001b[39m],\n\u001b[32m   (...)\u001b[39m\u001b[32m     11\u001b[39m     )\n\u001b[32m     12\u001b[39m )\n\u001b[32m     14\u001b[39m fig.add_trace(\n\u001b[32m     15\u001b[39m     go.Scatter(\n\u001b[32m     16\u001b[39m         x=df[\u001b[33m\"\u001b[39m\u001b[33mDurchmesser\u001b[39m\u001b[33m\"\u001b[39m],\n\u001b[32m   (...)\u001b[39m\u001b[32m     22\u001b[39m     )\n\u001b[32m     23\u001b[39m )\n\u001b[32m---> \u001b[39m\u001b[32m25\u001b[39m \u001b[43mfig\u001b[49m\u001b[43m.\u001b[49m\u001b[43mupdate_layout\u001b[49m\u001b[43m(\u001b[49m\n\u001b[32m     26\u001b[39m \u001b[43m    \u001b[49m\u001b[43mtitle_text\u001b[49m\u001b[43m=\u001b[49m\u001b[33;43m\"\u001b[39;49m\u001b[33;43mPartikelgrößenverteilung\u001b[39;49m\u001b[33;43m\"\u001b[39;49m\u001b[43m,\u001b[49m\n\u001b[32m     27\u001b[39m \u001b[43m    \u001b[49m\u001b[43mlegend\u001b[49m\u001b[43m=\u001b[49m\u001b[38;5;28;43mdict\u001b[39;49m\u001b[43m(\u001b[49m\u001b[43morientation\u001b[49m\u001b[43m=\u001b[49m\u001b[33;43m\"\u001b[39;49m\u001b[33;43mh\u001b[39;49m\u001b[33;43m\"\u001b[39;49m\u001b[43m,\u001b[49m\u001b[43m \u001b[49m\n\u001b[32m     28\u001b[39m \u001b[43m                \u001b[49m\u001b[43myanchor\u001b[49m\u001b[43m=\u001b[49m\u001b[33;43m\"\u001b[39;49m\u001b[33;43mtop\u001b[39;49m\u001b[33;43m\"\u001b[39;49m\u001b[43m,\u001b[49m\n\u001b[32m     29\u001b[39m \u001b[43m                \u001b[49m\u001b[43my\u001b[49m\u001b[43m=\u001b[49m\u001b[43m-\u001b[49m\u001b[32;43m0.2\u001b[39;49m\u001b[43m,\u001b[49m\n\u001b[32m     30\u001b[39m \u001b[43m                \u001b[49m\u001b[43mxanchor\u001b[49m\u001b[43m=\u001b[49m\u001b[33;43m\"\u001b[39;49m\u001b[33;43mcenter\u001b[39;49m\u001b[33;43m\"\u001b[39;49m\u001b[43m,\u001b[49m\n\u001b[32m     31\u001b[39m \u001b[43m                \u001b[49m\u001b[43mx\u001b[49m\u001b[43m=\u001b[49m\u001b[32;43m0.5\u001b[39;49m\u001b[43m)\u001b[49m\u001b[43m,\u001b[49m\u001b[43m         \u001b[49m\n\u001b[32m     32\u001b[39m \u001b[43m    \u001b[49m\u001b[43mxaxis\u001b[49m\u001b[43m=\u001b[49m\u001b[38;5;28;43mdict\u001b[39;49m\u001b[43m(\u001b[49m\n\u001b[32m     33\u001b[39m \u001b[43m        \u001b[49m\u001b[43mtitle\u001b[49m\u001b[43m=\u001b[49m\u001b[38;5;28;43mdict\u001b[39;49m\u001b[43m(\u001b[49m\u001b[43mtext\u001b[49m\u001b[43m=\u001b[49m\u001b[33;43m\"\u001b[39;49m\u001b[33;43mParticle size (µm)\u001b[39;49m\u001b[33;43m\"\u001b[39;49m\u001b[43m)\u001b[49m\u001b[43m,\u001b[49m\n\u001b[32m     34\u001b[39m \u001b[43m        \u001b[49m\u001b[38;5;28;43mtype\u001b[39;49m\u001b[43m=\u001b[49m\u001b[33;43m\"\u001b[39;49m\u001b[33;43mlog\u001b[39;49m\u001b[33;43m\"\u001b[39;49m\u001b[43m,\u001b[49m\u001b[43m \u001b[49m\u001b[38;5;66;43;03m# Wichtig: X-Achse auf logarithmische Skala setzen\u001b[39;49;00m\n\u001b[32m     35\u001b[39m \u001b[43m        \u001b[49m\u001b[43mautorange\u001b[49m\u001b[43m=\u001b[49m\u001b[38;5;28;43;01mTrue\u001b[39;49;00m\u001b[43m,\u001b[49m\n\u001b[32m     36\u001b[39m \u001b[43m        \u001b[49m\u001b[43mshowgrid\u001b[49m\u001b[43m=\u001b[49m\u001b[38;5;28;43;01mTrue\u001b[39;49;00m\u001b[43m,\u001b[49m\u001b[43m \u001b[49m\u001b[38;5;66;43;03m# Optional: Gitterlinien anzeigen\u001b[39;49;00m\n\u001b[32m     37\u001b[39m \u001b[43m        \u001b[49m\u001b[43mmirror\u001b[49m\u001b[43m=\u001b[49m\u001b[38;5;28;43;01mTrue\u001b[39;49;00m\u001b[43m,\u001b[49m\n\u001b[32m     38\u001b[39m \u001b[43m        \u001b[49m\u001b[43mlinewidth\u001b[49m\u001b[43m=\u001b[49m\u001b[32;43m1\u001b[39;49m\u001b[43m,\u001b[49m\u001b[43m \u001b[49m\u001b[38;5;66;43;03m# Optional: Achsenlinienbreite\u001b[39;49;00m\n\u001b[32m     39\u001b[39m \u001b[43m        \u001b[49m\u001b[43mlinecolor\u001b[49m\u001b[43m=\u001b[49m\u001b[33;43m'\u001b[39;49m\u001b[33;43mblack\u001b[39;49m\u001b[33;43m'\u001b[39;49m\u001b[43m,\u001b[49m\u001b[43m \u001b[49m\u001b[38;5;66;43;03m# Optional: Achsenlinienfarbe\u001b[39;49;00m\n\u001b[32m     40\u001b[39m \u001b[43m        \u001b[49m\u001b[43mticks\u001b[49m\u001b[43m=\u001b[49m\u001b[33;43m'\u001b[39;49m\u001b[33;43moutside\u001b[39;49m\u001b[33;43m'\u001b[39;49m\u001b[43m,\u001b[49m\n\u001b[32m     41\u001b[39m \u001b[43m        \u001b[49m\u001b[43mticklen\u001b[49m\u001b[43m=\u001b[49m\u001b[32;43m5\u001b[39;49m\u001b[43m,\u001b[49m\n\u001b[32m     42\u001b[39m \u001b[43m        \u001b[49m\u001b[43mtickwidth\u001b[49m\u001b[43m=\u001b[49m\u001b[32;43m1\u001b[39;49m\u001b[43m,\u001b[49m\u001b[43m \u001b[49m\u001b[38;5;66;43;03m# Optional: Tick-Breite\u001b[39;49;00m\n\u001b[32m     43\u001b[39m \u001b[43m    \u001b[49m\u001b[43m)\u001b[49m\u001b[43m,\u001b[49m\n\u001b[32m     44\u001b[39m \u001b[43m    \u001b[49m\u001b[43myaxis\u001b[49m\u001b[43m=\u001b[49m\u001b[38;5;28;43mdict\u001b[39;49m\u001b[43m(\u001b[49m\n\u001b[32m     45\u001b[39m \u001b[43m        \u001b[49m\u001b[43mtitle\u001b[49m\u001b[43m=\u001b[49m\u001b[38;5;28;43mdict\u001b[39;49m\u001b[43m(\u001b[49m\u001b[43mtext\u001b[49m\u001b[43m=\u001b[49m\u001b[33;43m\"\u001b[39;49m\u001b[33;43mIncremental volume (\u001b[39;49m\u001b[33;43m%\u001b[39;49m\u001b[33;43m)\u001b[39;49m\u001b[33;43m\"\u001b[39;49m\u001b[43m)\u001b[49m\u001b[43m,\u001b[49m\n\u001b[32m     46\u001b[39m \u001b[43m        \u001b[49m\u001b[43mside\u001b[49m\u001b[43m=\u001b[49m\u001b[33;43m\"\u001b[39;49m\u001b[33;43mleft\u001b[39;49m\u001b[33;43m\"\u001b[39;49m\u001b[43m,\u001b[49m\n\u001b[32m     47\u001b[39m \u001b[43m        \u001b[49m\u001b[38;5;28;43mrange\u001b[39;49m\u001b[43m=\u001b[49m\u001b[43m[\u001b[49m\u001b[32;43m0\u001b[39;49m\u001b[43m,\u001b[49m\u001b[43m \u001b[49m\u001b[32;43m10\u001b[39;49m\u001b[43m]\u001b[49m\u001b[43m,\u001b[49m\n\u001b[32m     48\u001b[39m \u001b[43m        \u001b[49m\u001b[43mshowgrid\u001b[49m\u001b[43m=\u001b[49m\u001b[38;5;28;43;01mTrue\u001b[39;49;00m\u001b[43m,\u001b[49m\n\u001b[32m     49\u001b[39m \u001b[43m        \u001b[49m\u001b[43mmirror\u001b[49m\u001b[43m=\u001b[49m\u001b[38;5;28;43;01mTrue\u001b[39;49;00m\u001b[43m,\u001b[49m\n\u001b[32m     50\u001b[39m \u001b[43m        \u001b[49m\u001b[43mlinewidth\u001b[49m\u001b[43m=\u001b[49m\u001b[32;43m1\u001b[39;49m\u001b[43m,\u001b[49m\n\u001b[32m     51\u001b[39m \u001b[43m        \u001b[49m\u001b[43mlinecolor\u001b[49m\u001b[43m=\u001b[49m\u001b[33;43m'\u001b[39;49m\u001b[33;43mblack\u001b[39;49m\u001b[33;43m'\u001b[39;49m\u001b[43m,\u001b[49m\n\u001b[32m     52\u001b[39m \u001b[43m        \u001b[49m\u001b[43mticks\u001b[49m\u001b[43m=\u001b[49m\u001b[33;43m'\u001b[39;49m\u001b[33;43moutside\u001b[39;49m\u001b[33;43m'\u001b[39;49m\u001b[43m,\u001b[49m\n\u001b[32m     53\u001b[39m \u001b[43m        \u001b[49m\u001b[43mticklen\u001b[49m\u001b[43m=\u001b[49m\u001b[32;43m5\u001b[39;49m\u001b[43m,\u001b[49m\n\u001b[32m     54\u001b[39m \u001b[43m        \u001b[49m\u001b[43mtickwidth\u001b[49m\u001b[43m=\u001b[49m\u001b[32;43m1\u001b[39;49m\u001b[43m,\u001b[49m\n\u001b[32m     55\u001b[39m \u001b[43m    \u001b[49m\u001b[43m)\u001b[49m\u001b[43m,\u001b[49m\n\u001b[32m     56\u001b[39m \u001b[43m    \u001b[49m\u001b[43myaxis2\u001b[49m\u001b[43m=\u001b[49m\u001b[38;5;28;43mdict\u001b[39;49m\u001b[43m(\u001b[49m\n\u001b[32m     57\u001b[39m \u001b[43m        \u001b[49m\u001b[43mtitle\u001b[49m\u001b[43m=\u001b[49m\u001b[38;5;28;43mdict\u001b[39;49m\u001b[43m(\u001b[49m\u001b[43mtext\u001b[49m\u001b[43m=\u001b[49m\u001b[33;43m\"\u001b[39;49m\u001b[33;43mCumulative Volume \u001b[39;49m\u001b[33;43m%\u001b[39;49m\u001b[33;43m\"\u001b[39;49m\u001b[43m)\u001b[49m\u001b[43m,\u001b[49m\n\u001b[32m     58\u001b[39m \u001b[43m        \u001b[49m\u001b[43mside\u001b[49m\u001b[43m=\u001b[49m\u001b[33;43m\"\u001b[39;49m\u001b[33;43mright\u001b[39;49m\u001b[33;43m\"\u001b[39;49m\u001b[43m,\u001b[49m\n\u001b[32m     59\u001b[39m \u001b[43m        \u001b[49m\u001b[38;5;28;43mrange\u001b[39;49m\u001b[43m=\u001b[49m\u001b[43m[\u001b[49m\u001b[32;43m0\u001b[39;49m\u001b[43m,\u001b[49m\u001b[43m \u001b[49m\u001b[32;43m100\u001b[39;49m\u001b[43m]\u001b[49m\u001b[43m,\u001b[49m\n\u001b[32m     60\u001b[39m \u001b[43m        \u001b[49m\u001b[43moverlaying\u001b[49m\u001b[43m=\u001b[49m\u001b[33;43m\"\u001b[39;49m\u001b[33;43my\u001b[39;49m\u001b[33;43m\"\u001b[39;49m\u001b[43m,\u001b[49m\n\u001b[32m     61\u001b[39m \u001b[43m        \u001b[49m\u001b[43mtickmode\u001b[49m\u001b[43m=\u001b[49m\u001b[33;43m\"\u001b[39;49m\u001b[33;43marray\u001b[39;49m\u001b[33;43m\"\u001b[39;49m\u001b[43m,\u001b[49m\n\u001b[32m     62\u001b[39m \u001b[43m        \u001b[49m\u001b[43mtickvals\u001b[49m\u001b[43m=\u001b[49m\u001b[43m[\u001b[49m\u001b[32;43m0\u001b[39;49m\u001b[43m,\u001b[49m\u001b[43m \u001b[49m\u001b[32;43m20\u001b[39;49m\u001b[43m,\u001b[49m\u001b[43m \u001b[49m\u001b[32;43m40\u001b[39;49m\u001b[43m,\u001b[49m\u001b[43m \u001b[49m\u001b[32;43m60\u001b[39;49m\u001b[43m,\u001b[49m\u001b[43m \u001b[49m\u001b[32;43m80\u001b[39;49m\u001b[43m,\u001b[49m\u001b[43m \u001b[49m\u001b[32;43m100\u001b[39;49m\u001b[43m]\u001b[49m\u001b[43m,\u001b[49m\u001b[43m \u001b[49m\u001b[38;5;66;43;03m# Explizite Tick-Werte für rechte Achse\u001b[39;49;00m\n\u001b[32m     63\u001b[39m \u001b[43m        \u001b[49m\u001b[43mshowgrid\u001b[49m\u001b[43m=\u001b[49m\u001b[38;5;28;43;01mTrue\u001b[39;49;00m\u001b[43m,\u001b[49m\n\u001b[32m     64\u001b[39m \u001b[43m        \u001b[49m\u001b[43mmirror\u001b[49m\u001b[43m=\u001b[49m\u001b[38;5;28;43;01mTrue\u001b[39;49;00m\u001b[43m,\u001b[49m\n\u001b[32m     65\u001b[39m \u001b[43m        \u001b[49m\u001b[43mlinewidth\u001b[49m\u001b[43m=\u001b[49m\u001b[32;43m1\u001b[39;49m\u001b[43m,\u001b[49m\n\u001b[32m     66\u001b[39m \u001b[43m        \u001b[49m\u001b[43mlinecolor\u001b[49m\u001b[43m=\u001b[49m\u001b[33;43m'\u001b[39;49m\u001b[33;43mblack\u001b[39;49m\u001b[33;43m'\u001b[39;49m\u001b[43m,\u001b[49m\n\u001b[32m     67\u001b[39m \u001b[43m        \u001b[49m\u001b[43mticks\u001b[49m\u001b[43m=\u001b[49m\u001b[33;43m'\u001b[39;49m\u001b[33;43moutside\u001b[39;49m\u001b[33;43m'\u001b[39;49m\u001b[43m,\u001b[49m\n\u001b[32m     68\u001b[39m \u001b[43m        \u001b[49m\u001b[43mticklen\u001b[49m\u001b[43m=\u001b[49m\u001b[32;43m5\u001b[39;49m\u001b[43m,\u001b[49m\n\u001b[32m     69\u001b[39m \u001b[43m        \u001b[49m\u001b[43mtickwidth\u001b[49m\u001b[43m=\u001b[49m\u001b[32;43m1\u001b[39;49m\u001b[43m,\u001b[49m\n\u001b[32m     70\u001b[39m \u001b[43m    \u001b[49m\u001b[43m)\u001b[49m\u001b[43m,\u001b[49m\n\u001b[32m     71\u001b[39m \u001b[43m    \u001b[49m\u001b[43mbargap\u001b[49m\u001b[43m=\u001b[49m\u001b[32;43m0\u001b[39;49m\u001b[43m,\u001b[49m\u001b[43m \u001b[49m\u001b[38;5;66;43;03m# Optional: Abstand zwischen Balken entfernen, damit sie direkt aneinander liegen\u001b[39;49;00m\n\u001b[32m     72\u001b[39m \u001b[43m    \u001b[49m\u001b[43mplot_bgcolor\u001b[49m\u001b[43m=\u001b[49m\u001b[33;43m'\u001b[39;49m\u001b[33;43mwhite\u001b[39;49m\u001b[33;43m'\u001b[39;49m\u001b[43m,\u001b[49m\u001b[43m \u001b[49m\u001b[38;5;66;43;03m# Optional: Plot-Hintergrund weiß setzen\u001b[39;49;00m\n\u001b[32m     73\u001b[39m \u001b[43m    \u001b[49m\u001b[43mshowgrid\u001b[49m\u001b[43m=\u001b[49m\u001b[38;5;28;43;01mTrue\u001b[39;49;00m\n\u001b[32m     74\u001b[39m \u001b[43m\u001b[49m\u001b[43m)\u001b[49m\n\u001b[32m     76\u001b[39m fig.write_image(\u001b[38;5;28mstr\u001b[39m(Path.cwd().joinpath(\u001b[33m\"\u001b[39m\u001b[33mimages\u001b[39m\u001b[33m\"\u001b[39m, file.stem)) + \u001b[33m\"\u001b[39m\u001b[33m.png\u001b[39m\u001b[33m\"\u001b[39m)\n",
      "\u001b[36mFile \u001b[39m\u001b[32m~/Virtualenvs/analyzer-env/lib/python3.12/site-packages/plotly/graph_objs/_figure.py:219\u001b[39m, in \u001b[36mFigure.update_layout\u001b[39m\u001b[34m(self, dict1, overwrite, **kwargs)\u001b[39m\n\u001b[32m    193\u001b[39m \u001b[38;5;28;01mdef\u001b[39;00m\u001b[38;5;250m \u001b[39m\u001b[34mupdate_layout\u001b[39m(\u001b[38;5;28mself\u001b[39m, dict1=\u001b[38;5;28;01mNone\u001b[39;00m, overwrite=\u001b[38;5;28;01mFalse\u001b[39;00m, **kwargs) -> \u001b[33m\"\u001b[39m\u001b[33mFigure\u001b[39m\u001b[33m\"\u001b[39m:\n\u001b[32m    194\u001b[39m \u001b[38;5;250m    \u001b[39m\u001b[33;03m\"\"\"\u001b[39;00m\n\u001b[32m    195\u001b[39m \n\u001b[32m    196\u001b[39m \u001b[33;03m    Update the properties of the figure's layout with a dict and/or with\u001b[39;00m\n\u001b[32m   (...)\u001b[39m\u001b[32m    217\u001b[39m \n\u001b[32m    218\u001b[39m \u001b[33;03m    \"\"\"\u001b[39;00m\n\u001b[32m--> \u001b[39m\u001b[32m219\u001b[39m     \u001b[38;5;28;01mreturn\u001b[39;00m \u001b[38;5;28;43msuper\u001b[39;49m\u001b[43m(\u001b[49m\u001b[43m)\u001b[49m\u001b[43m.\u001b[49m\u001b[43mupdate_layout\u001b[49m\u001b[43m(\u001b[49m\u001b[43mdict1\u001b[49m\u001b[43m,\u001b[49m\u001b[43m \u001b[49m\u001b[43moverwrite\u001b[49m\u001b[43m,\u001b[49m\u001b[43m \u001b[49m\u001b[43m*\u001b[49m\u001b[43m*\u001b[49m\u001b[43mkwargs\u001b[49m\u001b[43m)\u001b[49m\n",
      "\u001b[36mFile \u001b[39m\u001b[32m~/Virtualenvs/analyzer-env/lib/python3.12/site-packages/plotly/basedatatypes.py:1413\u001b[39m, in \u001b[36mBaseFigure.update_layout\u001b[39m\u001b[34m(self, dict1, overwrite, **kwargs)\u001b[39m\n\u001b[32m   1389\u001b[39m \u001b[38;5;28;01mdef\u001b[39;00m\u001b[38;5;250m \u001b[39m\u001b[34mupdate_layout\u001b[39m(\u001b[38;5;28mself\u001b[39m, dict1=\u001b[38;5;28;01mNone\u001b[39;00m, overwrite=\u001b[38;5;28;01mFalse\u001b[39;00m, **kwargs):\n\u001b[32m   1390\u001b[39m \u001b[38;5;250m    \u001b[39m\u001b[33;03m\"\"\"\u001b[39;00m\n\u001b[32m   1391\u001b[39m \u001b[33;03m    Update the properties of the figure's layout with a dict and/or with\u001b[39;00m\n\u001b[32m   1392\u001b[39m \u001b[33;03m    keyword arguments.\u001b[39;00m\n\u001b[32m   (...)\u001b[39m\u001b[32m   1411\u001b[39m \u001b[33;03m        The Figure object that the update_layout method was called on\u001b[39;00m\n\u001b[32m   1412\u001b[39m \u001b[33;03m    \"\"\"\u001b[39;00m\n\u001b[32m-> \u001b[39m\u001b[32m1413\u001b[39m     \u001b[38;5;28;43mself\u001b[39;49m\u001b[43m.\u001b[49m\u001b[43mlayout\u001b[49m\u001b[43m.\u001b[49m\u001b[43mupdate\u001b[49m\u001b[43m(\u001b[49m\u001b[43mdict1\u001b[49m\u001b[43m,\u001b[49m\u001b[43m \u001b[49m\u001b[43moverwrite\u001b[49m\u001b[43m=\u001b[49m\u001b[43moverwrite\u001b[49m\u001b[43m,\u001b[49m\u001b[43m \u001b[49m\u001b[43m*\u001b[49m\u001b[43m*\u001b[49m\u001b[43mkwargs\u001b[49m\u001b[43m)\u001b[49m\n\u001b[32m   1414\u001b[39m     \u001b[38;5;28;01mreturn\u001b[39;00m \u001b[38;5;28mself\u001b[39m\n",
      "\u001b[36mFile \u001b[39m\u001b[32m~/Virtualenvs/analyzer-env/lib/python3.12/site-packages/plotly/basedatatypes.py:5215\u001b[39m, in \u001b[36mBasePlotlyType.update\u001b[39m\u001b[34m(self, dict1, overwrite, **kwargs)\u001b[39m\n\u001b[32m   5213\u001b[39m     \u001b[38;5;28;01mwith\u001b[39;00m \u001b[38;5;28mself\u001b[39m.figure.batch_update():\n\u001b[32m   5214\u001b[39m         BaseFigure._perform_update(\u001b[38;5;28mself\u001b[39m, dict1, overwrite=overwrite)\n\u001b[32m-> \u001b[39m\u001b[32m5215\u001b[39m         \u001b[43mBaseFigure\u001b[49m\u001b[43m.\u001b[49m\u001b[43m_perform_update\u001b[49m\u001b[43m(\u001b[49m\u001b[38;5;28;43mself\u001b[39;49m\u001b[43m,\u001b[49m\u001b[43m \u001b[49m\u001b[43mkwargs\u001b[49m\u001b[43m,\u001b[49m\u001b[43m \u001b[49m\u001b[43moverwrite\u001b[49m\u001b[43m=\u001b[49m\u001b[43moverwrite\u001b[49m\u001b[43m)\u001b[49m\n\u001b[32m   5216\u001b[39m \u001b[38;5;28;01melse\u001b[39;00m:\n\u001b[32m   5217\u001b[39m     BaseFigure._perform_update(\u001b[38;5;28mself\u001b[39m, dict1, overwrite=overwrite)\n",
      "\u001b[36mFile \u001b[39m\u001b[32m~/Virtualenvs/analyzer-env/lib/python3.12/site-packages/plotly/basedatatypes.py:3966\u001b[39m, in \u001b[36mBaseFigure._perform_update\u001b[39m\u001b[34m(plotly_obj, update_obj, overwrite)\u001b[39m\n\u001b[32m   3964\u001b[39m     err = _check_path_in_prop_tree(plotly_obj, key, error_cast=\u001b[38;5;167;01mValueError\u001b[39;00m)\n\u001b[32m   3965\u001b[39m     \u001b[38;5;28;01mif\u001b[39;00m err \u001b[38;5;129;01mis\u001b[39;00m \u001b[38;5;129;01mnot\u001b[39;00m \u001b[38;5;28;01mNone\u001b[39;00m:\n\u001b[32m-> \u001b[39m\u001b[32m3966\u001b[39m         \u001b[38;5;28;01mraise\u001b[39;00m err\n\u001b[32m   3968\u001b[39m \u001b[38;5;66;03m# Convert update_obj to dict\u001b[39;00m\n\u001b[32m   3969\u001b[39m \u001b[38;5;66;03m# --------------------------\u001b[39;00m\n\u001b[32m   3970\u001b[39m \u001b[38;5;28;01mif\u001b[39;00m \u001b[38;5;28misinstance\u001b[39m(update_obj, BasePlotlyType):\n",
      "\u001b[31mValueError\u001b[39m: Invalid property specified for object of type plotly.graph_objs.Layout: 'showgrid'\n\nDid you mean \"grid\"?\n\n    Valid properties:\n        activeselection\n            :class:`plotly.graph_objects.layout.Activeselection`\n            instance or dict with compatible properties\n        activeshape\n            :class:`plotly.graph_objects.layout.Activeshape`\n            instance or dict with compatible properties\n        annotations\n            A tuple of\n            :class:`plotly.graph_objects.layout.Annotation`\n            instances or dicts with compatible properties\n        annotationdefaults\n            When used in a template (as\n            layout.template.layout.annotationdefaults), sets the\n            default property values to use for elements of\n            layout.annotations\n        autosize\n            Determines whether or not a layout width or height that\n            has been left undefined by the user is initialized on\n            each relayout. Note that, regardless of this attribute,\n            an undefined layout width or height is always\n            initialized on the first call to plot.\n        autotypenumbers\n            Using \"strict\" a numeric string in trace data is not\n            converted to a number. Using *convert types* a numeric\n            string in trace data may be treated as a number during\n            automatic axis `type` detection. This is the default\n            value; however it could be overridden for individual\n            axes.\n        barcornerradius\n            Sets the rounding of bar corners. May be an integer\n            number of pixels, or a percentage of bar width (as a\n            string ending in %).\n        bargap\n            Sets the gap (in plot fraction) between bars of\n            adjacent location coordinates.\n        bargroupgap\n            Sets the gap (in plot fraction) between bars of the\n            same location coordinate.\n        barmode\n            Determines how bars at the same location coordinate are\n            displayed on the graph. With \"stack\", the bars are\n            stacked on top of one another With \"relative\", the bars\n            are stacked on top of one another, with negative values\n            below the axis, positive values above With \"group\", the\n            bars are plotted next to one another centered around\n            the shared location. With \"overlay\", the bars are\n            plotted over one another, you might need to reduce\n            \"opacity\" to see multiple bars.\n        barnorm\n            Sets the normalization for bar traces on the graph.\n            With \"fraction\", the value of each bar is divided by\n            the sum of all values at that location coordinate.\n            \"percent\" is the same but multiplied by 100 to show\n            percentages.\n        boxgap\n            Sets the gap (in plot fraction) between boxes of\n            adjacent location coordinates. Has no effect on traces\n            that have \"width\" set.\n        boxgroupgap\n            Sets the gap (in plot fraction) between boxes of the\n            same location coordinate. Has no effect on traces that\n            have \"width\" set.\n        boxmode\n            Determines how boxes at the same location coordinate\n            are displayed on the graph. If \"group\", the boxes are\n            plotted next to one another centered around the shared\n            location. If \"overlay\", the boxes are plotted over one\n            another, you might need to set \"opacity\" to see them\n            multiple boxes. Has no effect on traces that have\n            \"width\" set.\n        calendar\n            Sets the default calendar system to use for\n            interpreting and displaying dates throughout the plot.\n        clickmode\n            Determines the mode of single click interactions.\n            \"event\" is the default value and emits the\n            `plotly_click` event. In addition this mode emits the\n            `plotly_selected` event in drag modes \"lasso\" and\n            \"select\", but with no event data attached (kept for\n            compatibility reasons). The \"select\" flag enables\n            selecting single data points via click. This mode also\n            supports persistent selections, meaning that pressing\n            Shift while clicking, adds to / subtracts from an\n            existing selection. \"select\" with `hovermode`: \"x\" can\n            be confusing, consider explicitly setting `hovermode`:\n            \"closest\" when using this feature. Selection events are\n            sent accordingly as long as \"event\" flag is set as\n            well. When the \"event\" flag is missing, `plotly_click`\n            and `plotly_selected` events are not fired.\n        coloraxis\n            :class:`plotly.graph_objects.layout.Coloraxis` instance\n            or dict with compatible properties\n        colorscale\n            :class:`plotly.graph_objects.layout.Colorscale`\n            instance or dict with compatible properties\n        colorway\n            Sets the default trace colors.\n        computed\n            Placeholder for exporting automargin-impacting values\n            namely `margin.t`, `margin.b`, `margin.l` and\n            `margin.r` in \"full-json\" mode.\n        datarevision\n            If provided, a changed value tells `Plotly.react` that\n            one or more data arrays has changed. This way you can\n            modify arrays in-place rather than making a complete\n            new copy for an incremental change. If NOT provided,\n            `Plotly.react` assumes that data arrays are being\n            treated as immutable, thus any data array with a\n            different identity from its predecessor contains new\n            data.\n        dragmode\n            Determines the mode of drag interactions. \"select\" and\n            \"lasso\" apply only to scatter traces with markers or\n            text. \"orbit\" and \"turntable\" apply only to 3D scenes.\n        editrevision\n            Controls persistence of user-driven changes in\n            `editable: true` configuration, other than trace names\n            and axis titles. Defaults to `layout.uirevision`.\n        extendfunnelareacolors\n            If `true`, the funnelarea slice colors (whether given\n            by `funnelareacolorway` or inherited from `colorway`)\n            will be extended to three times its original length by\n            first repeating every color 20% lighter then each color\n            20% darker. This is intended to reduce the likelihood\n            of reusing the same color when you have many slices,\n            but you can set `false` to disable. Colors provided in\n            the trace, using `marker.colors`, are never extended.\n        extendiciclecolors\n            If `true`, the icicle slice colors (whether given by\n            `iciclecolorway` or inherited from `colorway`) will be\n            extended to three times its original length by first\n            repeating every color 20% lighter then each color 20%\n            darker. This is intended to reduce the likelihood of\n            reusing the same color when you have many slices, but\n            you can set `false` to disable. Colors provided in the\n            trace, using `marker.colors`, are never extended.\n        extendpiecolors\n            If `true`, the pie slice colors (whether given by\n            `piecolorway` or inherited from `colorway`) will be\n            extended to three times its original length by first\n            repeating every color 20% lighter then each color 20%\n            darker. This is intended to reduce the likelihood of\n            reusing the same color when you have many slices, but\n            you can set `false` to disable. Colors provided in the\n            trace, using `marker.colors`, are never extended.\n        extendsunburstcolors\n            If `true`, the sunburst slice colors (whether given by\n            `sunburstcolorway` or inherited from `colorway`) will\n            be extended to three times its original length by first\n            repeating every color 20% lighter then each color 20%\n            darker. This is intended to reduce the likelihood of\n            reusing the same color when you have many slices, but\n            you can set `false` to disable. Colors provided in the\n            trace, using `marker.colors`, are never extended.\n        extendtreemapcolors\n            If `true`, the treemap slice colors (whether given by\n            `treemapcolorway` or inherited from `colorway`) will be\n            extended to three times its original length by first\n            repeating every color 20% lighter then each color 20%\n            darker. This is intended to reduce the likelihood of\n            reusing the same color when you have many slices, but\n            you can set `false` to disable. Colors provided in the\n            trace, using `marker.colors`, are never extended.\n        font\n            Sets the global font. Note that fonts used in traces\n            and other layout components inherit from the global\n            font.\n        funnelareacolorway\n            Sets the default funnelarea slice colors. Defaults to\n            the main `colorway` used for trace colors. If you\n            specify a new list here it can still be extended with\n            lighter and darker colors, see\n            `extendfunnelareacolors`.\n        funnelgap\n            Sets the gap (in plot fraction) between bars of\n            adjacent location coordinates.\n        funnelgroupgap\n            Sets the gap (in plot fraction) between bars of the\n            same location coordinate.\n        funnelmode\n            Determines how bars at the same location coordinate are\n            displayed on the graph. With \"stack\", the bars are\n            stacked on top of one another With \"group\", the bars\n            are plotted next to one another centered around the\n            shared location. With \"overlay\", the bars are plotted\n            over one another, you might need to reduce \"opacity\" to\n            see multiple bars.\n        geo\n            :class:`plotly.graph_objects.layout.Geo` instance or\n            dict with compatible properties\n        grid\n            :class:`plotly.graph_objects.layout.Grid` instance or\n            dict with compatible properties\n        height\n            Sets the plot's height (in px).\n        hiddenlabels\n            hiddenlabels is the funnelarea & pie chart analog of\n            visible:'legendonly' but it can contain many labels,\n            and can simultaneously hide slices from several\n            pies/funnelarea charts\n        hiddenlabelssrc\n            Sets the source reference on Chart Studio Cloud for\n            `hiddenlabels`.\n        hidesources\n            Determines whether or not a text link citing the data\n            source is placed at the bottom-right cored of the\n            figure. Has only an effect only on graphs that have\n            been generated via forked graphs from the Chart Studio\n            Cloud (at https://chart-studio.plotly.com or on-\n            premise).\n        hoverdistance\n            Sets the default distance (in pixels) to look for data\n            to add hover labels (-1 means no cutoff, 0 means no\n            looking for data). This is only a real distance for\n            hovering on point-like objects, like scatter points.\n            For area-like objects (bars, scatter fills, etc)\n            hovering is on inside the area and off outside, but\n            these objects will not supersede hover on point-like\n            objects in case of conflict.\n        hoverlabel\n            :class:`plotly.graph_objects.layout.Hoverlabel`\n            instance or dict with compatible properties\n        hovermode\n            Determines the mode of hover interactions. If\n            \"closest\", a single hoverlabel will appear for the\n            \"closest\" point within the `hoverdistance`. If \"x\" (or\n            \"y\"), multiple hoverlabels will appear for multiple\n            points at the \"closest\" x- (or y-) coordinate within\n            the `hoverdistance`, with the caveat that no more than\n            one hoverlabel will appear per trace. If *x unified*\n            (or *y unified*), a single hoverlabel will appear\n            multiple points at the closest x- (or y-) coordinate\n            within the `hoverdistance` with the caveat that no more\n            than one hoverlabel will appear per trace. In this\n            mode, spikelines are enabled by default perpendicular\n            to the specified axis. If false, hover interactions are\n            disabled.\n        hoversubplots\n            Determines expansion of hover effects to other subplots\n            If \"single\" just the axis pair of the primary point is\n            included without overlaying subplots. If \"overlaying\"\n            all subplots using the main axis and occupying the same\n            space are included. If \"axis\", also include stacked\n            subplots using the same axis when `hovermode` is set to\n            \"x\", *x unified*, \"y\" or *y unified*.\n        iciclecolorway\n            Sets the default icicle slice colors. Defaults to the\n            main `colorway` used for trace colors. If you specify a\n            new list here it can still be extended with lighter and\n            darker colors, see `extendiciclecolors`.\n        images\n            A tuple of :class:`plotly.graph_objects.layout.Image`\n            instances or dicts with compatible properties\n        imagedefaults\n            When used in a template (as\n            layout.template.layout.imagedefaults), sets the default\n            property values to use for elements of layout.images\n        legend\n            :class:`plotly.graph_objects.layout.Legend` instance or\n            dict with compatible properties\n        map\n            :class:`plotly.graph_objects.layout.Map` instance or\n            dict with compatible properties\n        mapbox\n            :class:`plotly.graph_objects.layout.Mapbox` instance or\n            dict with compatible properties\n        margin\n            :class:`plotly.graph_objects.layout.Margin` instance or\n            dict with compatible properties\n        meta\n            Assigns extra meta information that can be used in\n            various `text` attributes. Attributes such as the\n            graph, axis and colorbar `title.text`, annotation\n            `text` `trace.name` in legend items, `rangeselector`,\n            `updatemenus` and `sliders` `label` text all support\n            `meta`. One can access `meta` fields using template\n            strings: `%{meta[i]}` where `i` is the index of the\n            `meta` item in question. `meta` can also be an object\n            for example `{key: value}` which can be accessed\n            %{meta[key]}.\n        metasrc\n            Sets the source reference on Chart Studio Cloud for\n            `meta`.\n        minreducedheight\n            Minimum height of the plot with margin.automargin\n            applied (in px)\n        minreducedwidth\n            Minimum width of the plot with margin.automargin\n            applied (in px)\n        modebar\n            :class:`plotly.graph_objects.layout.Modebar` instance\n            or dict with compatible properties\n        newselection\n            :class:`plotly.graph_objects.layout.Newselection`\n            instance or dict with compatible properties\n        newshape\n            :class:`plotly.graph_objects.layout.Newshape` instance\n            or dict with compatible properties\n        paper_bgcolor\n            Sets the background color of the paper where the graph\n            is drawn.\n        piecolorway\n            Sets the default pie slice colors. Defaults to the main\n            `colorway` used for trace colors. If you specify a new\n            list here it can still be extended with lighter and\n            darker colors, see `extendpiecolors`.\n        plot_bgcolor\n            Sets the background color of the plotting area in-\n            between x and y axes.\n        polar\n            :class:`plotly.graph_objects.layout.Polar` instance or\n            dict with compatible properties\n        scattergap\n            Sets the gap (in plot fraction) between scatter points\n            of adjacent location coordinates. Defaults to `bargap`.\n        scattermode\n            Determines how scatter points at the same location\n            coordinate are displayed on the graph. With \"group\",\n            the scatter points are plotted next to one another\n            centered around the shared location. With \"overlay\",\n            the scatter points are plotted over one another, you\n            might need to reduce \"opacity\" to see multiple scatter\n            points.\n        scene\n            :class:`plotly.graph_objects.layout.Scene` instance or\n            dict with compatible properties\n        selectdirection\n            When `dragmode` is set to \"select\", this limits the\n            selection of the drag to horizontal, vertical or\n            diagonal. \"h\" only allows horizontal selection, \"v\"\n            only vertical, \"d\" only diagonal and \"any\" sets no\n            limit.\n        selectionrevision\n            Controls persistence of user-driven changes in selected\n            points from all traces.\n        selections\n            A tuple of\n            :class:`plotly.graph_objects.layout.Selection`\n            instances or dicts with compatible properties\n        selectiondefaults\n            When used in a template (as\n            layout.template.layout.selectiondefaults), sets the\n            default property values to use for elements of\n            layout.selections\n        separators\n            Sets the decimal and thousand separators. For example,\n            *. * puts a '.' before decimals and a space between\n            thousands. In English locales, dflt is \".,\" but other\n            locales may alter this default.\n        shapes\n            A tuple of :class:`plotly.graph_objects.layout.Shape`\n            instances or dicts with compatible properties\n        shapedefaults\n            When used in a template (as\n            layout.template.layout.shapedefaults), sets the default\n            property values to use for elements of layout.shapes\n        showlegend\n            Determines whether or not a legend is drawn. Default is\n            `true` if there is a trace to show and any of these: a)\n            Two or more traces would by default be shown in the\n            legend. b) One pie trace is shown in the legend. c) One\n            trace is explicitly given with `showlegend: true`.\n        sliders\n            A tuple of :class:`plotly.graph_objects.layout.Slider`\n            instances or dicts with compatible properties\n        sliderdefaults\n            When used in a template (as\n            layout.template.layout.sliderdefaults), sets the\n            default property values to use for elements of\n            layout.sliders\n        smith\n            :class:`plotly.graph_objects.layout.Smith` instance or\n            dict with compatible properties\n        spikedistance\n            Sets the default distance (in pixels) to look for data\n            to draw spikelines to (-1 means no cutoff, 0 means no\n            looking for data). As with hoverdistance, distance does\n            not apply to area-like objects. In addition, some\n            objects can be hovered on but will not generate\n            spikelines, such as scatter fills.\n        sunburstcolorway\n            Sets the default sunburst slice colors. Defaults to the\n            main `colorway` used for trace colors. If you specify a\n            new list here it can still be extended with lighter and\n            darker colors, see `extendsunburstcolors`.\n        template\n            Default attributes to be applied to the plot. This\n            should be a dict with format: `{'layout':\n            layoutTemplate, 'data': {trace_type: [traceTemplate,\n            ...], ...}}` where `layoutTemplate` is a dict matching\n            the structure of `figure.layout` and `traceTemplate` is\n            a dict matching the structure of the trace with type\n            `trace_type` (e.g. 'scatter'). Alternatively, this may\n            be specified as an instance of\n            plotly.graph_objs.layout.Template.  Trace templates are\n            applied cyclically to traces of each type. Container\n            arrays (eg `annotations`) have special handling: An\n            object ending in `defaults` (eg `annotationdefaults`)\n            is applied to each array item. But if an item has a\n            `templateitemname` key we look in the template array\n            for an item with matching `name` and apply that\n            instead. If no matching `name` is found we mark the\n            item invisible. Any named template item not referenced\n            is appended to the end of the array, so this can be\n            used to add a watermark annotation or a logo image, for\n            example. To omit one of these items on the plot, make\n            an item with matching `templateitemname` and `visible:\n            false`.\n        ternary\n            :class:`plotly.graph_objects.layout.Ternary` instance\n            or dict with compatible properties\n        title\n            :class:`plotly.graph_objects.layout.Title` instance or\n            dict with compatible properties\n        transition\n            Sets transition options used during Plotly.react\n            updates.\n        treemapcolorway\n            Sets the default treemap slice colors. Defaults to the\n            main `colorway` used for trace colors. If you specify a\n            new list here it can still be extended with lighter and\n            darker colors, see `extendtreemapcolors`.\n        uirevision\n            Used to allow user interactions with the plot to\n            persist after `Plotly.react` calls that are unaware of\n            these interactions. If `uirevision` is omitted, or if\n            it is given and it changed from the previous\n            `Plotly.react` call, the exact new figure is used. If\n            `uirevision` is truthy and did NOT change, any\n            attribute that has been affected by user interactions\n            and did not receive a different value in the new figure\n            will keep the interaction value. `layout.uirevision`\n            attribute serves as the default for `uirevision`\n            attributes in various sub-containers. For finer control\n            you can set these sub-attributes directly. For example,\n            if your app separately controls the data on the x and y\n            axes you might set `xaxis.uirevision=*time*` and\n            `yaxis.uirevision=*cost*`. Then if only the y data is\n            changed, you can update `yaxis.uirevision=*quantity*`\n            and the y axis range will reset but the x axis range\n            will retain any user-driven zoom.\n        uniformtext\n            :class:`plotly.graph_objects.layout.Uniformtext`\n            instance or dict with compatible properties\n        updatemenus\n            A tuple of\n            :class:`plotly.graph_objects.layout.Updatemenu`\n            instances or dicts with compatible properties\n        updatemenudefaults\n            When used in a template (as\n            layout.template.layout.updatemenudefaults), sets the\n            default property values to use for elements of\n            layout.updatemenus\n        violingap\n            Sets the gap (in plot fraction) between violins of\n            adjacent location coordinates. Has no effect on traces\n            that have \"width\" set.\n        violingroupgap\n            Sets the gap (in plot fraction) between violins of the\n            same location coordinate. Has no effect on traces that\n            have \"width\" set.\n        violinmode\n            Determines how violins at the same location coordinate\n            are displayed on the graph. If \"group\", the violins are\n            plotted next to one another centered around the shared\n            location. If \"overlay\", the violins are plotted over\n            one another, you might need to set \"opacity\" to see\n            them multiple violins. Has no effect on traces that\n            have \"width\" set.\n        waterfallgap\n            Sets the gap (in plot fraction) between bars of\n            adjacent location coordinates.\n        waterfallgroupgap\n            Sets the gap (in plot fraction) between bars of the\n            same location coordinate.\n        waterfallmode\n            Determines how bars at the same location coordinate are\n            displayed on the graph. With \"group\", the bars are\n            plotted next to one another centered around the shared\n            location. With \"overlay\", the bars are plotted over one\n            another, you might need to reduce \"opacity\" to see\n            multiple bars.\n        width\n            Sets the plot's width (in px).\n        xaxis\n            :class:`plotly.graph_objects.layout.XAxis` instance or\n            dict with compatible properties\n        yaxis\n            :class:`plotly.graph_objects.layout.YAxis` instance or\n            dict with compatible properties\n        \nDid you mean \"grid\"?\n\nBad property path:\nshowgrid\n^^^^^^^^"
     ]
    }
   ],
   "source": [
    "\n",
    "\n",
    "for file in files:\n",
    "    df = pd.read_csv(file)\n",
    "\n",
    "    fig = go.Figure(\n",
    "        data=go.Scatter(\n",
    "            x=df[\"Durchmesser\"],\n",
    "            y=df[\"q\"],\n",
    "            name=\"Incremental Volume\",\n",
    "            marker=dict(color=\"blue\"),\n",
    "            mode=\"lines+markers\"\n",
    "        )\n",
    "    )\n",
    "    \n",
    "    fig.add_trace(\n",
    "        go.Scatter(\n",
    "            x=df[\"Durchmesser\"],\n",
    "            y=df[\"Q\"],\n",
    "            yaxis=\"y2\",\n",
    "            name=\"Cumulative Volume\",\n",
    "            marker=dict(color=\"red\"),\n",
    "            mode=\"lines+markers\"\n",
    "        )\n",
    "    )\n",
    "    \n",
    "    fig.update_layout(\n",
    "        title_text=\"Partikelgrößenverteilung\",\n",
    "        legend=dict(orientation=\"h\", \n",
    "                    yanchor=\"top\",\n",
    "                    y=-0.2,\n",
    "                    xanchor=\"center\",\n",
    "                    x=0.5),         \n",
    "        xaxis=dict(\n",
    "            title=dict(text=\"Particle size (µm)\"),\n",
    "            type=\"log\", # Wichtig: X-Achse auf logarithmische Skala setzen\n",
    "            autorange=True,\n",
    "            showgrid=True, # Optional: Gitterlinien anzeigen\n",
    "            mirror=True,\n",
    "            linewidth=1, # Optional: Achsenlinienbreite\n",
    "            linecolor='black', # Optional: Achsenlinienfarbe\n",
    "            ticks='outside',\n",
    "            ticklen=5,\n",
    "            tickwidth=1, # Optional: Tick-Breite\n",
    "        ),\n",
    "        yaxis=dict(\n",
    "            title=dict(text=\"Incremental volume (%)\"),\n",
    "            side=\"left\",\n",
    "            range=[0, 10],\n",
    "            showgrid=True,\n",
    "            mirror=True,\n",
    "            linewidth=1,\n",
    "            linecolor='black',\n",
    "            ticks='outside',\n",
    "            ticklen=5,\n",
    "            tickwidth=1,\n",
    "        ),\n",
    "        yaxis2=dict(\n",
    "            title=dict(text=\"Cumulative Volume %\"),\n",
    "            side=\"right\",\n",
    "            range=[0, 100],\n",
    "            overlaying=\"y\",\n",
    "            tickmode=\"array\",\n",
    "            tickvals=[0, 20, 40, 60, 80, 100], # Explizite Tick-Werte für rechte Achse\n",
    "            showgrid=True,\n",
    "            mirror=True,\n",
    "            linewidth=1,\n",
    "            linecolor='black',\n",
    "            ticks='outside',\n",
    "            ticklen=5,\n",
    "            tickwidth=1,\n",
    "        ),\n",
    "        bargap=0, # Optional: Abstand zwischen Balken entfernen, damit sie direkt aneinander liegen\n",
    "        plot_bgcolor='white', # Optional: Plot-Hintergrund weiß setzen\n",
    "    )\n",
    "    \n",
    "    fig.write_image(str(Path.cwd().joinpath(\"images\", file.stem)) + \".png\")\n"
   ]
  },
  {
   "cell_type": "markdown",
   "id": "875bf2a2-ff7f-4dde-9308-41b0f26ab811",
   "metadata": {},
   "source": [
    "## Show Plot"
   ]
  },
  {
   "cell_type": "code",
   "execution_count": 16,
   "id": "b2ef3853-768c-4d86-a4f0-e5005e0e25f8",
   "metadata": {},
   "outputs": [
    {
     "name": "stdout",
     "output_type": "stream",
     "text": [
      "0 type for: 2557019_EtOH.txt\n",
      "1 type for: 2557010_EtOH.txt\n",
      "2 type for: 2557015_NK_EtOH.txt\n",
      "3 type for: 2557014_EtOH.txt\n",
      "4 type for: 2557027_RB_1h_EtOH.txt\n",
      "5 type for: 2557026_RB_1h_EtOH.txt\n",
      "6 type for: 2557028_RB1_30h_EtOH_1.txt\n",
      "7 type for: 2557012_EtOH.txt\n",
      "8 type for: 2557024_EtOH_3_RB1_30h.txt\n",
      "9 type for: 2557015_EtOH.txt\n",
      "10 type for: 2557024_EtOH_2.txt\n",
      "11 type for: 2557007.txt\n",
      "12 type for: 2557025(Us-bad 10 min, 24h eingelegt).txt\n",
      "13 type for: 2557028_RB1_40h_EtOH_1.txt\n",
      "14 type for: 2557002_EtOH.txt\n",
      "15 type for: 2557026_EtOH.txt\n",
      "16 type for: 2557025.txt\n",
      "17 type for: 2557019_2.txt\n",
      "18 type for: 2557021_EtOH.txt\n",
      "19 type for: 2557018_NK_EtOH.txt\n",
      "20 type for: 2557025_RB_1h_EtOH.txt\n",
      "21 type for: 2557022_EtOH.txt\n",
      "22 type for: 2557017_NK_EtOH.txt\n",
      "23 type for: 2557028_RB1_30h_EtOH_2.txt\n",
      "24 type for: 2557020.txt\n",
      "25 type for: 2557025(Us-bad 13 min, 2T_Dispex AA4040).txt\n",
      "26 type for: 2557022_2(längere Wartezeit, länger Us).txt\n",
      "27 type for: 2557008_EtOH.txt\n",
      "28 type for: 2557029_RB1_30h_EtOH.txt\n",
      "29 type for: 2557029_EtOH.txt\n",
      "30 type for: 2557021.txt\n",
      "31 type for: 2557028_EtOH.txt\n",
      "32 type for: 2557009_EtOH.txt\n",
      "33 type for: 2557022.txt\n",
      "34 type for: 2557020_EtOH.txt\n",
      "35 type for: 2557015_NK.txt\n",
      "36 type for: 2557027_EtOH.txt\n",
      "37 type for: 2557024_EtOH.txt\n",
      "38 type for: 2557023_EtOH.txt\n",
      "39 type for: 2557013_EtOH.txt\n",
      "40 type for: 2557025_EtOH.txt\n",
      "41 type for: 2557018_EtOH.txt\n",
      "42 type for: 2557010_45minRB.txt\n",
      "43 type for: 2557010.txt\n",
      "44 type for: 2557016_EtOH.txt\n",
      "45 type for: 2557005_EtOH.txt\n",
      "46 type for: 2557009.txt\n",
      "47 type for: 2557024_EtOH_2_RB50min.txt\n",
      "48 type for: 2557019.txt\n",
      "You can quit the program with 'q' or 'Q'.\n"
     ]
    },
    {
     "name": "stdin",
     "output_type": "stream",
     "text": [
      "Input:  32\n"
     ]
    },
    {
     "data": {
      "application/vnd.plotly.v1+json": {
       "config": {
        "plotlyServerURL": "https://plot.ly"
       },
       "data": [
        {
         "marker": {
          "color": "blue"
         },
         "name": "Incremental Volume",
         "type": "bar",
         "width": {
          "bdata": "cF2wKDL3rD+QIk92ph2uP7De+hONbq4/oDvKtBctrj+gYHiUbImuPyB5mElTTq4/4Ktm1x6xrT/wuoMMMCmuP/Chsw+Kl64/CChuHvjnrT8IXol1y1CuP5iZO2egIK4/CHb9xvw2rj/4x1qVYRuuP0LGyZs1F64//oSDPRFLrj8zwVrSWimuP70ahq9JIK4/wAAJVFA9rj+Uzc0fZh2uP8xvugP6QK4/CPn4crIurj8QIgm0jDGuP7ABM72GHq4/4IQGqHg0rj/gpgNndzSuP0DwelieJa4/oDvKtBctrj+Q7nFuKzKuPwCBvqEcL64/cDMRCvwurj8QKMzztC6uP3DMOiHdKq4/YHl12h8vrj9gU8V6RC2uP2AyY//AL64/4PGlrlQsrj/gINnvuzCuP8AxJtcILa4/YBEJBiUurj+AOvbRmy6uP4DusWLXLq4/QF5yxzMtrj/A5itt2C6uP+D15reLLq4/gIVJGdEtrj9gJ116JS6uPyDAxChHLq4/IH13PO8urj8gKOhV+C2uP0A0az2ELq4/gDxf8vMtrj8Am90Lcy6uP8DzL7BwLq4/wFnQNiourj/AeK6TZC6uP8C8BVw5Lq4/AC/BZjgurj/At0DdbC6uP4ACRpBBLq4/wDEwKD0urj+AyBi2SS6uP0AIDjVNLq4/QAgONU0urj8=",
          "dtype": "f8"
         },
         "x": {
          "bdata": "cT0K16NwvT/4U+Olm8TAPzMzMzMzM8M/arx0kxgExj+e76fGSzfJPyGwcmiR7cw/+n5qvHST0D+LbOf7qfHSPxkEVg4tstU/TDeJQWDl2D97FK5H4XrcP1K4HoXrUeA/46WbxCCw4j+cxCCwcmjlP1CNl24Sg+g/qvHSTWIQ7D8UrkfhehTwP9Ei2/l+avI/SgwCK4cW9T8pXI/C9Sj4P0SLbOf7qfs/GQRWDi2y/z/0/dR46SYCQJhuEoPAygRAAiuHFtnOB0ASg8DKoUULQD0K16NwPQ9AF9nO91PjEUCwcmiR7XwUQCuHFtnOdxdA4XoUrkfhGkB9PzVeuskeQG8Sg8DKoSFAi2zn+6kxJEDhehSuRyEnQMuhRbbzfSpA8tJNYhBYLkCNl24Sg2AxQIGVQ4ts5zNAeekmMQjMNkAj2/l+ahw6QNV46SYx6D1AcT0K16MgQUDLoUW2851DQPLSTWIQeEZAPzVeukm8SUBEi2zn+3lNQLbz/dR44VBABFYOLbJVU0BaZDvfTyVWQD0K16NwXVlAPQrXo3ANXUCe76fGS6NgQNEi2/l+DmNAwcqhRbbTZUAAAAAAAABpQGZmZmZmomxAvHSTGARmcEA/NV66SchyQJ7vp8ZLg3VAlkOLbOejeEA3iUFg5Th8QJqZmZmZKYBAarx0kxiDgkA=",
          "dtype": "f8"
         },
         "y": {
          "bdata": "AAAAAAAAAAAAAAAAAAAAAAAAAAAAAAAAAAAAAAAAAAAAAAAAAAAAAAAAAAAAAAAAAAAAAAAAAAAAAAAAAAAAAAAAAAAAAAAAAAAAAAAAAAAAAAAAAAAAAAAAAAAAAAAAAAAAAAAAAAAAAAAAAAAAAAAAAAAAAAAAAAAAAAAAAAAAAAAAAAAAAAAAAAAAAAAAAAAAAAAAwD97FK5H4XrEP/YoXI/C9cg/GQRWDi2yzT+gGi/dJAbRP4lBYOXQItM/bef7qfHS1T/8qfHSTWLYP99PjZduEts/FK5H4XoU3j+e76fGSzfhP9nO91PjpeM/N4lBYOXQ5j/n+6nx0k3qP+F6FK5H4e4/PQrXo3A98j9GtvP91Hj1P7Kd76fGS/k/7FG4HoXr/T/NzMzMzMwBQH0/NV66SQVA7nw/NV66CUASg8DKoUUPQGq8dJMYBBNAZmZmZmbmFkC6SQwCKwcbQC2yne+nxh5AuB6F61G4IECHFtnO9xMhQKjGSzeJQSBAXrpJDAKrHEAGgZVDi2wXQB1aZDvfzxFAUI2XbhKDCUDb+X5qvHQBQHNoke18P/c/bef7qfHS6T956SYxCKzcPwAAAAAAAAAAAAAAAAAAAAAAAAAAAAAAAAAAAAAAAAAAAAAAAAAAAAAAAAAAAAAAAAAAAAAAAAAAAAAAAAAAAAA=",
          "dtype": "f8"
         }
        },
        {
         "marker": {
          "color": "red"
         },
         "mode": "lines+markers",
         "name": "Cumulative Volume",
         "type": "scatter",
         "x": {
          "bdata": "cT0K16NwvT/4U+Olm8TAPzMzMzMzM8M/arx0kxgExj+e76fGSzfJPyGwcmiR7cw/+n5qvHST0D+LbOf7qfHSPxkEVg4tstU/TDeJQWDl2D97FK5H4XrcP1K4HoXrUeA/46WbxCCw4j+cxCCwcmjlP1CNl24Sg+g/qvHSTWIQ7D8UrkfhehTwP9Ei2/l+avI/SgwCK4cW9T8pXI/C9Sj4P0SLbOf7qfs/GQRWDi2y/z/0/dR46SYCQJhuEoPAygRAAiuHFtnOB0ASg8DKoUULQD0K16NwPQ9AF9nO91PjEUCwcmiR7XwUQCuHFtnOdxdA4XoUrkfhGkB9PzVeuskeQG8Sg8DKoSFAi2zn+6kxJEDhehSuRyEnQMuhRbbzfSpA8tJNYhBYLkCNl24Sg2AxQIGVQ4ts5zNAeekmMQjMNkAj2/l+ahw6QNV46SYx6D1AcT0K16MgQUDLoUW2851DQPLSTWIQeEZAPzVeukm8SUBEi2zn+3lNQLbz/dR44VBABFYOLbJVU0BaZDvfTyVWQD0K16NwXVlAPQrXo3ANXUCe76fGS6NgQNEi2/l+DmNAwcqhRbbTZUAAAAAAAABpQGZmZmZmomxAvHSTGARmcEA/NV66SchyQJ7vp8ZLg3VAlkOLbOejeEA3iUFg5Th8QJqZmZmZKYBAarx0kxiDgkA=",
          "dtype": "f8"
         },
         "y": {
          "bdata": "AAAAAAAAAAAAAAAAAAAAAAAAAAAAAAAAAAAAAAAAAAAAAAAAAAAAAAAAAAAAAAAAAAAAAAAAAAAAAAAAAAAAAAAAAAAAAAAAAAAAAAAAAAAAAAAAAAAAAAAAAAAAAAAAAAAAAAAAAAAAAAAAAAAAAAAAAAAAAAAAAAAAAAAAAAAAAAAAAAAAAAAAAAAAAAAAAAAAAAAAwD89CtejcD3SP7gehetRuN4/YhBYObTI5j+yne+nxkvvPzvfT42XbvQ/F9nO91Pj+T+WQ4ts5/v/P/yp8dJNYgNAvp8aL90kB0Cmm8QgsHILQMl2vp8aLxBA1XjpJjEIE0BSuB6F61EWQMl2vp8aLxpAPQrXo3C9HkDn+6nx0g0iQJ7vp8ZLNyVA2/l+arz0KEAOLbKd72ctQLByaJHtXDFATmIQWDmUNECwcmiR7Xw4QMuhRbbzPT1Asp3vp8Z7QUDNzMzMzNxEQC/dJAaBtUhAwcqhRbbjTEAxCKwcWpRQQAaBlUOLnFJArBxaZDtnVEC8dJMYBN5VQF66SQwC+1ZA16NwPQrHV0Cmm8QgsFJYQEjhehSur1hAF9nO91PjWEAAAAAAAABZQAAAAAAAAFlAAAAAAAAAWUAAAAAAAABZQAAAAAAAAFlAAAAAAAAAWUAAAAAAAABZQAAAAAAAAFlAAAAAAAAAWUA=",
          "dtype": "f8"
         },
         "yaxis": "y2"
        }
       ],
       "layout": {
        "bargap": 0,
        "legend": {
         "orientation": "h"
        },
        "plot_bgcolor": "white",
        "template": {
         "data": {
          "bar": [
           {
            "error_x": {
             "color": "#2a3f5f"
            },
            "error_y": {
             "color": "#2a3f5f"
            },
            "marker": {
             "line": {
              "color": "#E5ECF6",
              "width": 0.5
             },
             "pattern": {
              "fillmode": "overlay",
              "size": 10,
              "solidity": 0.2
             }
            },
            "type": "bar"
           }
          ],
          "barpolar": [
           {
            "marker": {
             "line": {
              "color": "#E5ECF6",
              "width": 0.5
             },
             "pattern": {
              "fillmode": "overlay",
              "size": 10,
              "solidity": 0.2
             }
            },
            "type": "barpolar"
           }
          ],
          "carpet": [
           {
            "aaxis": {
             "endlinecolor": "#2a3f5f",
             "gridcolor": "white",
             "linecolor": "white",
             "minorgridcolor": "white",
             "startlinecolor": "#2a3f5f"
            },
            "baxis": {
             "endlinecolor": "#2a3f5f",
             "gridcolor": "white",
             "linecolor": "white",
             "minorgridcolor": "white",
             "startlinecolor": "#2a3f5f"
            },
            "type": "carpet"
           }
          ],
          "choropleth": [
           {
            "colorbar": {
             "outlinewidth": 0,
             "ticks": ""
            },
            "type": "choropleth"
           }
          ],
          "contour": [
           {
            "colorbar": {
             "outlinewidth": 0,
             "ticks": ""
            },
            "colorscale": [
             [
              0,
              "#0d0887"
             ],
             [
              0.1111111111111111,
              "#46039f"
             ],
             [
              0.2222222222222222,
              "#7201a8"
             ],
             [
              0.3333333333333333,
              "#9c179e"
             ],
             [
              0.4444444444444444,
              "#bd3786"
             ],
             [
              0.5555555555555556,
              "#d8576b"
             ],
             [
              0.6666666666666666,
              "#ed7953"
             ],
             [
              0.7777777777777778,
              "#fb9f3a"
             ],
             [
              0.8888888888888888,
              "#fdca26"
             ],
             [
              1,
              "#f0f921"
             ]
            ],
            "type": "contour"
           }
          ],
          "contourcarpet": [
           {
            "colorbar": {
             "outlinewidth": 0,
             "ticks": ""
            },
            "type": "contourcarpet"
           }
          ],
          "heatmap": [
           {
            "colorbar": {
             "outlinewidth": 0,
             "ticks": ""
            },
            "colorscale": [
             [
              0,
              "#0d0887"
             ],
             [
              0.1111111111111111,
              "#46039f"
             ],
             [
              0.2222222222222222,
              "#7201a8"
             ],
             [
              0.3333333333333333,
              "#9c179e"
             ],
             [
              0.4444444444444444,
              "#bd3786"
             ],
             [
              0.5555555555555556,
              "#d8576b"
             ],
             [
              0.6666666666666666,
              "#ed7953"
             ],
             [
              0.7777777777777778,
              "#fb9f3a"
             ],
             [
              0.8888888888888888,
              "#fdca26"
             ],
             [
              1,
              "#f0f921"
             ]
            ],
            "type": "heatmap"
           }
          ],
          "histogram": [
           {
            "marker": {
             "pattern": {
              "fillmode": "overlay",
              "size": 10,
              "solidity": 0.2
             }
            },
            "type": "histogram"
           }
          ],
          "histogram2d": [
           {
            "colorbar": {
             "outlinewidth": 0,
             "ticks": ""
            },
            "colorscale": [
             [
              0,
              "#0d0887"
             ],
             [
              0.1111111111111111,
              "#46039f"
             ],
             [
              0.2222222222222222,
              "#7201a8"
             ],
             [
              0.3333333333333333,
              "#9c179e"
             ],
             [
              0.4444444444444444,
              "#bd3786"
             ],
             [
              0.5555555555555556,
              "#d8576b"
             ],
             [
              0.6666666666666666,
              "#ed7953"
             ],
             [
              0.7777777777777778,
              "#fb9f3a"
             ],
             [
              0.8888888888888888,
              "#fdca26"
             ],
             [
              1,
              "#f0f921"
             ]
            ],
            "type": "histogram2d"
           }
          ],
          "histogram2dcontour": [
           {
            "colorbar": {
             "outlinewidth": 0,
             "ticks": ""
            },
            "colorscale": [
             [
              0,
              "#0d0887"
             ],
             [
              0.1111111111111111,
              "#46039f"
             ],
             [
              0.2222222222222222,
              "#7201a8"
             ],
             [
              0.3333333333333333,
              "#9c179e"
             ],
             [
              0.4444444444444444,
              "#bd3786"
             ],
             [
              0.5555555555555556,
              "#d8576b"
             ],
             [
              0.6666666666666666,
              "#ed7953"
             ],
             [
              0.7777777777777778,
              "#fb9f3a"
             ],
             [
              0.8888888888888888,
              "#fdca26"
             ],
             [
              1,
              "#f0f921"
             ]
            ],
            "type": "histogram2dcontour"
           }
          ],
          "mesh3d": [
           {
            "colorbar": {
             "outlinewidth": 0,
             "ticks": ""
            },
            "type": "mesh3d"
           }
          ],
          "parcoords": [
           {
            "line": {
             "colorbar": {
              "outlinewidth": 0,
              "ticks": ""
             }
            },
            "type": "parcoords"
           }
          ],
          "pie": [
           {
            "automargin": true,
            "type": "pie"
           }
          ],
          "scatter": [
           {
            "fillpattern": {
             "fillmode": "overlay",
             "size": 10,
             "solidity": 0.2
            },
            "type": "scatter"
           }
          ],
          "scatter3d": [
           {
            "line": {
             "colorbar": {
              "outlinewidth": 0,
              "ticks": ""
             }
            },
            "marker": {
             "colorbar": {
              "outlinewidth": 0,
              "ticks": ""
             }
            },
            "type": "scatter3d"
           }
          ],
          "scattercarpet": [
           {
            "marker": {
             "colorbar": {
              "outlinewidth": 0,
              "ticks": ""
             }
            },
            "type": "scattercarpet"
           }
          ],
          "scattergeo": [
           {
            "marker": {
             "colorbar": {
              "outlinewidth": 0,
              "ticks": ""
             }
            },
            "type": "scattergeo"
           }
          ],
          "scattergl": [
           {
            "marker": {
             "colorbar": {
              "outlinewidth": 0,
              "ticks": ""
             }
            },
            "type": "scattergl"
           }
          ],
          "scattermap": [
           {
            "marker": {
             "colorbar": {
              "outlinewidth": 0,
              "ticks": ""
             }
            },
            "type": "scattermap"
           }
          ],
          "scattermapbox": [
           {
            "marker": {
             "colorbar": {
              "outlinewidth": 0,
              "ticks": ""
             }
            },
            "type": "scattermapbox"
           }
          ],
          "scatterpolar": [
           {
            "marker": {
             "colorbar": {
              "outlinewidth": 0,
              "ticks": ""
             }
            },
            "type": "scatterpolar"
           }
          ],
          "scatterpolargl": [
           {
            "marker": {
             "colorbar": {
              "outlinewidth": 0,
              "ticks": ""
             }
            },
            "type": "scatterpolargl"
           }
          ],
          "scatterternary": [
           {
            "marker": {
             "colorbar": {
              "outlinewidth": 0,
              "ticks": ""
             }
            },
            "type": "scatterternary"
           }
          ],
          "surface": [
           {
            "colorbar": {
             "outlinewidth": 0,
             "ticks": ""
            },
            "colorscale": [
             [
              0,
              "#0d0887"
             ],
             [
              0.1111111111111111,
              "#46039f"
             ],
             [
              0.2222222222222222,
              "#7201a8"
             ],
             [
              0.3333333333333333,
              "#9c179e"
             ],
             [
              0.4444444444444444,
              "#bd3786"
             ],
             [
              0.5555555555555556,
              "#d8576b"
             ],
             [
              0.6666666666666666,
              "#ed7953"
             ],
             [
              0.7777777777777778,
              "#fb9f3a"
             ],
             [
              0.8888888888888888,
              "#fdca26"
             ],
             [
              1,
              "#f0f921"
             ]
            ],
            "type": "surface"
           }
          ],
          "table": [
           {
            "cells": {
             "fill": {
              "color": "#EBF0F8"
             },
             "line": {
              "color": "white"
             }
            },
            "header": {
             "fill": {
              "color": "#C8D4E3"
             },
             "line": {
              "color": "white"
             }
            },
            "type": "table"
           }
          ]
         },
         "layout": {
          "annotationdefaults": {
           "arrowcolor": "#2a3f5f",
           "arrowhead": 0,
           "arrowwidth": 1
          },
          "autotypenumbers": "strict",
          "coloraxis": {
           "colorbar": {
            "outlinewidth": 0,
            "ticks": ""
           }
          },
          "colorscale": {
           "diverging": [
            [
             0,
             "#8e0152"
            ],
            [
             0.1,
             "#c51b7d"
            ],
            [
             0.2,
             "#de77ae"
            ],
            [
             0.3,
             "#f1b6da"
            ],
            [
             0.4,
             "#fde0ef"
            ],
            [
             0.5,
             "#f7f7f7"
            ],
            [
             0.6,
             "#e6f5d0"
            ],
            [
             0.7,
             "#b8e186"
            ],
            [
             0.8,
             "#7fbc41"
            ],
            [
             0.9,
             "#4d9221"
            ],
            [
             1,
             "#276419"
            ]
           ],
           "sequential": [
            [
             0,
             "#0d0887"
            ],
            [
             0.1111111111111111,
             "#46039f"
            ],
            [
             0.2222222222222222,
             "#7201a8"
            ],
            [
             0.3333333333333333,
             "#9c179e"
            ],
            [
             0.4444444444444444,
             "#bd3786"
            ],
            [
             0.5555555555555556,
             "#d8576b"
            ],
            [
             0.6666666666666666,
             "#ed7953"
            ],
            [
             0.7777777777777778,
             "#fb9f3a"
            ],
            [
             0.8888888888888888,
             "#fdca26"
            ],
            [
             1,
             "#f0f921"
            ]
           ],
           "sequentialminus": [
            [
             0,
             "#0d0887"
            ],
            [
             0.1111111111111111,
             "#46039f"
            ],
            [
             0.2222222222222222,
             "#7201a8"
            ],
            [
             0.3333333333333333,
             "#9c179e"
            ],
            [
             0.4444444444444444,
             "#bd3786"
            ],
            [
             0.5555555555555556,
             "#d8576b"
            ],
            [
             0.6666666666666666,
             "#ed7953"
            ],
            [
             0.7777777777777778,
             "#fb9f3a"
            ],
            [
             0.8888888888888888,
             "#fdca26"
            ],
            [
             1,
             "#f0f921"
            ]
           ]
          },
          "colorway": [
           "#636efa",
           "#EF553B",
           "#00cc96",
           "#ab63fa",
           "#FFA15A",
           "#19d3f3",
           "#FF6692",
           "#B6E880",
           "#FF97FF",
           "#FECB52"
          ],
          "font": {
           "color": "#2a3f5f"
          },
          "geo": {
           "bgcolor": "white",
           "lakecolor": "white",
           "landcolor": "#E5ECF6",
           "showlakes": true,
           "showland": true,
           "subunitcolor": "white"
          },
          "hoverlabel": {
           "align": "left"
          },
          "hovermode": "closest",
          "mapbox": {
           "style": "light"
          },
          "paper_bgcolor": "white",
          "plot_bgcolor": "#E5ECF6",
          "polar": {
           "angularaxis": {
            "gridcolor": "white",
            "linecolor": "white",
            "ticks": ""
           },
           "bgcolor": "#E5ECF6",
           "radialaxis": {
            "gridcolor": "white",
            "linecolor": "white",
            "ticks": ""
           }
          },
          "scene": {
           "xaxis": {
            "backgroundcolor": "#E5ECF6",
            "gridcolor": "white",
            "gridwidth": 2,
            "linecolor": "white",
            "showbackground": true,
            "ticks": "",
            "zerolinecolor": "white"
           },
           "yaxis": {
            "backgroundcolor": "#E5ECF6",
            "gridcolor": "white",
            "gridwidth": 2,
            "linecolor": "white",
            "showbackground": true,
            "ticks": "",
            "zerolinecolor": "white"
           },
           "zaxis": {
            "backgroundcolor": "#E5ECF6",
            "gridcolor": "white",
            "gridwidth": 2,
            "linecolor": "white",
            "showbackground": true,
            "ticks": "",
            "zerolinecolor": "white"
           }
          },
          "shapedefaults": {
           "line": {
            "color": "#2a3f5f"
           }
          },
          "ternary": {
           "aaxis": {
            "gridcolor": "white",
            "linecolor": "white",
            "ticks": ""
           },
           "baxis": {
            "gridcolor": "white",
            "linecolor": "white",
            "ticks": ""
           },
           "bgcolor": "#E5ECF6",
           "caxis": {
            "gridcolor": "white",
            "linecolor": "white",
            "ticks": ""
           }
          },
          "title": {
           "x": 0.05
          },
          "xaxis": {
           "automargin": true,
           "gridcolor": "white",
           "linecolor": "white",
           "ticks": "",
           "title": {
            "standoff": 15
           },
           "zerolinecolor": "white",
           "zerolinewidth": 2
          },
          "yaxis": {
           "automargin": true,
           "gridcolor": "white",
           "linecolor": "white",
           "ticks": "",
           "title": {
            "standoff": 15
           },
           "zerolinecolor": "white",
           "zerolinewidth": 2
          }
         }
        },
        "title": {
         "text": "Partikelgrößenverteilung"
        },
        "xaxis": {
         "autorange": true,
         "linecolor": "black",
         "linewidth": 1,
         "mirror": true,
         "showgrid": true,
         "ticklen": 5,
         "ticks": "outside",
         "tickwidth": 1,
         "title": {
          "text": "Particle size (µm)"
         },
         "type": "log"
        },
        "yaxis": {
         "linecolor": "black",
         "linewidth": 1,
         "mirror": true,
         "range": [
          0,
          10
         ],
         "showgrid": true,
         "side": "left",
         "ticklen": 5,
         "ticks": "outside",
         "tickwidth": 1,
         "title": {
          "text": "Incremental volume (%)"
         }
        },
        "yaxis2": {
         "linecolor": "black",
         "linewidth": 1,
         "mirror": true,
         "overlaying": "y",
         "range": [
          0,
          100
         ],
         "showgrid": true,
         "side": "right",
         "ticklen": 5,
         "tickmode": "array",
         "ticks": "outside",
         "tickvals": [
          0,
          20,
          40,
          60,
          80,
          100
         ],
         "tickwidth": 1,
         "title": {
          "text": "Cumulative Volume %"
         }
        }
       }
      },
      "image/png": "[encoded data removed]"
     },
     "metadata": {},
     "output_type": "display_data"
    }
   ],
   "source": [
    "# Dokumentation zu mehrfachen Axen auf -> https://plotly.com/python/multiple-axes/\n",
    "\n",
    "# Follow the instructions via the text input field!\n",
    "df = loader.get_csv_file()\n",
    "\n",
    "# The Plotting\n",
    "try:\n",
    "    \n",
    "    # Berechnung der Balkenbreite für logarithmische X-Achse\n",
    "    log_diameters = np.log10(df[\"Durchmesser\"])\n",
    "    widths = np.diff(log_diameters)\n",
    "    # Füge einen Wert für den letzten Punkt hinzu\n",
    "    widths = np.append(widths, widths[-1])\n",
    "    \n",
    "    fig = go.Figure(\n",
    "        data=go.Bar(\n",
    "            x=df[\"Durchmesser\"],\n",
    "            y=df[\"q\"],\n",
    "            name=\"Incremental Volume\",\n",
    "            marker=dict(color=\"blue\"),\n",
    "            width=widths\n",
    "        )\n",
    "    )\n",
    "    \n",
    "    fig.add_trace(\n",
    "        go.Scatter(\n",
    "            x=df[\"Durchmesser\"],\n",
    "            y=df[\"Q\"],\n",
    "            yaxis=\"y2\",\n",
    "            name=\"Cumulative Volume\",\n",
    "            marker=dict(color=\"red\"),\n",
    "            mode=\"lines+markers\"\n",
    "        )\n",
    "    )\n",
    "    \n",
    "    fig.update_layout(\n",
    "        title_text=\"Partikelgrößenverteilung\",\n",
    "        legend=dict(orientation=\"h\"),         \n",
    "        xaxis=dict(\n",
    "            title=dict(text=\"Particle size (µm)\"),\n",
    "            type=\"log\", # Wichtig: X-Achse auf logarithmische Skala setzen\n",
    "            autorange=True,\n",
    "            showgrid=True, # Optional: Gitterlinien anzeigen\n",
    "            mirror=True,\n",
    "            linewidth=1, # Optional: Achsenlinienbreite\n",
    "            linecolor='black', # Optional: Achsenlinienfarbe\n",
    "            ticks='outside',\n",
    "            ticklen=5,\n",
    "            tickwidth=1, # Optional: Tick-Breite\n",
    "        ),\n",
    "        yaxis=dict(\n",
    "            title=dict(text=\"Incremental volume (%)\"),\n",
    "            side=\"left\",\n",
    "            range=[0, 10],\n",
    "            showgrid=True,\n",
    "            mirror=True,\n",
    "            linewidth=1,\n",
    "            linecolor='black',\n",
    "            ticks='outside',\n",
    "            ticklen=5,\n",
    "            tickwidth=1,\n",
    "        ),\n",
    "        yaxis2=dict(\n",
    "            title=dict(text=\"Cumulative Volume %\"),\n",
    "            side=\"right\",\n",
    "            range=[0, 100],\n",
    "            overlaying=\"y\",\n",
    "            tickmode=\"array\",\n",
    "            tickvals=[0, 20, 40, 60, 80, 100], # Explizite Tick-Werte für rechte Achse\n",
    "            showgrid=True,\n",
    "            mirror=True,\n",
    "            linewidth=1,\n",
    "            linecolor='black',\n",
    "            ticks='outside',\n",
    "            ticklen=5,\n",
    "            tickwidth=1,\n",
    "        ),\n",
    "        bargap=0, # Optional: Abstand zwischen Balken entfernen, damit sie direkt aneinander liegen\n",
    "        plot_bgcolor='white' # Optional: Plot-Hintergrund weiß setzen\n",
    "    )\n",
    "    fig.show()\n",
    "    \n",
    "except TypeError:\n",
    "    print(\"\\nProgram interrupted by user.\")"
   ]
  },
  {
   "cell_type": "code",
   "execution_count": 4,
   "id": "243e9923-5964-45cb-b86d-ae07229b274e",
   "metadata": {},
   "outputs": [
    {
     "data": {
      "application/vnd.plotly.v1+json": {
       "config": {
        "plotlyServerURL": "https://plot.ly"
       },
       "data": [
        {
         "marker": {
          "color": "blue"
         },
         "mode": "lines+markers",
         "name": "Incremental Volume",
         "type": "scatter",
         "x": {
          "bdata": "cT0K16NwvT/4U+Olm8TAPzMzMzMzM8M/arx0kxgExj+e76fGSzfJPyGwcmiR7cw/+n5qvHST0D+LbOf7qfHSPxkEVg4tstU/TDeJQWDl2D97FK5H4XrcP1K4HoXrUeA/46WbxCCw4j+cxCCwcmjlP1CNl24Sg+g/qvHSTWIQ7D8UrkfhehTwP9Ei2/l+avI/SgwCK4cW9T8pXI/C9Sj4P0SLbOf7qfs/GQRWDi2y/z/0/dR46SYCQJhuEoPAygRAAiuHFtnOB0ASg8DKoUULQD0K16NwPQ9AF9nO91PjEUCwcmiR7XwUQCuHFtnOdxdA4XoUrkfhGkB9PzVeuskeQG8Sg8DKoSFAi2zn+6kxJEDhehSuRyEnQMuhRbbzfSpA8tJNYhBYLkCNl24Sg2AxQIGVQ4ts5zNAeekmMQjMNkAj2/l+ahw6QNV46SYx6D1AcT0K16MgQUDLoUW2851DQPLSTWIQeEZAPzVeukm8SUBEi2zn+3lNQLbz/dR44VBABFYOLbJVU0BaZDvfTyVWQD0K16NwXVlAPQrXo3ANXUCe76fGS6NgQNEi2/l+DmNAwcqhRbbTZUAAAAAAAABpQGZmZmZmomxAvHSTGARmcEA/NV66SchyQJ7vp8ZLg3VAlkOLbOejeEA3iUFg5Th8QJqZmZmZKYBAarx0kxiDgkA=",
          "dtype": "f8"
         },
         "y": {
          "bdata": "AAAAAAAAAAAAAAAAAAAAAAAAAAAAAAAAAAAAAAAAAAAAAAAAAAAAAAAAAAAAAAAAAAAAAAAAAAAAAAAAAAAAAAAAAAAAAAAAAAAAAAAAAAAAAAAAAAAAAAAAAAAAAAAAAAAAAAAAAAAAAAAAAAAAAAAAAAAAAAAAoBov3SQGwT/NzMzMzMzMP7Kd76fGS9c/lkOLbOf74T8QWDm0yHbqP3sUrkfhevI/+n5qvHST+D/2KFyPwvX+P28Sg8DKoQJAJQaBlUOLBkAZBFYOLbIJQLKd76fGSwxAF9nO91PjDkDdJAaBlcMQQCUGgZVDixFAEFg5tMh2EkBiEFg5tEgTQCGwcmiR7RNAiUFg5dCiFECgGi/dJAYVQN0kBoGVQxVAUrgehetRFUCamZmZmRkVQDvfT42XbhRAke18PzVeE0AzMzMzM7MRQCGwcmiR7Q5A8KfGSzeJCUACK4cW2c4DQHnpJjEIrPw/Rrbz/dR48z8hsHJoke3oPxBYObTIdt4/AAAAAAAAAAAAAAAAAAAAAAAAAAAAAAAAAAAAAAAAAAAAAAAAAAAAAAAAAAAAAAAAAAAAAAAAAAAAAAAAAAAAAAAAAAAAAAAAAAAAAAAAAAAAAAAAAAAAAAAAAAAAAAAAAAAAAAAAAAAAAAAAAAAAAAAAAAAAAAAAAAAAAAAAAAA=",
          "dtype": "f8"
         }
        },
        {
         "marker": {
          "color": "red"
         },
         "mode": "lines+markers",
         "name": "Cumulative Volume",
         "type": "scatter",
         "x": {
          "bdata": "cT0K16NwvT/4U+Olm8TAPzMzMzMzM8M/arx0kxgExj+e76fGSzfJPyGwcmiR7cw/+n5qvHST0D+LbOf7qfHSPxkEVg4tstU/TDeJQWDl2D97FK5H4XrcP1K4HoXrUeA/46WbxCCw4j+cxCCwcmjlP1CNl24Sg+g/qvHSTWIQ7D8UrkfhehTwP9Ei2/l+avI/SgwCK4cW9T8pXI/C9Sj4P0SLbOf7qfs/GQRWDi2y/z/0/dR46SYCQJhuEoPAygRAAiuHFtnOB0ASg8DKoUULQD0K16NwPQ9AF9nO91PjEUCwcmiR7XwUQCuHFtnOdxdA4XoUrkfhGkB9PzVeuskeQG8Sg8DKoSFAi2zn+6kxJEDhehSuRyEnQMuhRbbzfSpA8tJNYhBYLkCNl24Sg2AxQIGVQ4ts5zNAeekmMQjMNkAj2/l+ahw6QNV46SYx6D1AcT0K16MgQUDLoUW2851DQPLSTWIQeEZAPzVeukm8SUBEi2zn+3lNQLbz/dR44VBABFYOLbJVU0BaZDvfTyVWQD0K16NwXVlAPQrXo3ANXUCe76fGS6NgQNEi2/l+DmNAwcqhRbbTZUAAAAAAAABpQGZmZmZmomxAvHSTGARmcEA/NV66SchyQJ7vp8ZLg3VAlkOLbOejeEA3iUFg5Th8QJqZmZmZKYBAarx0kxiDgkA=",
          "dtype": "f8"
         },
         "y": {
          "bdata": "AAAAAAAAAAAAAAAAAAAAAAAAAAAAAAAAAAAAAAAAAAAAAAAAAAAAAAAAAAAAAAAAAAAAAAAAAAAAAAAAAAAAAAAAAAAAAAAAAAAAAAAAAAAAAAAAAAAAAAAAAAAAAAAAAAAAAAAAAAAAAAAAAAAAAAAAAAAAAAAAoBov3SQGwT9g5dAi2/nWP4lBYOXQIuc/j8L1KFyP9D9MN4lBYOUAQIlBYOXQIgpAg8DKoUU2E0DByqFFtvMaQG8Sg8DKISJA+FPjpZvEJ0CLbOf7qTEuQPyp8dJNojJAH4XrUbh+NkBWDi2yna86QN9PjZduEj9A8tJNYhDYQUD+1HjpJkFEQAIrhxbZvkZAMzMzMzNTSUBqvHSTGPRLQCPb+X5qnE5AF9nO91OjUECwcmiR7fRRQKRwPQrXO1NAbxKDwMpxVECiRbbz/YxVQCPb+X5qhFZAYhBYObRQV0C6SQwCK+9XQGDl0CLbYVhASOF6FK6vWECoxks3ieFYQAAAAAAAAFlAAAAAAAAAWUAAAAAAAABZQAAAAAAAAFlAAAAAAAAAWUAAAAAAAABZQAAAAAAAAFlAAAAAAAAAWUAAAAAAAABZQAAAAAAAAFlAAAAAAAAAWUAAAAAAAABZQAAAAAAAAFlAAAAAAAAAWUAAAAAAAABZQAAAAAAAAFlAAAAAAAAAWUA=",
          "dtype": "f8"
         },
         "yaxis": "y2"
        }
       ],
       "layout": {
        "bargap": 0,
        "legend": {
         "orientation": "h"
        },
        "plot_bgcolor": "white",
        "template": {
         "data": {
          "bar": [
           {
            "error_x": {
             "color": "#2a3f5f"
            },
            "error_y": {
             "color": "#2a3f5f"
            },
            "marker": {
             "line": {
              "color": "#E5ECF6",
              "width": 0.5
             },
             "pattern": {
              "fillmode": "overlay",
              "size": 10,
              "solidity": 0.2
             }
            },
            "type": "bar"
           }
          ],
          "barpolar": [
           {
            "marker": {
             "line": {
              "color": "#E5ECF6",
              "width": 0.5
             },
             "pattern": {
              "fillmode": "overlay",
              "size": 10,
              "solidity": 0.2
             }
            },
            "type": "barpolar"
           }
          ],
          "carpet": [
           {
            "aaxis": {
             "endlinecolor": "#2a3f5f",
             "gridcolor": "white",
             "linecolor": "white",
             "minorgridcolor": "white",
             "startlinecolor": "#2a3f5f"
            },
            "baxis": {
             "endlinecolor": "#2a3f5f",
             "gridcolor": "white",
             "linecolor": "white",
             "minorgridcolor": "white",
             "startlinecolor": "#2a3f5f"
            },
            "type": "carpet"
           }
          ],
          "choropleth": [
           {
            "colorbar": {
             "outlinewidth": 0,
             "ticks": ""
            },
            "type": "choropleth"
           }
          ],
          "contour": [
           {
            "colorbar": {
             "outlinewidth": 0,
             "ticks": ""
            },
            "colorscale": [
             [
              0,
              "#0d0887"
             ],
             [
              0.1111111111111111,
              "#46039f"
             ],
             [
              0.2222222222222222,
              "#7201a8"
             ],
             [
              0.3333333333333333,
              "#9c179e"
             ],
             [
              0.4444444444444444,
              "#bd3786"
             ],
             [
              0.5555555555555556,
              "#d8576b"
             ],
             [
              0.6666666666666666,
              "#ed7953"
             ],
             [
              0.7777777777777778,
              "#fb9f3a"
             ],
             [
              0.8888888888888888,
              "#fdca26"
             ],
             [
              1,
              "#f0f921"
             ]
            ],
            "type": "contour"
           }
          ],
          "contourcarpet": [
           {
            "colorbar": {
             "outlinewidth": 0,
             "ticks": ""
            },
            "type": "contourcarpet"
           }
          ],
          "heatmap": [
           {
            "colorbar": {
             "outlinewidth": 0,
             "ticks": ""
            },
            "colorscale": [
             [
              0,
              "#0d0887"
             ],
             [
              0.1111111111111111,
              "#46039f"
             ],
             [
              0.2222222222222222,
              "#7201a8"
             ],
             [
              0.3333333333333333,
              "#9c179e"
             ],
             [
              0.4444444444444444,
              "#bd3786"
             ],
             [
              0.5555555555555556,
              "#d8576b"
             ],
             [
              0.6666666666666666,
              "#ed7953"
             ],
             [
              0.7777777777777778,
              "#fb9f3a"
             ],
             [
              0.8888888888888888,
              "#fdca26"
             ],
             [
              1,
              "#f0f921"
             ]
            ],
            "type": "heatmap"
           }
          ],
          "histogram": [
           {
            "marker": {
             "pattern": {
              "fillmode": "overlay",
              "size": 10,
              "solidity": 0.2
             }
            },
            "type": "histogram"
           }
          ],
          "histogram2d": [
           {
            "colorbar": {
             "outlinewidth": 0,
             "ticks": ""
            },
            "colorscale": [
             [
              0,
              "#0d0887"
             ],
             [
              0.1111111111111111,
              "#46039f"
             ],
             [
              0.2222222222222222,
              "#7201a8"
             ],
             [
              0.3333333333333333,
              "#9c179e"
             ],
             [
              0.4444444444444444,
              "#bd3786"
             ],
             [
              0.5555555555555556,
              "#d8576b"
             ],
             [
              0.6666666666666666,
              "#ed7953"
             ],
             [
              0.7777777777777778,
              "#fb9f3a"
             ],
             [
              0.8888888888888888,
              "#fdca26"
             ],
             [
              1,
              "#f0f921"
             ]
            ],
            "type": "histogram2d"
           }
          ],
          "histogram2dcontour": [
           {
            "colorbar": {
             "outlinewidth": 0,
             "ticks": ""
            },
            "colorscale": [
             [
              0,
              "#0d0887"
             ],
             [
              0.1111111111111111,
              "#46039f"
             ],
             [
              0.2222222222222222,
              "#7201a8"
             ],
             [
              0.3333333333333333,
              "#9c179e"
             ],
             [
              0.4444444444444444,
              "#bd3786"
             ],
             [
              0.5555555555555556,
              "#d8576b"
             ],
             [
              0.6666666666666666,
              "#ed7953"
             ],
             [
              0.7777777777777778,
              "#fb9f3a"
             ],
             [
              0.8888888888888888,
              "#fdca26"
             ],
             [
              1,
              "#f0f921"
             ]
            ],
            "type": "histogram2dcontour"
           }
          ],
          "mesh3d": [
           {
            "colorbar": {
             "outlinewidth": 0,
             "ticks": ""
            },
            "type": "mesh3d"
           }
          ],
          "parcoords": [
           {
            "line": {
             "colorbar": {
              "outlinewidth": 0,
              "ticks": ""
             }
            },
            "type": "parcoords"
           }
          ],
          "pie": [
           {
            "automargin": true,
            "type": "pie"
           }
          ],
          "scatter": [
           {
            "fillpattern": {
             "fillmode": "overlay",
             "size": 10,
             "solidity": 0.2
            },
            "type": "scatter"
           }
          ],
          "scatter3d": [
           {
            "line": {
             "colorbar": {
              "outlinewidth": 0,
              "ticks": ""
             }
            },
            "marker": {
             "colorbar": {
              "outlinewidth": 0,
              "ticks": ""
             }
            },
            "type": "scatter3d"
           }
          ],
          "scattercarpet": [
           {
            "marker": {
             "colorbar": {
              "outlinewidth": 0,
              "ticks": ""
             }
            },
            "type": "scattercarpet"
           }
          ],
          "scattergeo": [
           {
            "marker": {
             "colorbar": {
              "outlinewidth": 0,
              "ticks": ""
             }
            },
            "type": "scattergeo"
           }
          ],
          "scattergl": [
           {
            "marker": {
             "colorbar": {
              "outlinewidth": 0,
              "ticks": ""
             }
            },
            "type": "scattergl"
           }
          ],
          "scattermap": [
           {
            "marker": {
             "colorbar": {
              "outlinewidth": 0,
              "ticks": ""
             }
            },
            "type": "scattermap"
           }
          ],
          "scattermapbox": [
           {
            "marker": {
             "colorbar": {
              "outlinewidth": 0,
              "ticks": ""
             }
            },
            "type": "scattermapbox"
           }
          ],
          "scatterpolar": [
           {
            "marker": {
             "colorbar": {
              "outlinewidth": 0,
              "ticks": ""
             }
            },
            "type": "scatterpolar"
           }
          ],
          "scatterpolargl": [
           {
            "marker": {
             "colorbar": {
              "outlinewidth": 0,
              "ticks": ""
             }
            },
            "type": "scatterpolargl"
           }
          ],
          "scatterternary": [
           {
            "marker": {
             "colorbar": {
              "outlinewidth": 0,
              "ticks": ""
             }
            },
            "type": "scatterternary"
           }
          ],
          "surface": [
           {
            "colorbar": {
             "outlinewidth": 0,
             "ticks": ""
            },
            "colorscale": [
             [
              0,
              "#0d0887"
             ],
             [
              0.1111111111111111,
              "#46039f"
             ],
             [
              0.2222222222222222,
              "#7201a8"
             ],
             [
              0.3333333333333333,
              "#9c179e"
             ],
             [
              0.4444444444444444,
              "#bd3786"
             ],
             [
              0.5555555555555556,
              "#d8576b"
             ],
             [
              0.6666666666666666,
              "#ed7953"
             ],
             [
              0.7777777777777778,
              "#fb9f3a"
             ],
             [
              0.8888888888888888,
              "#fdca26"
             ],
             [
              1,
              "#f0f921"
             ]
            ],
            "type": "surface"
           }
          ],
          "table": [
           {
            "cells": {
             "fill": {
              "color": "#EBF0F8"
             },
             "line": {
              "color": "white"
             }
            },
            "header": {
             "fill": {
              "color": "#C8D4E3"
             },
             "line": {
              "color": "white"
             }
            },
            "type": "table"
           }
          ]
         },
         "layout": {
          "annotationdefaults": {
           "arrowcolor": "#2a3f5f",
           "arrowhead": 0,
           "arrowwidth": 1
          },
          "autotypenumbers": "strict",
          "coloraxis": {
           "colorbar": {
            "outlinewidth": 0,
            "ticks": ""
           }
          },
          "colorscale": {
           "diverging": [
            [
             0,
             "#8e0152"
            ],
            [
             0.1,
             "#c51b7d"
            ],
            [
             0.2,
             "#de77ae"
            ],
            [
             0.3,
             "#f1b6da"
            ],
            [
             0.4,
             "#fde0ef"
            ],
            [
             0.5,
             "#f7f7f7"
            ],
            [
             0.6,
             "#e6f5d0"
            ],
            [
             0.7,
             "#b8e186"
            ],
            [
             0.8,
             "#7fbc41"
            ],
            [
             0.9,
             "#4d9221"
            ],
            [
             1,
             "#276419"
            ]
           ],
           "sequential": [
            [
             0,
             "#0d0887"
            ],
            [
             0.1111111111111111,
             "#46039f"
            ],
            [
             0.2222222222222222,
             "#7201a8"
            ],
            [
             0.3333333333333333,
             "#9c179e"
            ],
            [
             0.4444444444444444,
             "#bd3786"
            ],
            [
             0.5555555555555556,
             "#d8576b"
            ],
            [
             0.6666666666666666,
             "#ed7953"
            ],
            [
             0.7777777777777778,
             "#fb9f3a"
            ],
            [
             0.8888888888888888,
             "#fdca26"
            ],
            [
             1,
             "#f0f921"
            ]
           ],
           "sequentialminus": [
            [
             0,
             "#0d0887"
            ],
            [
             0.1111111111111111,
             "#46039f"
            ],
            [
             0.2222222222222222,
             "#7201a8"
            ],
            [
             0.3333333333333333,
             "#9c179e"
            ],
            [
             0.4444444444444444,
             "#bd3786"
            ],
            [
             0.5555555555555556,
             "#d8576b"
            ],
            [
             0.6666666666666666,
             "#ed7953"
            ],
            [
             0.7777777777777778,
             "#fb9f3a"
            ],
            [
             0.8888888888888888,
             "#fdca26"
            ],
            [
             1,
             "#f0f921"
            ]
           ]
          },
          "colorway": [
           "#636efa",
           "#EF553B",
           "#00cc96",
           "#ab63fa",
           "#FFA15A",
           "#19d3f3",
           "#FF6692",
           "#B6E880",
           "#FF97FF",
           "#FECB52"
          ],
          "font": {
           "color": "#2a3f5f"
          },
          "geo": {
           "bgcolor": "white",
           "lakecolor": "white",
           "landcolor": "#E5ECF6",
           "showlakes": true,
           "showland": true,
           "subunitcolor": "white"
          },
          "hoverlabel": {
           "align": "left"
          },
          "hovermode": "closest",
          "mapbox": {
           "style": "light"
          },
          "paper_bgcolor": "white",
          "plot_bgcolor": "#E5ECF6",
          "polar": {
           "angularaxis": {
            "gridcolor": "white",
            "linecolor": "white",
            "ticks": ""
           },
           "bgcolor": "#E5ECF6",
           "radialaxis": {
            "gridcolor": "white",
            "linecolor": "white",
            "ticks": ""
           }
          },
          "scene": {
           "xaxis": {
            "backgroundcolor": "#E5ECF6",
            "gridcolor": "white",
            "gridwidth": 2,
            "linecolor": "white",
            "showbackground": true,
            "ticks": "",
            "zerolinecolor": "white"
           },
           "yaxis": {
            "backgroundcolor": "#E5ECF6",
            "gridcolor": "white",
            "gridwidth": 2,
            "linecolor": "white",
            "showbackground": true,
            "ticks": "",
            "zerolinecolor": "white"
           },
           "zaxis": {
            "backgroundcolor": "#E5ECF6",
            "gridcolor": "white",
            "gridwidth": 2,
            "linecolor": "white",
            "showbackground": true,
            "ticks": "",
            "zerolinecolor": "white"
           }
          },
          "shapedefaults": {
           "line": {
            "color": "#2a3f5f"
           }
          },
          "ternary": {
           "aaxis": {
            "gridcolor": "white",
            "linecolor": "white",
            "ticks": ""
           },
           "baxis": {
            "gridcolor": "white",
            "linecolor": "white",
            "ticks": ""
           },
           "bgcolor": "#E5ECF6",
           "caxis": {
            "gridcolor": "white",
            "linecolor": "white",
            "ticks": ""
           }
          },
          "title": {
           "x": 0.05
          },
          "xaxis": {
           "automargin": true,
           "gridcolor": "white",
           "linecolor": "white",
           "ticks": "",
           "title": {
            "standoff": 15
           },
           "zerolinecolor": "white",
           "zerolinewidth": 2
          },
          "yaxis": {
           "automargin": true,
           "gridcolor": "white",
           "linecolor": "white",
           "ticks": "",
           "title": {
            "standoff": 15
           },
           "zerolinecolor": "white",
           "zerolinewidth": 2
          }
         }
        },
        "title": {
         "text": "Partikelgrößenverteilung"
        },
        "xaxis": {
         "autorange": true,
         "linecolor": "black",
         "linewidth": 1,
         "mirror": true,
         "showgrid": true,
         "ticklen": 5,
         "ticks": "outside",
         "tickwidth": 1,
         "title": {
          "text": "Particle size (µm)"
         },
         "type": "log"
        },
        "yaxis": {
         "linecolor": "black",
         "linewidth": 1,
         "mirror": true,
         "range": [
          0,
          10
         ],
         "showgrid": true,
         "side": "left",
         "ticklen": 5,
         "ticks": "outside",
         "tickwidth": 1,
         "title": {
          "text": "Incremental volume (%)"
         }
        },
        "yaxis2": {
         "linecolor": "black",
         "linewidth": 1,
         "mirror": true,
         "overlaying": "y",
         "range": [
          0,
          100
         ],
         "showgrid": true,
         "side": "right",
         "ticklen": 5,
         "tickmode": "array",
         "ticks": "outside",
         "tickvals": [
          0,
          20,
          40,
          60,
          80,
          100
         ],
         "tickwidth": 1,
         "title": {
          "text": "Cumulative Volume %"
         }
        }
       }
      },
      "image/png": "[encoded data removed]"
     },
     "metadata": {},
     "output_type": "display_data"
    }
   ],
   "source": [
    "df = pd.read_csv(file)\n",
    "\n",
    "fig = go.Figure(\n",
    "    data=go.Scatter(\n",
    "        x=df[\"Durchmesser\"],\n",
    "        y=df[\"q\"],\n",
    "        name=\"Incremental Volume\",\n",
    "        marker=dict(color=\"blue\"),\n",
    "        mode=\"lines+markers\"\n",
    "    )\n",
    ")\n",
    "\n",
    "fig.add_trace(\n",
    "    go.Scatter(\n",
    "        x=df[\"Durchmesser\"],\n",
    "        y=df[\"Q\"],\n",
    "        yaxis=\"y2\",\n",
    "        name=\"Cumulative Volume\",\n",
    "        marker=dict(color=\"red\"),\n",
    "        mode=\"lines+markers\"\n",
    "    )\n",
    ")\n",
    "\n",
    "fig.update_layout(\n",
    "    title_text=\"Partikelgrößenverteilung\",\n",
    "    legend=dict(orientation=\"h\"),         \n",
    "    xaxis=dict(\n",
    "        title=dict(text=\"Particle size (µm)\"),\n",
    "        type=\"log\", # Wichtig: X-Achse auf logarithmische Skala setzen\n",
    "        autorange=True,\n",
    "        showgrid=True, # Optional: Gitterlinien anzeigen\n",
    "        mirror=True,\n",
    "        linewidth=1, # Optional: Achsenlinienbreite\n",
    "        linecolor='black', # Optional: Achsenlinienfarbe\n",
    "        ticks='outside',\n",
    "        ticklen=5,\n",
    "        tickwidth=1, # Optional: Tick-Breite\n",
    "    ),\n",
    "    yaxis=dict(\n",
    "        title=dict(text=\"Incremental volume (%)\"),\n",
    "        side=\"left\",\n",
    "        range=[0, 10],\n",
    "        showgrid=True,\n",
    "        mirror=True,\n",
    "        linewidth=1,\n",
    "        linecolor='black',\n",
    "        ticks='outside',\n",
    "        ticklen=5,\n",
    "        tickwidth=1,\n",
    "    ),\n",
    "    yaxis2=dict(\n",
    "        title=dict(text=\"Cumulative Volume %\"),\n",
    "        side=\"right\",\n",
    "        range=[0, 100],\n",
    "        overlaying=\"y\",\n",
    "        tickmode=\"array\",\n",
    "        tickvals=[0, 20, 40, 60, 80, 100], # Explizite Tick-Werte für rechte Achse\n",
    "        showgrid=True,\n",
    "        mirror=True,\n",
    "        linewidth=1,\n",
    "        linecolor='black',\n",
    "        ticks='outside',\n",
    "        ticklen=5,\n",
    "        tickwidth=1,\n",
    "    ),\n",
    "    bargap=0, # Optional: Abstand zwischen Balken entfernen, damit sie direkt aneinander liegen\n",
    "    plot_bgcolor='white', # Optional: Plot-Hintergrund weiß setzen\n",
    ")\n",
    "\n",
    "fig.show()"
   ]
  },
  {
   "cell_type": "code",
   "execution_count": 8,
   "id": "839c1af8-8f25-4222-8693-b45ec42516e9",
   "metadata": {},
   "outputs": [
    {
     "data": {
      "text/plain": [
       "[PosixPath('/home/eugen/Schreibtisch/projects/analyzer/data/2557002_EtOH.txt'),\n",
       " PosixPath('/home/eugen/Schreibtisch/projects/analyzer/data/2557002_EtOH_attributes.txt'),\n",
       " PosixPath('/home/eugen/Schreibtisch/projects/analyzer/data/2557005_EtOH.txt'),\n",
       " PosixPath('/home/eugen/Schreibtisch/projects/analyzer/data/2557005_EtOH_attributes.txt'),\n",
       " PosixPath('/home/eugen/Schreibtisch/projects/analyzer/data/2557007.txt'),\n",
       " PosixPath('/home/eugen/Schreibtisch/projects/analyzer/data/2557007_attributes.txt'),\n",
       " PosixPath('/home/eugen/Schreibtisch/projects/analyzer/data/2557008_EtOH.txt'),\n",
       " PosixPath('/home/eugen/Schreibtisch/projects/analyzer/data/2557008_EtOH_attributes.txt'),\n",
       " PosixPath('/home/eugen/Schreibtisch/projects/analyzer/data/2557009.txt'),\n",
       " PosixPath('/home/eugen/Schreibtisch/projects/analyzer/data/2557009_EtOH.txt'),\n",
       " PosixPath('/home/eugen/Schreibtisch/projects/analyzer/data/2557009_EtOH_attributes.txt'),\n",
       " PosixPath('/home/eugen/Schreibtisch/projects/analyzer/data/2557009_attributes.txt'),\n",
       " PosixPath('/home/eugen/Schreibtisch/projects/analyzer/data/2557010.txt'),\n",
       " PosixPath('/home/eugen/Schreibtisch/projects/analyzer/data/2557010_45minRB.txt'),\n",
       " PosixPath('/home/eugen/Schreibtisch/projects/analyzer/data/2557010_45minRB_attributes.txt'),\n",
       " PosixPath('/home/eugen/Schreibtisch/projects/analyzer/data/2557010_EtOH.txt'),\n",
       " PosixPath('/home/eugen/Schreibtisch/projects/analyzer/data/2557010_EtOH_attributes.txt'),\n",
       " PosixPath('/home/eugen/Schreibtisch/projects/analyzer/data/2557010_attributes.txt'),\n",
       " PosixPath('/home/eugen/Schreibtisch/projects/analyzer/data/2557012_EtOH.txt'),\n",
       " PosixPath('/home/eugen/Schreibtisch/projects/analyzer/data/2557012_EtOH_attributes.txt'),\n",
       " PosixPath('/home/eugen/Schreibtisch/projects/analyzer/data/2557013_EtOH.txt'),\n",
       " PosixPath('/home/eugen/Schreibtisch/projects/analyzer/data/2557013_EtOH_attributes.txt'),\n",
       " PosixPath('/home/eugen/Schreibtisch/projects/analyzer/data/2557014_EtOH.txt'),\n",
       " PosixPath('/home/eugen/Schreibtisch/projects/analyzer/data/2557014_EtOH_attributes.txt'),\n",
       " PosixPath('/home/eugen/Schreibtisch/projects/analyzer/data/2557015_EtOH.txt'),\n",
       " PosixPath('/home/eugen/Schreibtisch/projects/analyzer/data/2557015_EtOH_attributes.txt'),\n",
       " PosixPath('/home/eugen/Schreibtisch/projects/analyzer/data/2557015_NK.txt'),\n",
       " PosixPath('/home/eugen/Schreibtisch/projects/analyzer/data/2557015_NK_EtOH.txt'),\n",
       " PosixPath('/home/eugen/Schreibtisch/projects/analyzer/data/2557015_NK_EtOH_attributes.txt'),\n",
       " PosixPath('/home/eugen/Schreibtisch/projects/analyzer/data/2557015_NK_attributes.txt'),\n",
       " PosixPath('/home/eugen/Schreibtisch/projects/analyzer/data/2557016_EtOH.txt'),\n",
       " PosixPath('/home/eugen/Schreibtisch/projects/analyzer/data/2557016_EtOH_attributes.txt'),\n",
       " PosixPath('/home/eugen/Schreibtisch/projects/analyzer/data/2557017_NK_EtOH.txt'),\n",
       " PosixPath('/home/eugen/Schreibtisch/projects/analyzer/data/2557017_NK_EtOH_attributes.txt'),\n",
       " PosixPath('/home/eugen/Schreibtisch/projects/analyzer/data/2557018_EtOH.txt'),\n",
       " PosixPath('/home/eugen/Schreibtisch/projects/analyzer/data/2557018_EtOH_attributes.txt'),\n",
       " PosixPath('/home/eugen/Schreibtisch/projects/analyzer/data/2557018_NK_EtOH.txt'),\n",
       " PosixPath('/home/eugen/Schreibtisch/projects/analyzer/data/2557018_NK_EtOH_attributes.txt'),\n",
       " PosixPath('/home/eugen/Schreibtisch/projects/analyzer/data/2557019.txt'),\n",
       " PosixPath('/home/eugen/Schreibtisch/projects/analyzer/data/2557019_2.txt'),\n",
       " PosixPath('/home/eugen/Schreibtisch/projects/analyzer/data/2557019_2_attributes.txt'),\n",
       " PosixPath('/home/eugen/Schreibtisch/projects/analyzer/data/2557019_EtOH.txt'),\n",
       " PosixPath('/home/eugen/Schreibtisch/projects/analyzer/data/2557019_EtOH_attributes.txt'),\n",
       " PosixPath('/home/eugen/Schreibtisch/projects/analyzer/data/2557019_attributes.txt'),\n",
       " PosixPath('/home/eugen/Schreibtisch/projects/analyzer/data/2557020.txt'),\n",
       " PosixPath('/home/eugen/Schreibtisch/projects/analyzer/data/2557020_EtOH.txt'),\n",
       " PosixPath('/home/eugen/Schreibtisch/projects/analyzer/data/2557020_EtOH_attributes.txt'),\n",
       " PosixPath('/home/eugen/Schreibtisch/projects/analyzer/data/2557020_attributes.txt'),\n",
       " PosixPath('/home/eugen/Schreibtisch/projects/analyzer/data/2557021.txt'),\n",
       " PosixPath('/home/eugen/Schreibtisch/projects/analyzer/data/2557021_EtOH.txt'),\n",
       " PosixPath('/home/eugen/Schreibtisch/projects/analyzer/data/2557021_EtOH_attributes.txt'),\n",
       " PosixPath('/home/eugen/Schreibtisch/projects/analyzer/data/2557021_attributes.txt'),\n",
       " PosixPath('/home/eugen/Schreibtisch/projects/analyzer/data/2557022.txt'),\n",
       " PosixPath('/home/eugen/Schreibtisch/projects/analyzer/data/2557022_2(längere Wartezeit, länger Us).txt'),\n",
       " PosixPath('/home/eugen/Schreibtisch/projects/analyzer/data/2557022_2(längere Wartezeit, länger Us)_attributes.txt'),\n",
       " PosixPath('/home/eugen/Schreibtisch/projects/analyzer/data/2557022_EtOH.txt'),\n",
       " PosixPath('/home/eugen/Schreibtisch/projects/analyzer/data/2557022_EtOH_attributes.txt'),\n",
       " PosixPath('/home/eugen/Schreibtisch/projects/analyzer/data/2557022_attributes.txt'),\n",
       " PosixPath('/home/eugen/Schreibtisch/projects/analyzer/data/2557023_EtOH.txt'),\n",
       " PosixPath('/home/eugen/Schreibtisch/projects/analyzer/data/2557023_EtOH_attributes.txt'),\n",
       " PosixPath('/home/eugen/Schreibtisch/projects/analyzer/data/2557024_EtOH.txt'),\n",
       " PosixPath('/home/eugen/Schreibtisch/projects/analyzer/data/2557024_EtOH_2.txt'),\n",
       " PosixPath('/home/eugen/Schreibtisch/projects/analyzer/data/2557024_EtOH_2_RB50min.txt'),\n",
       " PosixPath('/home/eugen/Schreibtisch/projects/analyzer/data/2557024_EtOH_2_RB50min_attributes.txt'),\n",
       " PosixPath('/home/eugen/Schreibtisch/projects/analyzer/data/2557024_EtOH_2_attributes.txt'),\n",
       " PosixPath('/home/eugen/Schreibtisch/projects/analyzer/data/2557024_EtOH_3_RB1_30h.txt'),\n",
       " PosixPath('/home/eugen/Schreibtisch/projects/analyzer/data/2557024_EtOH_3_RB1_30h_attributes.txt'),\n",
       " PosixPath('/home/eugen/Schreibtisch/projects/analyzer/data/2557024_EtOH_attributes.txt'),\n",
       " PosixPath('/home/eugen/Schreibtisch/projects/analyzer/data/2557025(Us-bad 10 min, 24h eingelegt).txt'),\n",
       " PosixPath('/home/eugen/Schreibtisch/projects/analyzer/data/2557025(Us-bad 10 min, 24h eingelegt)_attributes.txt'),\n",
       " PosixPath('/home/eugen/Schreibtisch/projects/analyzer/data/2557025(Us-bad 13 min, 2T_Dispex AA4040).txt'),\n",
       " PosixPath('/home/eugen/Schreibtisch/projects/analyzer/data/2557025(Us-bad 13 min, 2T_Dispex AA4040)_attributes.txt'),\n",
       " PosixPath('/home/eugen/Schreibtisch/projects/analyzer/data/2557025.txt'),\n",
       " PosixPath('/home/eugen/Schreibtisch/projects/analyzer/data/2557025_EtOH.txt'),\n",
       " PosixPath('/home/eugen/Schreibtisch/projects/analyzer/data/2557025_EtOH_attributes.txt'),\n",
       " PosixPath('/home/eugen/Schreibtisch/projects/analyzer/data/2557025_RB_1h_EtOH.txt'),\n",
       " PosixPath('/home/eugen/Schreibtisch/projects/analyzer/data/2557025_RB_1h_EtOH_attributes.txt'),\n",
       " PosixPath('/home/eugen/Schreibtisch/projects/analyzer/data/2557025_attributes.txt'),\n",
       " PosixPath('/home/eugen/Schreibtisch/projects/analyzer/data/2557026_EtOH.txt'),\n",
       " PosixPath('/home/eugen/Schreibtisch/projects/analyzer/data/2557026_EtOH_attributes.txt'),\n",
       " PosixPath('/home/eugen/Schreibtisch/projects/analyzer/data/2557026_RB_1h_EtOH.txt'),\n",
       " PosixPath('/home/eugen/Schreibtisch/projects/analyzer/data/2557026_RB_1h_EtOH_attributes.txt'),\n",
       " PosixPath('/home/eugen/Schreibtisch/projects/analyzer/data/2557027_EtOH.txt'),\n",
       " PosixPath('/home/eugen/Schreibtisch/projects/analyzer/data/2557027_EtOH_attributes.txt'),\n",
       " PosixPath('/home/eugen/Schreibtisch/projects/analyzer/data/2557027_RB_1h_EtOH.txt'),\n",
       " PosixPath('/home/eugen/Schreibtisch/projects/analyzer/data/2557027_RB_1h_EtOH_attributes.txt'),\n",
       " PosixPath('/home/eugen/Schreibtisch/projects/analyzer/data/2557028_EtOH.txt'),\n",
       " PosixPath('/home/eugen/Schreibtisch/projects/analyzer/data/2557028_EtOH_attributes.txt'),\n",
       " PosixPath('/home/eugen/Schreibtisch/projects/analyzer/data/2557028_RB1_30h_EtOH_1.txt'),\n",
       " PosixPath('/home/eugen/Schreibtisch/projects/analyzer/data/2557028_RB1_30h_EtOH_1_attributes.txt'),\n",
       " PosixPath('/home/eugen/Schreibtisch/projects/analyzer/data/2557028_RB1_30h_EtOH_2.txt'),\n",
       " PosixPath('/home/eugen/Schreibtisch/projects/analyzer/data/2557028_RB1_30h_EtOH_2_attributes.txt'),\n",
       " PosixPath('/home/eugen/Schreibtisch/projects/analyzer/data/2557028_RB1_40h_EtOH_1.txt'),\n",
       " PosixPath('/home/eugen/Schreibtisch/projects/analyzer/data/2557028_RB1_40h_EtOH_1_attributes.txt'),\n",
       " PosixPath('/home/eugen/Schreibtisch/projects/analyzer/data/2557029_EtOH.txt'),\n",
       " PosixPath('/home/eugen/Schreibtisch/projects/analyzer/data/2557029_EtOH_attributes.txt'),\n",
       " PosixPath('/home/eugen/Schreibtisch/projects/analyzer/data/2557029_RB1_30h_EtOH.txt'),\n",
       " PosixPath('/home/eugen/Schreibtisch/projects/analyzer/data/2557029_RB1_30h_EtOH_attributes.txt')]"
      ]
     },
     "execution_count": 8,
     "metadata": {},
     "output_type": "execute_result"
    }
   ],
   "source": [
    "csv_files"
   ]
  },
  {
   "cell_type": "code",
   "execution_count": 9,
   "id": "42bcfff7-f260-4112-82df-93623f505d20",
   "metadata": {},
   "outputs": [
    {
     "data": {
      "text/plain": [
       "PosixPath('/home/eugen/Schreibtisch/projects/analyzer/data/2557019.txt')"
      ]
     },
     "execution_count": 9,
     "metadata": {},
     "output_type": "execute_result"
    }
   ],
   "source": [
    "file"
   ]
  }
 ],
 "metadata": {
  "kernelspec": {
   "display_name": "Python 3 (ipykernel)",
   "language": "python",
   "name": "python3"
  },
  "language_info": {
   "codemirror_mode": {
    "name": "ipython",
    "version": 3
   },
   "file_extension": ".py",
   "mimetype": "text/x-python",
   "name": "python",
   "nbconvert_exporter": "python",
   "pygments_lexer": "ipython3",
   "version": "3.12.3"
  }
 },
 "nbformat": 4,
 "nbformat_minor": 5
}
