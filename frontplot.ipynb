{
 "cells": [
  {
   "cell_type": "code",
   "execution_count": 1,
   "id": "f3ce8ddd-e210-437f-b301-c8eaec026c07",
   "metadata": {},
   "outputs": [],
   "source": [
    "from classes import CsvLoader\n",
    "from pathlib import Path\n",
    "import pandas as pd\n",
    "import plotly.graph_objects as go\n",
    "from plotly.data import tips\n",
    "import numpy as np\n",
    "from pathlib import Path\n",
    "\n",
    "# Docs to multiple Axes which I used on -> https://plotly.com/python/multiple-axes/"
   ]
  },
  {
   "cell_type": "markdown",
   "id": "cb7b46bd-cbab-4c3c-b7f4-000f159b36d8",
   "metadata": {},
   "source": [
    "## Initialize the CsvLoader"
   ]
  },
  {
   "cell_type": "code",
   "execution_count": 2,
   "id": "0b1bad6e-ad71-4ec5-95dd-691e6b77b148",
   "metadata": {},
   "outputs": [],
   "source": [
    "loader = CsvLoader()\n",
    "files = loader.get_csv_files()"
   ]
  },
  {
   "cell_type": "markdown",
   "id": "8d88af5e-53f2-401b-9499-6b42c0e0dd79",
   "metadata": {},
   "source": [
    "## Cleaning Files"
   ]
  },
  {
   "cell_type": "code",
   "execution_count": 3,
   "id": "1c9891b2-c728-45d3-ae99-5a09cca4527d",
   "metadata": {
    "scrolled": true
   },
   "outputs": [
    {
     "name": "stdout",
     "output_type": "stream",
     "text": [
      "Cleaning csv data completed!\n",
      "Cleaning csv data completed!\n",
      "Cleaning csv data completed!\n",
      "Cleaning csv data completed!\n",
      "Cleaning csv data completed!\n",
      "Cleaning csv data completed!\n",
      "Cleaning csv data completed!\n",
      "Cleaning csv data completed!\n",
      "Cleaning csv data completed!\n",
      "Cleaning csv data completed!\n",
      "Cleaning csv data completed!\n",
      "Cleaning csv data completed!\n",
      "Cleaning csv data completed!\n",
      "Cleaning csv data completed!\n",
      "Cleaning csv data completed!\n",
      "Cleaning csv data completed!\n",
      "Cleaning csv data completed!\n",
      "Cleaning csv data completed!\n",
      "Cleaning csv data completed!\n",
      "Cleaning csv data completed!\n",
      "Cleaning csv data completed!\n",
      "Cleaning csv data completed!\n",
      "Cleaning csv data completed!\n",
      "Cleaning csv data completed!\n",
      "Cleaning csv data completed!\n",
      "Cleaning csv data completed!\n",
      "Cleaning csv data completed!\n",
      "Cleaning csv data completed!\n",
      "Cleaning csv data completed!\n",
      "Cleaning csv data completed!\n",
      "Cleaning csv data completed!\n",
      "Cleaning csv data completed!\n",
      "Cleaning csv data completed!\n",
      "Cleaning csv data completed!\n",
      "Cleaning csv data completed!\n",
      "Cleaning csv data completed!\n",
      "Cleaning csv data completed!\n",
      "Cleaning csv data completed!\n",
      "Cleaning csv data completed!\n",
      "Cleaning csv data completed!\n",
      "Cleaning csv data completed!\n",
      "Cleaning csv data completed!\n",
      "Cleaning csv data completed!\n",
      "Cleaning csv data completed!\n",
      "Cleaning csv data completed!\n",
      "Cleaning csv data completed!\n",
      "Cleaning csv data completed!\n",
      "Cleaning csv data completed!\n",
      "Cleaning csv data completed!\n"
     ]
    }
   ],
   "source": [
    "# Cleaning files in data subdirectory\n",
    "# Do it only once!\n",
    "for file in files:\n",
    "    loader.clean_csv(file)\n",
    "\n",
    "files = loader.get_csv_files()"
   ]
  },
  {
   "cell_type": "markdown",
   "id": "b64fe568-8a49-4246-9197-5782c9ac25ff",
   "metadata": {},
   "source": [
    "## Save all plots"
   ]
  },
  {
   "cell_type": "code",
   "execution_count": 4,
   "id": "8760f3a4-04ed-437b-af2c-1e48d8fadb83",
   "metadata": {},
   "outputs": [],
   "source": [
    "\n",
    "\n",
    "for file in files:\n",
    "    df = pd.read_csv(file)\n",
    "\n",
    "    fig = go.Figure(\n",
    "        data=go.Bar(\n",
    "            x=df[\"Durchmesser\"],\n",
    "            y=df[\"q\"],\n",
    "            name=\"Incremental Volume\",\n",
    "            marker=dict(color=\"blue\"),\n",
    "        )\n",
    "    )\n",
    "    \n",
    "    fig.add_trace(\n",
    "        go.Scatter(\n",
    "            x=df[\"Durchmesser\"],\n",
    "            y=df[\"Q\"],\n",
    "            yaxis=\"y2\",\n",
    "            name=\"Cumulative Volume\",\n",
    "            marker=dict(color=\"red\"),\n",
    "            mode=\"lines+markers\"\n",
    "        )\n",
    "    )\n",
    "    \n",
    "    fig.update_layout(\n",
    "        title_text=\"Partikelgrößenverteilung\",\n",
    "        legend=dict(orientation=\"h\", \n",
    "                    yanchor=\"top\",\n",
    "                    y=-0.2,\n",
    "                    xanchor=\"center\",\n",
    "                    x=0.5),         \n",
    "        xaxis=dict(\n",
    "            title=dict(text=\"Particle size (µm)\"),\n",
    "            type=\"log\", # Wichtig: X-Achse auf logarithmische Skala setzen\n",
    "            autorange=True,\n",
    "            showgrid=True, # Optional: Gitterlinien anzeigen\n",
    "            mirror=True,\n",
    "            linewidth=1, # Optional: Achsenlinienbreite\n",
    "            linecolor='black', # Optional: Achsenlinienfarbe\n",
    "            ticks='outside',\n",
    "            ticklen=5,\n",
    "            tickwidth=1, # Optional: Tick-Breite\n",
    "        ),\n",
    "        yaxis=dict(\n",
    "            title=dict(text=\"Incremental volume (%)\"),\n",
    "            side=\"left\",\n",
    "            range=[0, 10],\n",
    "            showgrid=True,\n",
    "            mirror=True,\n",
    "            linewidth=1,\n",
    "            linecolor='black',\n",
    "            ticks='outside',\n",
    "            ticklen=5,\n",
    "            tickwidth=1,\n",
    "        ),\n",
    "        yaxis2=dict(\n",
    "            title=dict(text=\"Cumulative Volume %\"),\n",
    "            side=\"right\",\n",
    "            range=[0, 100],\n",
    "            overlaying=\"y\",\n",
    "            tickmode=\"array\",\n",
    "            tickvals=[0, 20, 40, 60, 80, 100], # Explizite Tick-Werte für rechte Achse\n",
    "            showgrid=True,\n",
    "            mirror=True,\n",
    "            linewidth=1,\n",
    "            linecolor='black',\n",
    "            ticks='outside',\n",
    "            ticklen=5,\n",
    "            tickwidth=1,\n",
    "        ),\n",
    "        bargap=0, # Optional: Abstand zwischen Balken entfernen, damit sie direkt aneinander liegen\n",
    "        plot_bgcolor='white' # Optional: Plot-Hintergrund weiß setzen\n",
    "    )\n",
    "    \n",
    "    fig.write_image(str(Path.cwd().joinpath(\"images\", file.stem)) + \".png\")\n"
   ]
  },
  {
   "cell_type": "markdown",
   "id": "875bf2a2-ff7f-4dde-9308-41b0f26ab811",
   "metadata": {},
   "source": [
    "## Show Plot"
   ]
  },
  {
   "cell_type": "code",
   "execution_count": 16,
   "id": "b2ef3853-768c-4d86-a4f0-e5005e0e25f8",
   "metadata": {},
   "outputs": [
    {
     "name": "stdout",
     "output_type": "stream",
     "text": [
      "0 type for: 2557019_EtOH.txt\n",
      "1 type for: 2557010_EtOH.txt\n",
      "2 type for: 2557015_NK_EtOH.txt\n",
      "3 type for: 2557014_EtOH.txt\n",
      "4 type for: 2557027_RB_1h_EtOH.txt\n",
      "5 type for: 2557026_RB_1h_EtOH.txt\n",
      "6 type for: 2557028_RB1_30h_EtOH_1.txt\n",
      "7 type for: 2557012_EtOH.txt\n",
      "8 type for: 2557024_EtOH_3_RB1_30h.txt\n",
      "9 type for: 2557015_EtOH.txt\n",
      "10 type for: 2557024_EtOH_2.txt\n",
      "11 type for: 2557007.txt\n",
      "12 type for: 2557025(Us-bad 10 min, 24h eingelegt).txt\n",
      "13 type for: 2557028_RB1_40h_EtOH_1.txt\n",
      "14 type for: 2557002_EtOH.txt\n",
      "15 type for: 2557026_EtOH.txt\n",
      "16 type for: 2557025.txt\n",
      "17 type for: 2557019_2.txt\n",
      "18 type for: 2557021_EtOH.txt\n",
      "19 type for: 2557018_NK_EtOH.txt\n",
      "20 type for: 2557025_RB_1h_EtOH.txt\n",
      "21 type for: 2557022_EtOH.txt\n",
      "22 type for: 2557017_NK_EtOH.txt\n",
      "23 type for: 2557028_RB1_30h_EtOH_2.txt\n",
      "24 type for: 2557020.txt\n",
      "25 type for: 2557025(Us-bad 13 min, 2T_Dispex AA4040).txt\n",
      "26 type for: 2557022_2(längere Wartezeit, länger Us).txt\n",
      "27 type for: 2557008_EtOH.txt\n",
      "28 type for: 2557029_RB1_30h_EtOH.txt\n",
      "29 type for: 2557029_EtOH.txt\n",
      "30 type for: 2557021.txt\n",
      "31 type for: 2557028_EtOH.txt\n",
      "32 type for: 2557009_EtOH.txt\n",
      "33 type for: 2557022.txt\n",
      "34 type for: 2557020_EtOH.txt\n",
      "35 type for: 2557015_NK.txt\n",
      "36 type for: 2557027_EtOH.txt\n",
      "37 type for: 2557024_EtOH.txt\n",
      "38 type for: 2557023_EtOH.txt\n",
      "39 type for: 2557013_EtOH.txt\n",
      "40 type for: 2557025_EtOH.txt\n",
      "41 type for: 2557018_EtOH.txt\n",
      "42 type for: 2557010_45minRB.txt\n",
      "43 type for: 2557010.txt\n",
      "44 type for: 2557016_EtOH.txt\n",
      "45 type for: 2557005_EtOH.txt\n",
      "46 type for: 2557009.txt\n",
      "47 type for: 2557024_EtOH_2_RB50min.txt\n",
      "48 type for: 2557019.txt\n",
      "You can quit the program with 'q' or 'Q'.\n"
     ]
    },
    {
     "name": "stdin",
     "output_type": "stream",
     "text": [
      "Input:  32\n"
     ]
    },
    {
     "data": {
      "application/vnd.plotly.v1+json": {
       "config": {
        "plotlyServerURL": "https://plot.ly"
       },
       "data": [
        {
         "marker": {
          "color": "blue"
         },
         "name": "Incremental Volume",
         "type": "bar",
         "width": {
          "bdata": "cF2wKDL3rD+QIk92ph2uP7De+hONbq4/oDvKtBctrj+gYHiUbImuPyB5mElTTq4/4Ktm1x6xrT/wuoMMMCmuP/Chsw+Kl64/CChuHvjnrT8IXol1y1CuP5iZO2egIK4/CHb9xvw2rj/4x1qVYRuuP0LGyZs1F64//oSDPRFLrj8zwVrSWimuP70ahq9JIK4/wAAJVFA9rj+Uzc0fZh2uP8xvugP6QK4/CPn4crIurj8QIgm0jDGuP7ABM72GHq4/4IQGqHg0rj/gpgNndzSuP0DwelieJa4/oDvKtBctrj+Q7nFuKzKuPwCBvqEcL64/cDMRCvwurj8QKMzztC6uP3DMOiHdKq4/YHl12h8vrj9gU8V6RC2uP2AyY//AL64/4PGlrlQsrj/gINnvuzCuP8AxJtcILa4/YBEJBiUurj+AOvbRmy6uP4DusWLXLq4/QF5yxzMtrj/A5itt2C6uP+D15reLLq4/gIVJGdEtrj9gJ116JS6uPyDAxChHLq4/IH13PO8urj8gKOhV+C2uP0A0az2ELq4/gDxf8vMtrj8Am90Lcy6uP8DzL7BwLq4/wFnQNiourj/AeK6TZC6uP8C8BVw5Lq4/AC/BZjgurj/At0DdbC6uP4ACRpBBLq4/wDEwKD0urj+AyBi2SS6uP0AIDjVNLq4/QAgONU0urj8=",
          "dtype": "f8"
         },
         "x": {
          "bdata": "cT0K16NwvT/4U+Olm8TAPzMzMzMzM8M/arx0kxgExj+e76fGSzfJPyGwcmiR7cw/+n5qvHST0D+LbOf7qfHSPxkEVg4tstU/TDeJQWDl2D97FK5H4XrcP1K4HoXrUeA/46WbxCCw4j+cxCCwcmjlP1CNl24Sg+g/qvHSTWIQ7D8UrkfhehTwP9Ei2/l+avI/SgwCK4cW9T8pXI/C9Sj4P0SLbOf7qfs/GQRWDi2y/z/0/dR46SYCQJhuEoPAygRAAiuHFtnOB0ASg8DKoUULQD0K16NwPQ9AF9nO91PjEUCwcmiR7XwUQCuHFtnOdxdA4XoUrkfhGkB9PzVeuskeQG8Sg8DKoSFAi2zn+6kxJEDhehSuRyEnQMuhRbbzfSpA8tJNYhBYLkCNl24Sg2AxQIGVQ4ts5zNAeekmMQjMNkAj2/l+ahw6QNV46SYx6D1AcT0K16MgQUDLoUW2851DQPLSTWIQeEZAPzVeukm8SUBEi2zn+3lNQLbz/dR44VBABFYOLbJVU0BaZDvfTyVWQD0K16NwXVlAPQrXo3ANXUCe76fGS6NgQNEi2/l+DmNAwcqhRbbTZUAAAAAAAABpQGZmZmZmomxAvHSTGARmcEA/NV66SchyQJ7vp8ZLg3VAlkOLbOejeEA3iUFg5Th8QJqZmZmZKYBAarx0kxiDgkA=",
          "dtype": "f8"
         },
         "y": {
          "bdata": "AAAAAAAAAAAAAAAAAAAAAAAAAAAAAAAAAAAAAAAAAAAAAAAAAAAAAAAAAAAAAAAAAAAAAAAAAAAAAAAAAAAAAAAAAAAAAAAAAAAAAAAAAAAAAAAAAAAAAAAAAAAAAAAAAAAAAAAAAAAAAAAAAAAAAAAAAAAAAAAAAAAAAAAAAAAAAAAAAAAAAAAAAAAAAAAAAAAAAAAAwD97FK5H4XrEP/YoXI/C9cg/GQRWDi2yzT+gGi/dJAbRP4lBYOXQItM/bef7qfHS1T/8qfHSTWLYP99PjZduEts/FK5H4XoU3j+e76fGSzfhP9nO91PjpeM/N4lBYOXQ5j/n+6nx0k3qP+F6FK5H4e4/PQrXo3A98j9GtvP91Hj1P7Kd76fGS/k/7FG4HoXr/T/NzMzMzMwBQH0/NV66SQVA7nw/NV66CUASg8DKoUUPQGq8dJMYBBNAZmZmZmbmFkC6SQwCKwcbQC2yne+nxh5AuB6F61G4IECHFtnO9xMhQKjGSzeJQSBAXrpJDAKrHEAGgZVDi2wXQB1aZDvfzxFAUI2XbhKDCUDb+X5qvHQBQHNoke18P/c/bef7qfHS6T956SYxCKzcPwAAAAAAAAAAAAAAAAAAAAAAAAAAAAAAAAAAAAAAAAAAAAAAAAAAAAAAAAAAAAAAAAAAAAAAAAAAAAAAAAAAAAA=",
          "dtype": "f8"
         }
        },
        {
         "marker": {
          "color": "red"
         },
         "mode": "lines+markers",
         "name": "Cumulative Volume",
         "type": "scatter",
         "x": {
          "bdata": "cT0K16NwvT/4U+Olm8TAPzMzMzMzM8M/arx0kxgExj+e76fGSzfJPyGwcmiR7cw/+n5qvHST0D+LbOf7qfHSPxkEVg4tstU/TDeJQWDl2D97FK5H4XrcP1K4HoXrUeA/46WbxCCw4j+cxCCwcmjlP1CNl24Sg+g/qvHSTWIQ7D8UrkfhehTwP9Ei2/l+avI/SgwCK4cW9T8pXI/C9Sj4P0SLbOf7qfs/GQRWDi2y/z/0/dR46SYCQJhuEoPAygRAAiuHFtnOB0ASg8DKoUULQD0K16NwPQ9AF9nO91PjEUCwcmiR7XwUQCuHFtnOdxdA4XoUrkfhGkB9PzVeuskeQG8Sg8DKoSFAi2zn+6kxJEDhehSuRyEnQMuhRbbzfSpA8tJNYhBYLkCNl24Sg2AxQIGVQ4ts5zNAeekmMQjMNkAj2/l+ahw6QNV46SYx6D1AcT0K16MgQUDLoUW2851DQPLSTWIQeEZAPzVeukm8SUBEi2zn+3lNQLbz/dR44VBABFYOLbJVU0BaZDvfTyVWQD0K16NwXVlAPQrXo3ANXUCe76fGS6NgQNEi2/l+DmNAwcqhRbbTZUAAAAAAAABpQGZmZmZmomxAvHSTGARmcEA/NV66SchyQJ7vp8ZLg3VAlkOLbOejeEA3iUFg5Th8QJqZmZmZKYBAarx0kxiDgkA=",
          "dtype": "f8"
         },
         "y": {
          "bdata": "AAAAAAAAAAAAAAAAAAAAAAAAAAAAAAAAAAAAAAAAAAAAAAAAAAAAAAAAAAAAAAAAAAAAAAAAAAAAAAAAAAAAAAAAAAAAAAAAAAAAAAAAAAAAAAAAAAAAAAAAAAAAAAAAAAAAAAAAAAAAAAAAAAAAAAAAAAAAAAAAAAAAAAAAAAAAAAAAAAAAAAAAAAAAAAAAAAAAAAAAwD89CtejcD3SP7gehetRuN4/YhBYObTI5j+yne+nxkvvPzvfT42XbvQ/F9nO91Pj+T+WQ4ts5/v/P/yp8dJNYgNAvp8aL90kB0Cmm8QgsHILQMl2vp8aLxBA1XjpJjEIE0BSuB6F61EWQMl2vp8aLxpAPQrXo3C9HkDn+6nx0g0iQJ7vp8ZLNyVA2/l+arz0KEAOLbKd72ctQLByaJHtXDFATmIQWDmUNECwcmiR7Xw4QMuhRbbzPT1Asp3vp8Z7QUDNzMzMzNxEQC/dJAaBtUhAwcqhRbbjTEAxCKwcWpRQQAaBlUOLnFJArBxaZDtnVEC8dJMYBN5VQF66SQwC+1ZA16NwPQrHV0Cmm8QgsFJYQEjhehSur1hAF9nO91PjWEAAAAAAAABZQAAAAAAAAFlAAAAAAAAAWUAAAAAAAABZQAAAAAAAAFlAAAAAAAAAWUAAAAAAAABZQAAAAAAAAFlAAAAAAAAAWUA=",
          "dtype": "f8"
         },
         "yaxis": "y2"
        }
       ],
       "layout": {
        "bargap": 0,
        "legend": {
         "orientation": "h"
        },
        "plot_bgcolor": "white",
        "template": {
         "data": {
          "bar": [
           {
            "error_x": {
             "color": "#2a3f5f"
            },
            "error_y": {
             "color": "#2a3f5f"
            },
            "marker": {
             "line": {
              "color": "#E5ECF6",
              "width": 0.5
             },
             "pattern": {
              "fillmode": "overlay",
              "size": 10,
              "solidity": 0.2
             }
            },
            "type": "bar"
           }
          ],
          "barpolar": [
           {
            "marker": {
             "line": {
              "color": "#E5ECF6",
              "width": 0.5
             },
             "pattern": {
              "fillmode": "overlay",
              "size": 10,
              "solidity": 0.2
             }
            },
            "type": "barpolar"
           }
          ],
          "carpet": [
           {
            "aaxis": {
             "endlinecolor": "#2a3f5f",
             "gridcolor": "white",
             "linecolor": "white",
             "minorgridcolor": "white",
             "startlinecolor": "#2a3f5f"
            },
            "baxis": {
             "endlinecolor": "#2a3f5f",
             "gridcolor": "white",
             "linecolor": "white",
             "minorgridcolor": "white",
             "startlinecolor": "#2a3f5f"
            },
            "type": "carpet"
           }
          ],
          "choropleth": [
           {
            "colorbar": {
             "outlinewidth": 0,
             "ticks": ""
            },
            "type": "choropleth"
           }
          ],
          "contour": [
           {
            "colorbar": {
             "outlinewidth": 0,
             "ticks": ""
            },
            "colorscale": [
             [
              0,
              "#0d0887"
             ],
             [
              0.1111111111111111,
              "#46039f"
             ],
             [
              0.2222222222222222,
              "#7201a8"
             ],
             [
              0.3333333333333333,
              "#9c179e"
             ],
             [
              0.4444444444444444,
              "#bd3786"
             ],
             [
              0.5555555555555556,
              "#d8576b"
             ],
             [
              0.6666666666666666,
              "#ed7953"
             ],
             [
              0.7777777777777778,
              "#fb9f3a"
             ],
             [
              0.8888888888888888,
              "#fdca26"
             ],
             [
              1,
              "#f0f921"
             ]
            ],
            "type": "contour"
           }
          ],
          "contourcarpet": [
           {
            "colorbar": {
             "outlinewidth": 0,
             "ticks": ""
            },
            "type": "contourcarpet"
           }
          ],
          "heatmap": [
           {
            "colorbar": {
             "outlinewidth": 0,
             "ticks": ""
            },
            "colorscale": [
             [
              0,
              "#0d0887"
             ],
             [
              0.1111111111111111,
              "#46039f"
             ],
             [
              0.2222222222222222,
              "#7201a8"
             ],
             [
              0.3333333333333333,
              "#9c179e"
             ],
             [
              0.4444444444444444,
              "#bd3786"
             ],
             [
              0.5555555555555556,
              "#d8576b"
             ],
             [
              0.6666666666666666,
              "#ed7953"
             ],
             [
              0.7777777777777778,
              "#fb9f3a"
             ],
             [
              0.8888888888888888,
              "#fdca26"
             ],
             [
              1,
              "#f0f921"
             ]
            ],
            "type": "heatmap"
           }
          ],
          "histogram": [
           {
            "marker": {
             "pattern": {
              "fillmode": "overlay",
              "size": 10,
              "solidity": 0.2
             }
            },
            "type": "histogram"
           }
          ],
          "histogram2d": [
           {
            "colorbar": {
             "outlinewidth": 0,
             "ticks": ""
            },
            "colorscale": [
             [
              0,
              "#0d0887"
             ],
             [
              0.1111111111111111,
              "#46039f"
             ],
             [
              0.2222222222222222,
              "#7201a8"
             ],
             [
              0.3333333333333333,
              "#9c179e"
             ],
             [
              0.4444444444444444,
              "#bd3786"
             ],
             [
              0.5555555555555556,
              "#d8576b"
             ],
             [
              0.6666666666666666,
              "#ed7953"
             ],
             [
              0.7777777777777778,
              "#fb9f3a"
             ],
             [
              0.8888888888888888,
              "#fdca26"
             ],
             [
              1,
              "#f0f921"
             ]
            ],
            "type": "histogram2d"
           }
          ],
          "histogram2dcontour": [
           {
            "colorbar": {
             "outlinewidth": 0,
             "ticks": ""
            },
            "colorscale": [
             [
              0,
              "#0d0887"
             ],
             [
              0.1111111111111111,
              "#46039f"
             ],
             [
              0.2222222222222222,
              "#7201a8"
             ],
             [
              0.3333333333333333,
              "#9c179e"
             ],
             [
              0.4444444444444444,
              "#bd3786"
             ],
             [
              0.5555555555555556,
              "#d8576b"
             ],
             [
              0.6666666666666666,
              "#ed7953"
             ],
             [
              0.7777777777777778,
              "#fb9f3a"
             ],
             [
              0.8888888888888888,
              "#fdca26"
             ],
             [
              1,
              "#f0f921"
             ]
            ],
            "type": "histogram2dcontour"
           }
          ],
          "mesh3d": [
           {
            "colorbar": {
             "outlinewidth": 0,
             "ticks": ""
            },
            "type": "mesh3d"
           }
          ],
          "parcoords": [
           {
            "line": {
             "colorbar": {
              "outlinewidth": 0,
              "ticks": ""
             }
            },
            "type": "parcoords"
           }
          ],
          "pie": [
           {
            "automargin": true,
            "type": "pie"
           }
          ],
          "scatter": [
           {
            "fillpattern": {
             "fillmode": "overlay",
             "size": 10,
             "solidity": 0.2
            },
            "type": "scatter"
           }
          ],
          "scatter3d": [
           {
            "line": {
             "colorbar": {
              "outlinewidth": 0,
              "ticks": ""
             }
            },
            "marker": {
             "colorbar": {
              "outlinewidth": 0,
              "ticks": ""
             }
            },
            "type": "scatter3d"
           }
          ],
          "scattercarpet": [
           {
            "marker": {
             "colorbar": {
              "outlinewidth": 0,
              "ticks": ""
             }
            },
            "type": "scattercarpet"
           }
          ],
          "scattergeo": [
           {
            "marker": {
             "colorbar": {
              "outlinewidth": 0,
              "ticks": ""
             }
            },
            "type": "scattergeo"
           }
          ],
          "scattergl": [
           {
            "marker": {
             "colorbar": {
              "outlinewidth": 0,
              "ticks": ""
             }
            },
            "type": "scattergl"
           }
          ],
          "scattermap": [
           {
            "marker": {
             "colorbar": {
              "outlinewidth": 0,
              "ticks": ""
             }
            },
            "type": "scattermap"
           }
          ],
          "scattermapbox": [
           {
            "marker": {
             "colorbar": {
              "outlinewidth": 0,
              "ticks": ""
             }
            },
            "type": "scattermapbox"
           }
          ],
          "scatterpolar": [
           {
            "marker": {
             "colorbar": {
              "outlinewidth": 0,
              "ticks": ""
             }
            },
            "type": "scatterpolar"
           }
          ],
          "scatterpolargl": [
           {
            "marker": {
             "colorbar": {
              "outlinewidth": 0,
              "ticks": ""
             }
            },
            "type": "scatterpolargl"
           }
          ],
          "scatterternary": [
           {
            "marker": {
             "colorbar": {
              "outlinewidth": 0,
              "ticks": ""
             }
            },
            "type": "scatterternary"
           }
          ],
          "surface": [
           {
            "colorbar": {
             "outlinewidth": 0,
             "ticks": ""
            },
            "colorscale": [
             [
              0,
              "#0d0887"
             ],
             [
              0.1111111111111111,
              "#46039f"
             ],
             [
              0.2222222222222222,
              "#7201a8"
             ],
             [
              0.3333333333333333,
              "#9c179e"
             ],
             [
              0.4444444444444444,
              "#bd3786"
             ],
             [
              0.5555555555555556,
              "#d8576b"
             ],
             [
              0.6666666666666666,
              "#ed7953"
             ],
             [
              0.7777777777777778,
              "#fb9f3a"
             ],
             [
              0.8888888888888888,
              "#fdca26"
             ],
             [
              1,
              "#f0f921"
             ]
            ],
            "type": "surface"
           }
          ],
          "table": [
           {
            "cells": {
             "fill": {
              "color": "#EBF0F8"
             },
             "line": {
              "color": "white"
             }
            },
            "header": {
             "fill": {
              "color": "#C8D4E3"
             },
             "line": {
              "color": "white"
             }
            },
            "type": "table"
           }
          ]
         },
         "layout": {
          "annotationdefaults": {
           "arrowcolor": "#2a3f5f",
           "arrowhead": 0,
           "arrowwidth": 1
          },
          "autotypenumbers": "strict",
          "coloraxis": {
           "colorbar": {
            "outlinewidth": 0,
            "ticks": ""
           }
          },
          "colorscale": {
           "diverging": [
            [
             0,
             "#8e0152"
            ],
            [
             0.1,
             "#c51b7d"
            ],
            [
             0.2,
             "#de77ae"
            ],
            [
             0.3,
             "#f1b6da"
            ],
            [
             0.4,
             "#fde0ef"
            ],
            [
             0.5,
             "#f7f7f7"
            ],
            [
             0.6,
             "#e6f5d0"
            ],
            [
             0.7,
             "#b8e186"
            ],
            [
             0.8,
             "#7fbc41"
            ],
            [
             0.9,
             "#4d9221"
            ],
            [
             1,
             "#276419"
            ]
           ],
           "sequential": [
            [
             0,
             "#0d0887"
            ],
            [
             0.1111111111111111,
             "#46039f"
            ],
            [
             0.2222222222222222,
             "#7201a8"
            ],
            [
             0.3333333333333333,
             "#9c179e"
            ],
            [
             0.4444444444444444,
             "#bd3786"
            ],
            [
             0.5555555555555556,
             "#d8576b"
            ],
            [
             0.6666666666666666,
             "#ed7953"
            ],
            [
             0.7777777777777778,
             "#fb9f3a"
            ],
            [
             0.8888888888888888,
             "#fdca26"
            ],
            [
             1,
             "#f0f921"
            ]
           ],
           "sequentialminus": [
            [
             0,
             "#0d0887"
            ],
            [
             0.1111111111111111,
             "#46039f"
            ],
            [
             0.2222222222222222,
             "#7201a8"
            ],
            [
             0.3333333333333333,
             "#9c179e"
            ],
            [
             0.4444444444444444,
             "#bd3786"
            ],
            [
             0.5555555555555556,
             "#d8576b"
            ],
            [
             0.6666666666666666,
             "#ed7953"
            ],
            [
             0.7777777777777778,
             "#fb9f3a"
            ],
            [
             0.8888888888888888,
             "#fdca26"
            ],
            [
             1,
             "#f0f921"
            ]
           ]
          },
          "colorway": [
           "#636efa",
           "#EF553B",
           "#00cc96",
           "#ab63fa",
           "#FFA15A",
           "#19d3f3",
           "#FF6692",
           "#B6E880",
           "#FF97FF",
           "#FECB52"
          ],
          "font": {
           "color": "#2a3f5f"
          },
          "geo": {
           "bgcolor": "white",
           "lakecolor": "white",
           "landcolor": "#E5ECF6",
           "showlakes": true,
           "showland": true,
           "subunitcolor": "white"
          },
          "hoverlabel": {
           "align": "left"
          },
          "hovermode": "closest",
          "mapbox": {
           "style": "light"
          },
          "paper_bgcolor": "white",
          "plot_bgcolor": "#E5ECF6",
          "polar": {
           "angularaxis": {
            "gridcolor": "white",
            "linecolor": "white",
            "ticks": ""
           },
           "bgcolor": "#E5ECF6",
           "radialaxis": {
            "gridcolor": "white",
            "linecolor": "white",
            "ticks": ""
           }
          },
          "scene": {
           "xaxis": {
            "backgroundcolor": "#E5ECF6",
            "gridcolor": "white",
            "gridwidth": 2,
            "linecolor": "white",
            "showbackground": true,
            "ticks": "",
            "zerolinecolor": "white"
           },
           "yaxis": {
            "backgroundcolor": "#E5ECF6",
            "gridcolor": "white",
            "gridwidth": 2,
            "linecolor": "white",
            "showbackground": true,
            "ticks": "",
            "zerolinecolor": "white"
           },
           "zaxis": {
            "backgroundcolor": "#E5ECF6",
            "gridcolor": "white",
            "gridwidth": 2,
            "linecolor": "white",
            "showbackground": true,
            "ticks": "",
            "zerolinecolor": "white"
           }
          },
          "shapedefaults": {
           "line": {
            "color": "#2a3f5f"
           }
          },
          "ternary": {
           "aaxis": {
            "gridcolor": "white",
            "linecolor": "white",
            "ticks": ""
           },
           "baxis": {
            "gridcolor": "white",
            "linecolor": "white",
            "ticks": ""
           },
           "bgcolor": "#E5ECF6",
           "caxis": {
            "gridcolor": "white",
            "linecolor": "white",
            "ticks": ""
           }
          },
          "title": {
           "x": 0.05
          },
          "xaxis": {
           "automargin": true,
           "gridcolor": "white",
           "linecolor": "white",
           "ticks": "",
           "title": {
            "standoff": 15
           },
           "zerolinecolor": "white",
           "zerolinewidth": 2
          },
          "yaxis": {
           "automargin": true,
           "gridcolor": "white",
           "linecolor": "white",
           "ticks": "",
           "title": {
            "standoff": 15
           },
           "zerolinecolor": "white",
           "zerolinewidth": 2
          }
         }
        },
        "title": {
         "text": "Partikelgrößenverteilung"
        },
        "xaxis": {
         "autorange": true,
         "linecolor": "black",
         "linewidth": 1,
         "mirror": true,
         "showgrid": true,
         "ticklen": 5,
         "ticks": "outside",
         "tickwidth": 1,
         "title": {
          "text": "Particle size (µm)"
         },
         "type": "log"
        },
        "yaxis": {
         "linecolor": "black",
         "linewidth": 1,
         "mirror": true,
         "range": [
          0,
          10
         ],
         "showgrid": true,
         "side": "left",
         "ticklen": 5,
         "ticks": "outside",
         "tickwidth": 1,
         "title": {
          "text": "Incremental volume (%)"
         }
        },
        "yaxis2": {
         "linecolor": "black",
         "linewidth": 1,
         "mirror": true,
         "overlaying": "y",
         "range": [
          0,
          100
         ],
         "showgrid": true,
         "side": "right",
         "ticklen": 5,
         "tickmode": "array",
         "ticks": "outside",
         "tickvals": [
          0,
          20,
          40,
          60,
          80,
          100
         ],
         "tickwidth": 1,
         "title": {
          "text": "Cumulative Volume %"
         }
        }
       }
      },
      "image/png": "[encoded data removed]"
     },
     "metadata": {},
     "output_type": "display_data"
    }
   ],
   "source": [
    "# Dokumentation zu mehrfachen Axen auf -> https://plotly.com/python/multiple-axes/\n",
    "\n",
    "# Follow the instructions via the text input field!\n",
    "df = loader.get_csv_file()\n",
    "\n",
    "# The Plotting\n",
    "try:\n",
    "    \n",
    "    # Berechnung der Balkenbreite für logarithmische X-Achse\n",
    "    log_diameters = np.log10(df[\"Durchmesser\"])\n",
    "    widths = np.diff(log_diameters)\n",
    "    # Füge einen Wert für den letzten Punkt hinzu\n",
    "    widths = np.append(widths, widths[-1])\n",
    "    \n",
    "    fig = go.Figure(\n",
    "        data=go.Bar(\n",
    "            x=df[\"Durchmesser\"],\n",
    "            y=df[\"q\"],\n",
    "            name=\"Incremental Volume\",\n",
    "            marker=dict(color=\"blue\"),\n",
    "            width=widths\n",
    "        )\n",
    "    )\n",
    "    \n",
    "    fig.add_trace(\n",
    "        go.Scatter(\n",
    "            x=df[\"Durchmesser\"],\n",
    "            y=df[\"Q\"],\n",
    "            yaxis=\"y2\",\n",
    "            name=\"Cumulative Volume\",\n",
    "            marker=dict(color=\"red\"),\n",
    "            mode=\"lines+markers\"\n",
    "        )\n",
    "    )\n",
    "    \n",
    "    fig.update_layout(\n",
    "        title_text=\"Partikelgrößenverteilung\",\n",
    "        legend=dict(orientation=\"h\"),         \n",
    "        xaxis=dict(\n",
    "            title=dict(text=\"Particle size (µm)\"),\n",
    "            type=\"log\", # Wichtig: X-Achse auf logarithmische Skala setzen\n",
    "            autorange=True,\n",
    "            showgrid=True, # Optional: Gitterlinien anzeigen\n",
    "            mirror=True,\n",
    "            linewidth=1, # Optional: Achsenlinienbreite\n",
    "            linecolor='black', # Optional: Achsenlinienfarbe\n",
    "            ticks='outside',\n",
    "            ticklen=5,\n",
    "            tickwidth=1, # Optional: Tick-Breite\n",
    "        ),\n",
    "        yaxis=dict(\n",
    "            title=dict(text=\"Incremental volume (%)\"),\n",
    "            side=\"left\",\n",
    "            range=[0, 10],\n",
    "            showgrid=True,\n",
    "            mirror=True,\n",
    "            linewidth=1,\n",
    "            linecolor='black',\n",
    "            ticks='outside',\n",
    "            ticklen=5,\n",
    "            tickwidth=1,\n",
    "        ),\n",
    "        yaxis2=dict(\n",
    "            title=dict(text=\"Cumulative Volume %\"),\n",
    "            side=\"right\",\n",
    "            range=[0, 100],\n",
    "            overlaying=\"y\",\n",
    "            tickmode=\"array\",\n",
    "            tickvals=[0, 20, 40, 60, 80, 100], # Explizite Tick-Werte für rechte Achse\n",
    "            showgrid=True,\n",
    "            mirror=True,\n",
    "            linewidth=1,\n",
    "            linecolor='black',\n",
    "            ticks='outside',\n",
    "            ticklen=5,\n",
    "            tickwidth=1,\n",
    "        ),\n",
    "        bargap=0, # Optional: Abstand zwischen Balken entfernen, damit sie direkt aneinander liegen\n",
    "        plot_bgcolor='white' # Optional: Plot-Hintergrund weiß setzen\n",
    "    )\n",
    "    fig.show()\n",
    "    \n",
    "except TypeError:\n",
    "    print(\"\\nProgram interrupted by user.\")"
   ]
  },
  {
   "cell_type": "code",
   "execution_count": 3,
   "id": "ff1c7116-b773-4614-bf24-19e604b8b1a5",
   "metadata": {},
   "outputs": [
    {
     "name": "stdout",
     "output_type": "stream",
     "text": [
      "0 type for: 2557019_EtOH.txt\n",
      "1 type for: 2557010_EtOH.txt\n",
      "2 type for: 2557015_NK_EtOH.txt\n",
      "3 type for: 2557014_EtOH.txt\n",
      "4 type for: 2557027_RB_1h_EtOH.txt\n",
      "5 type for: 2557026_RB_1h_EtOH.txt\n",
      "6 type for: 2557028_RB1_30h_EtOH_1.txt\n",
      "7 type for: 2557012_EtOH.txt\n",
      "8 type for: 2557024_EtOH_3_RB1_30h.txt\n",
      "9 type for: 2557015_EtOH.txt\n",
      "10 type for: 2557024_EtOH_2.txt\n",
      "11 type for: 2557007.txt\n",
      "12 type for: 2557025(Us-bad 10 min, 24h eingelegt).txt\n",
      "13 type for: 2557028_RB1_40h_EtOH_1.txt\n",
      "14 type for: 2557002_EtOH.txt\n",
      "15 type for: 2557026_EtOH.txt\n",
      "16 type for: 2557025.txt\n",
      "17 type for: 2557019_2.txt\n",
      "18 type for: 2557021_EtOH.txt\n",
      "19 type for: 2557018_NK_EtOH.txt\n",
      "20 type for: 2557025_RB_1h_EtOH.txt\n",
      "21 type for: 2557022_EtOH.txt\n",
      "22 type for: 2557017_NK_EtOH.txt\n",
      "23 type for: 2557028_RB1_30h_EtOH_2.txt\n",
      "24 type for: 2557020.txt\n",
      "25 type for: 2557025(Us-bad 13 min, 2T_Dispex AA4040).txt\n",
      "26 type for: 2557022_2(längere Wartezeit, länger Us).txt\n",
      "27 type for: 2557008_EtOH.txt\n",
      "28 type for: 2557029_RB1_30h_EtOH.txt\n",
      "29 type for: 2557029_EtOH.txt\n",
      "30 type for: 2557021.txt\n",
      "31 type for: 2557028_EtOH.txt\n",
      "32 type for: 2557009_EtOH.txt\n",
      "33 type for: 2557022.txt\n",
      "34 type for: 2557020_EtOH.txt\n",
      "35 type for: 2557015_NK.txt\n",
      "36 type for: 2557027_EtOH.txt\n",
      "37 type for: 2557024_EtOH.txt\n",
      "38 type for: 2557023_EtOH.txt\n",
      "39 type for: 2557013_EtOH.txt\n",
      "40 type for: 2557025_EtOH.txt\n",
      "41 type for: 2557018_EtOH.txt\n",
      "42 type for: 2557010_45minRB.txt\n",
      "43 type for: 2557010.txt\n",
      "44 type for: 2557016_EtOH.txt\n",
      "45 type for: 2557005_EtOH.txt\n",
      "46 type for: 2557009.txt\n",
      "47 type for: 2557024_EtOH_2_RB50min.txt\n",
      "48 type for: 2557019.txt\n",
      "You can quit the program with 'q' or 'Q'.\n"
     ]
    },
    {
     "name": "stdin",
     "output_type": "stream",
     "text": [
      "Input:  40\n"
     ]
    },
    {
     "data": {
      "application/vnd.plotly.v1+json": {
       "config": {
        "plotlyServerURL": "https://plot.ly"
       },
       "data": [
        {
         "autobinx": false,
         "histfunc": "sum",
         "marker": {
          "color": "blue"
         },
         "name": "Incremental Volume",
         "type": "histogram",
         "x": {
          "bdata": "cT0K16NwvT/4U+Olm8TAPzMzMzMzM8M/arx0kxgExj+e76fGSzfJPyGwcmiR7cw/+n5qvHST0D+LbOf7qfHSPxkEVg4tstU/TDeJQWDl2D97FK5H4XrcP1K4HoXrUeA/46WbxCCw4j+cxCCwcmjlP1CNl24Sg+g/qvHSTWIQ7D8UrkfhehTwP9Ei2/l+avI/SgwCK4cW9T8pXI/C9Sj4P0SLbOf7qfs/GQRWDi2y/z/0/dR46SYCQJhuEoPAygRAAiuHFtnOB0ASg8DKoUULQD0K16NwPQ9AF9nO91PjEUCwcmiR7XwUQCuHFtnOdxdA4XoUrkfhGkB9PzVeuskeQG8Sg8DKoSFAi2zn+6kxJEDhehSuRyEnQMuhRbbzfSpA8tJNYhBYLkCNl24Sg2AxQIGVQ4ts5zNAeekmMQjMNkAj2/l+ahw6QNV46SYx6D1AcT0K16MgQUDLoUW2851DQPLSTWIQeEZAPzVeukm8SUBEi2zn+3lNQLbz/dR44VBABFYOLbJVU0BaZDvfTyVWQD0K16NwXVlAPQrXo3ANXUCe76fGS6NgQNEi2/l+DmNAwcqhRbbTZUAAAAAAAABpQGZmZmZmomxAvHSTGARmcEA/NV66SchyQJ7vp8ZLg3VAlkOLbOejeEA3iUFg5Th8QJqZmZmZKYBAarx0kxiDgkA=",
          "dtype": "f8"
         },
         "xbins": {
          "end": 592.387,
          "size": {
           "bdata": "gF2wKDL3nD/wv39PbIqtP6AAJcUZRq4/MI1iZNJNrj8gTqEkQluuP9BsCO/fa64/kJJ/ELn/rT9wM/VxJ+2tP2iuGw5dYK4/AOUQF8E/rj8Aw/vJYRyuP9h7Yu61OK4/xIccl84rrj8IHywuLymuPxxHkphLGa4/nKWmbCMxrj8kI+8HNjquP/Rt8EDSJK4/vI3HAc0urj8oZ+s5Wy2uP7gexBEwL64/aLRZO9Y3rj+ADYGTHzCuP+ARnrgJKK4/UMOcsn8prj/QFYUHeDSuP6BLv98KLa4/8JWiBlsprj8gFZ6RoS+uP8A3GAikMK4/MNrnVQwvrj/Are5+2C6uP0B6gwrJLK4/ACPYff4srj9gZp0qMi6uP8BCFL2CLq4/QJIE1wourj9giT9PiC6uP0Cpf2PiLq4/gKGX7pYtrj8Apv9rYC6uP4AUVJq5Lq4/YCYSlQUurj+AIk8aBi6uP0BuiRKyLq4/wD2YaC4urj+AVtNJ+y2uP8DzkFE2Lq4/gB6eMpsurj+g0i/Jcy6uP2CuqUk+Lq4/QDjlFzwurj/Aax5/My6uP0DHBt5xLq4/wCaAc00urj9AaT9lRy6uPwAb2vdOLq4/wHVj4Tgurj+A8wCiUi6uPwBdwzZXLq4/QBo7XD8urj8AfSRvQy6uP0Bok3VLLq4/gAgONU0unj8=",
           "dtype": "f8"
          },
          "start": 0.115
         },
         "y": {
          "bdata": "AAAAAAAAAAAAAAAAAAAAAAAAAAAAAAAAAAAAAAAAAAAAAAAAAAAAAAAAAAAAAAAAAAAAAAAAAAAAAAAAAAAAAAAAAAAAAAAAAAAAAAAAAAAAAAAAAAAAAAAAAAAAAAAAAAAAAAAAAAAAAAAAAAAAAAAAAAAAAAAAAAAAAAAAAAAAAAAAAADAPyPb+X5qvMQ/7nw/NV66yT+4HoXrUbjOP+58PzVeutE/gZVDi2zn0z8ZBFYOLbLVP7ByaJHtfNc/QmDl0CLb2T8lBoGVQ4vcP6wcWmQ7398/F9nO91Pj4T+amZmZmZnlP2Q730+Nl+o/CtejcD0K8T+DwMqhRbb1Px+F61G4Hv0/z/dT46WbA0BWDi2yne8JQDMzMzMzsxBAaJHtfD+1FEBaZDvfT40YQG8Sg8DKoRtA9P3UeOmmHUDNzMzMzEweQJqZmZmZmR1AuB6F61G4G0DFILByaBEZQDvfT42X7hVACKwcWmS7EkA9CtejcD0PQPCnxks3iQlA5dAi2/l+BEAzMzMzMzMAQJ7vp8ZLN/k/nMQgsHJo8z/FILByaJHtP5HtfD81XuY/okW28/3U2D8AAAAAAAAAAAAAAAAAAAAAAAAAAAAAAAAAAAAAAAAAAAAAAAAAAAAAAAAAAAAAAAAAAAAAAAAAAAAAAAAAAAAAAAAAAAAAAAA=",
          "dtype": "f8"
         }
        },
        {
         "marker": {
          "color": "red"
         },
         "mode": "lines+markers",
         "name": "Cumulative Volume",
         "type": "scatter",
         "x": {
          "bdata": "cT0K16NwvT/4U+Olm8TAPzMzMzMzM8M/arx0kxgExj+e76fGSzfJPyGwcmiR7cw/+n5qvHST0D+LbOf7qfHSPxkEVg4tstU/TDeJQWDl2D97FK5H4XrcP1K4HoXrUeA/46WbxCCw4j+cxCCwcmjlP1CNl24Sg+g/qvHSTWIQ7D8UrkfhehTwP9Ei2/l+avI/SgwCK4cW9T8pXI/C9Sj4P0SLbOf7qfs/GQRWDi2y/z/0/dR46SYCQJhuEoPAygRAAiuHFtnOB0ASg8DKoUULQD0K16NwPQ9AF9nO91PjEUCwcmiR7XwUQCuHFtnOdxdA4XoUrkfhGkB9PzVeuskeQG8Sg8DKoSFAi2zn+6kxJEDhehSuRyEnQMuhRbbzfSpA8tJNYhBYLkCNl24Sg2AxQIGVQ4ts5zNAeekmMQjMNkAj2/l+ahw6QNV46SYx6D1AcT0K16MgQUDLoUW2851DQPLSTWIQeEZAPzVeukm8SUBEi2zn+3lNQLbz/dR44VBABFYOLbJVU0BaZDvfTyVWQD0K16NwXVlAPQrXo3ANXUCe76fGS6NgQNEi2/l+DmNAwcqhRbbTZUAAAAAAAABpQGZmZmZmomxAvHSTGARmcEA/NV66SchyQJ7vp8ZLg3VAlkOLbOejeEA3iUFg5Th8QJqZmZmZKYBAarx0kxiDgkA=",
          "dtype": "f8"
         },
         "y": {
          "bdata": "AAAAAAAAAAAAAAAAAAAAAAAAAAAAAAAAAAAAAAAAAAAAAAAAAAAAAAAAAAAAAAAAAAAAAAAAAAAAAAAAAAAAAAAAAAAAAAAAAAAAAAAAAAAAAAAAAAAAAAAAAAAAAAAAAAAAAAAAAAAAAAAAAAAAAAAAAAAAAAAAAAAAAAAAAAAAAAAAAADAP5HtfD81XtI/XrpJDAIr3z/dJAaBlUPnP6rx0k1iEPA/CtejcD0K9T8QWDm0yHb6P166SQwCKwBAZmZmZmZmA0ArhxbZzvcGQMHKoUW28wpABoGVQ4tsD0C28/3UeGkSQCPb+X5qvBVA5dAi2/n+GUAGgZVDi2wfQCcxCKwcWiNAGy/dJAZBKECwcmiR7bwuQF66SQwCizNAuB6F61G4OEAIrBxaZNs+QDVeukkM4kJA9P3UeOmWRkCq8dJNYmBKQN0kBoGVE05AWmQ730/FUEBmZmZmZlZSQFpkO99PtVNADAIrhxbhVEBeukkMAttVQJ7vp8ZLp1ZAJQaBlUNLV0C+nxov3cxXQH0/NV66MVhAj8L1KFx/WEDfT42XbrpYQLpJDAIr51hAAAAAAAAAWUAAAAAAAABZQAAAAAAAAFlAAAAAAAAAWUAAAAAAAABZQAAAAAAAAFlAAAAAAAAAWUAAAAAAAABZQAAAAAAAAFlAAAAAAAAAWUA=",
          "dtype": "f8"
         },
         "yaxis": "y2"
        }
       ],
       "layout": {
        "bargap": 0,
        "barmode": "overlay",
        "legend": {
         "orientation": "h"
        },
        "plot_bgcolor": "white",
        "template": {
         "data": {
          "bar": [
           {
            "error_x": {
             "color": "#2a3f5f"
            },
            "error_y": {
             "color": "#2a3f5f"
            },
            "marker": {
             "line": {
              "color": "#E5ECF6",
              "width": 0.5
             },
             "pattern": {
              "fillmode": "overlay",
              "size": 10,
              "solidity": 0.2
             }
            },
            "type": "bar"
           }
          ],
          "barpolar": [
           {
            "marker": {
             "line": {
              "color": "#E5ECF6",
              "width": 0.5
             },
             "pattern": {
              "fillmode": "overlay",
              "size": 10,
              "solidity": 0.2
             }
            },
            "type": "barpolar"
           }
          ],
          "carpet": [
           {
            "aaxis": {
             "endlinecolor": "#2a3f5f",
             "gridcolor": "white",
             "linecolor": "white",
             "minorgridcolor": "white",
             "startlinecolor": "#2a3f5f"
            },
            "baxis": {
             "endlinecolor": "#2a3f5f",
             "gridcolor": "white",
             "linecolor": "white",
             "minorgridcolor": "white",
             "startlinecolor": "#2a3f5f"
            },
            "type": "carpet"
           }
          ],
          "choropleth": [
           {
            "colorbar": {
             "outlinewidth": 0,
             "ticks": ""
            },
            "type": "choropleth"
           }
          ],
          "contour": [
           {
            "colorbar": {
             "outlinewidth": 0,
             "ticks": ""
            },
            "colorscale": [
             [
              0,
              "#0d0887"
             ],
             [
              0.1111111111111111,
              "#46039f"
             ],
             [
              0.2222222222222222,
              "#7201a8"
             ],
             [
              0.3333333333333333,
              "#9c179e"
             ],
             [
              0.4444444444444444,
              "#bd3786"
             ],
             [
              0.5555555555555556,
              "#d8576b"
             ],
             [
              0.6666666666666666,
              "#ed7953"
             ],
             [
              0.7777777777777778,
              "#fb9f3a"
             ],
             [
              0.8888888888888888,
              "#fdca26"
             ],
             [
              1,
              "#f0f921"
             ]
            ],
            "type": "contour"
           }
          ],
          "contourcarpet": [
           {
            "colorbar": {
             "outlinewidth": 0,
             "ticks": ""
            },
            "type": "contourcarpet"
           }
          ],
          "heatmap": [
           {
            "colorbar": {
             "outlinewidth": 0,
             "ticks": ""
            },
            "colorscale": [
             [
              0,
              "#0d0887"
             ],
             [
              0.1111111111111111,
              "#46039f"
             ],
             [
              0.2222222222222222,
              "#7201a8"
             ],
             [
              0.3333333333333333,
              "#9c179e"
             ],
             [
              0.4444444444444444,
              "#bd3786"
             ],
             [
              0.5555555555555556,
              "#d8576b"
             ],
             [
              0.6666666666666666,
              "#ed7953"
             ],
             [
              0.7777777777777778,
              "#fb9f3a"
             ],
             [
              0.8888888888888888,
              "#fdca26"
             ],
             [
              1,
              "#f0f921"
             ]
            ],
            "type": "heatmap"
           }
          ],
          "histogram": [
           {
            "marker": {
             "pattern": {
              "fillmode": "overlay",
              "size": 10,
              "solidity": 0.2
             }
            },
            "type": "histogram"
           }
          ],
          "histogram2d": [
           {
            "colorbar": {
             "outlinewidth": 0,
             "ticks": ""
            },
            "colorscale": [
             [
              0,
              "#0d0887"
             ],
             [
              0.1111111111111111,
              "#46039f"
             ],
             [
              0.2222222222222222,
              "#7201a8"
             ],
             [
              0.3333333333333333,
              "#9c179e"
             ],
             [
              0.4444444444444444,
              "#bd3786"
             ],
             [
              0.5555555555555556,
              "#d8576b"
             ],
             [
              0.6666666666666666,
              "#ed7953"
             ],
             [
              0.7777777777777778,
              "#fb9f3a"
             ],
             [
              0.8888888888888888,
              "#fdca26"
             ],
             [
              1,
              "#f0f921"
             ]
            ],
            "type": "histogram2d"
           }
          ],
          "histogram2dcontour": [
           {
            "colorbar": {
             "outlinewidth": 0,
             "ticks": ""
            },
            "colorscale": [
             [
              0,
              "#0d0887"
             ],
             [
              0.1111111111111111,
              "#46039f"
             ],
             [
              0.2222222222222222,
              "#7201a8"
             ],
             [
              0.3333333333333333,
              "#9c179e"
             ],
             [
              0.4444444444444444,
              "#bd3786"
             ],
             [
              0.5555555555555556,
              "#d8576b"
             ],
             [
              0.6666666666666666,
              "#ed7953"
             ],
             [
              0.7777777777777778,
              "#fb9f3a"
             ],
             [
              0.8888888888888888,
              "#fdca26"
             ],
             [
              1,
              "#f0f921"
             ]
            ],
            "type": "histogram2dcontour"
           }
          ],
          "mesh3d": [
           {
            "colorbar": {
             "outlinewidth": 0,
             "ticks": ""
            },
            "type": "mesh3d"
           }
          ],
          "parcoords": [
           {
            "line": {
             "colorbar": {
              "outlinewidth": 0,
              "ticks": ""
             }
            },
            "type": "parcoords"
           }
          ],
          "pie": [
           {
            "automargin": true,
            "type": "pie"
           }
          ],
          "scatter": [
           {
            "fillpattern": {
             "fillmode": "overlay",
             "size": 10,
             "solidity": 0.2
            },
            "type": "scatter"
           }
          ],
          "scatter3d": [
           {
            "line": {
             "colorbar": {
              "outlinewidth": 0,
              "ticks": ""
             }
            },
            "marker": {
             "colorbar": {
              "outlinewidth": 0,
              "ticks": ""
             }
            },
            "type": "scatter3d"
           }
          ],
          "scattercarpet": [
           {
            "marker": {
             "colorbar": {
              "outlinewidth": 0,
              "ticks": ""
             }
            },
            "type": "scattercarpet"
           }
          ],
          "scattergeo": [
           {
            "marker": {
             "colorbar": {
              "outlinewidth": 0,
              "ticks": ""
             }
            },
            "type": "scattergeo"
           }
          ],
          "scattergl": [
           {
            "marker": {
             "colorbar": {
              "outlinewidth": 0,
              "ticks": ""
             }
            },
            "type": "scattergl"
           }
          ],
          "scattermap": [
           {
            "marker": {
             "colorbar": {
              "outlinewidth": 0,
              "ticks": ""
             }
            },
            "type": "scattermap"
           }
          ],
          "scattermapbox": [
           {
            "marker": {
             "colorbar": {
              "outlinewidth": 0,
              "ticks": ""
             }
            },
            "type": "scattermapbox"
           }
          ],
          "scatterpolar": [
           {
            "marker": {
             "colorbar": {
              "outlinewidth": 0,
              "ticks": ""
             }
            },
            "type": "scatterpolar"
           }
          ],
          "scatterpolargl": [
           {
            "marker": {
             "colorbar": {
              "outlinewidth": 0,
              "ticks": ""
             }
            },
            "type": "scatterpolargl"
           }
          ],
          "scatterternary": [
           {
            "marker": {
             "colorbar": {
              "outlinewidth": 0,
              "ticks": ""
             }
            },
            "type": "scatterternary"
           }
          ],
          "surface": [
           {
            "colorbar": {
             "outlinewidth": 0,
             "ticks": ""
            },
            "colorscale": [
             [
              0,
              "#0d0887"
             ],
             [
              0.1111111111111111,
              "#46039f"
             ],
             [
              0.2222222222222222,
              "#7201a8"
             ],
             [
              0.3333333333333333,
              "#9c179e"
             ],
             [
              0.4444444444444444,
              "#bd3786"
             ],
             [
              0.5555555555555556,
              "#d8576b"
             ],
             [
              0.6666666666666666,
              "#ed7953"
             ],
             [
              0.7777777777777778,
              "#fb9f3a"
             ],
             [
              0.8888888888888888,
              "#fdca26"
             ],
             [
              1,
              "#f0f921"
             ]
            ],
            "type": "surface"
           }
          ],
          "table": [
           {
            "cells": {
             "fill": {
              "color": "#EBF0F8"
             },
             "line": {
              "color": "white"
             }
            },
            "header": {
             "fill": {
              "color": "#C8D4E3"
             },
             "line": {
              "color": "white"
             }
            },
            "type": "table"
           }
          ]
         },
         "layout": {
          "annotationdefaults": {
           "arrowcolor": "#2a3f5f",
           "arrowhead": 0,
           "arrowwidth": 1
          },
          "autotypenumbers": "strict",
          "coloraxis": {
           "colorbar": {
            "outlinewidth": 0,
            "ticks": ""
           }
          },
          "colorscale": {
           "diverging": [
            [
             0,
             "#8e0152"
            ],
            [
             0.1,
             "#c51b7d"
            ],
            [
             0.2,
             "#de77ae"
            ],
            [
             0.3,
             "#f1b6da"
            ],
            [
             0.4,
             "#fde0ef"
            ],
            [
             0.5,
             "#f7f7f7"
            ],
            [
             0.6,
             "#e6f5d0"
            ],
            [
             0.7,
             "#b8e186"
            ],
            [
             0.8,
             "#7fbc41"
            ],
            [
             0.9,
             "#4d9221"
            ],
            [
             1,
             "#276419"
            ]
           ],
           "sequential": [
            [
             0,
             "#0d0887"
            ],
            [
             0.1111111111111111,
             "#46039f"
            ],
            [
             0.2222222222222222,
             "#7201a8"
            ],
            [
             0.3333333333333333,
             "#9c179e"
            ],
            [
             0.4444444444444444,
             "#bd3786"
            ],
            [
             0.5555555555555556,
             "#d8576b"
            ],
            [
             0.6666666666666666,
             "#ed7953"
            ],
            [
             0.7777777777777778,
             "#fb9f3a"
            ],
            [
             0.8888888888888888,
             "#fdca26"
            ],
            [
             1,
             "#f0f921"
            ]
           ],
           "sequentialminus": [
            [
             0,
             "#0d0887"
            ],
            [
             0.1111111111111111,
             "#46039f"
            ],
            [
             0.2222222222222222,
             "#7201a8"
            ],
            [
             0.3333333333333333,
             "#9c179e"
            ],
            [
             0.4444444444444444,
             "#bd3786"
            ],
            [
             0.5555555555555556,
             "#d8576b"
            ],
            [
             0.6666666666666666,
             "#ed7953"
            ],
            [
             0.7777777777777778,
             "#fb9f3a"
            ],
            [
             0.8888888888888888,
             "#fdca26"
            ],
            [
             1,
             "#f0f921"
            ]
           ]
          },
          "colorway": [
           "#636efa",
           "#EF553B",
           "#00cc96",
           "#ab63fa",
           "#FFA15A",
           "#19d3f3",
           "#FF6692",
           "#B6E880",
           "#FF97FF",
           "#FECB52"
          ],
          "font": {
           "color": "#2a3f5f"
          },
          "geo": {
           "bgcolor": "white",
           "lakecolor": "white",
           "landcolor": "#E5ECF6",
           "showlakes": true,
           "showland": true,
           "subunitcolor": "white"
          },
          "hoverlabel": {
           "align": "left"
          },
          "hovermode": "closest",
          "mapbox": {
           "style": "light"
          },
          "paper_bgcolor": "white",
          "plot_bgcolor": "#E5ECF6",
          "polar": {
           "angularaxis": {
            "gridcolor": "white",
            "linecolor": "white",
            "ticks": ""
           },
           "bgcolor": "#E5ECF6",
           "radialaxis": {
            "gridcolor": "white",
            "linecolor": "white",
            "ticks": ""
           }
          },
          "scene": {
           "xaxis": {
            "backgroundcolor": "#E5ECF6",
            "gridcolor": "white",
            "gridwidth": 2,
            "linecolor": "white",
            "showbackground": true,
            "ticks": "",
            "zerolinecolor": "white"
           },
           "yaxis": {
            "backgroundcolor": "#E5ECF6",
            "gridcolor": "white",
            "gridwidth": 2,
            "linecolor": "white",
            "showbackground": true,
            "ticks": "",
            "zerolinecolor": "white"
           },
           "zaxis": {
            "backgroundcolor": "#E5ECF6",
            "gridcolor": "white",
            "gridwidth": 2,
            "linecolor": "white",
            "showbackground": true,
            "ticks": "",
            "zerolinecolor": "white"
           }
          },
          "shapedefaults": {
           "line": {
            "color": "#2a3f5f"
           }
          },
          "ternary": {
           "aaxis": {
            "gridcolor": "white",
            "linecolor": "white",
            "ticks": ""
           },
           "baxis": {
            "gridcolor": "white",
            "linecolor": "white",
            "ticks": ""
           },
           "bgcolor": "#E5ECF6",
           "caxis": {
            "gridcolor": "white",
            "linecolor": "white",
            "ticks": ""
           }
          },
          "title": {
           "x": 0.05
          },
          "xaxis": {
           "automargin": true,
           "gridcolor": "white",
           "linecolor": "white",
           "ticks": "",
           "title": {
            "standoff": 15
           },
           "zerolinecolor": "white",
           "zerolinewidth": 2
          },
          "yaxis": {
           "automargin": true,
           "gridcolor": "white",
           "linecolor": "white",
           "ticks": "",
           "title": {
            "standoff": 15
           },
           "zerolinecolor": "white",
           "zerolinewidth": 2
          }
         }
        },
        "title": {
         "text": "Partikelgrößenverteilung"
        },
        "xaxis": {
         "autorange": true,
         "linecolor": "black",
         "linewidth": 1,
         "mirror": true,
         "showgrid": true,
         "ticklen": 5,
         "ticks": "outside",
         "tickwidth": 1,
         "title": {
          "text": "Particle size (µm)"
         },
         "type": "log"
        },
        "yaxis": {
         "linecolor": "black",
         "linewidth": 1,
         "mirror": true,
         "range": [
          0,
          10
         ],
         "showgrid": true,
         "side": "left",
         "ticklen": 5,
         "ticks": "outside",
         "tickwidth": 1,
         "title": {
          "text": "Incremental volume (%)"
         }
        },
        "yaxis2": {
         "linecolor": "black",
         "linewidth": 1,
         "mirror": true,
         "overlaying": "y",
         "range": [
          0,
          100
         ],
         "showgrid": true,
         "side": "right",
         "ticklen": 5,
         "tickmode": "array",
         "ticks": "outside",
         "tickvals": [
          0,
          20,
          40,
          60,
          80,
          100
         ],
         "tickwidth": 1,
         "title": {
          "text": "Cumulative Volume %"
         }
        }
       }
      },
      "image/png": "[encoded data removed]"
     },
     "metadata": {},
     "output_type": "display_data"
    }
   ],
   "source": [
    "# Dokumentation zu mehrfachen Axen auf -> https://plotly.com/python/multiple-axes/\n",
    "\n",
    "# Follow the instructions via the text input field!\n",
    "df = loader.get_csv_file()\n",
    "\n",
    "# The Plotting\n",
    "try:\n",
    "    \n",
    "    # Berechnung der Bin-Kanten für das Histogramm\n",
    "    # Für logarithmische Achsen nimmt man oft das geometrische Mittel zwischen benachbarten Punkten.\n",
    "    # Das erste Element ist der Anfang des ersten Bins, das letzte Element ist das Ende des letzten Bins.\n",
    "    bin_edges = np.sqrt(df[\"Durchmesser\"].iloc[:-1].values * df[\"Durchmesser\"].iloc[1:].values)\n",
    "    \n",
    "    # Füge den Startpunkt des ersten Bins und den Endpunkt des letzten Bins hinzu.\n",
    "    # Annahme: Der erste Punkt ist der Start des ersten Bins und der letzte Punkt ist der Endpunkt des letzten Bins.\n",
    "    # Alternativ könnte man auch den ersten Durchmesser / (Verhältnis des 2. zum 1.) und den letzten * (Verhältnis des letzten zum vorletzten) nehmen.\n",
    "    # Für dieses Dataset reicht es, wenn wir einfach den ersten und den letzten Durchmesser hinzufügen.\n",
    "    bin_edges = np.insert(bin_edges, 0, df[\"Durchmesser\"].iloc[0])\n",
    "    bin_edges = np.append(bin_edges, df[\"Durchmesser\"].iloc[-1])\n",
    "\n",
    "    fig = go.Figure()\n",
    "    \n",
    "    # Hinzufügen des Histogramm-Traces\n",
    "    fig.add_trace(\n",
    "        go.Histogram(\n",
    "            x=df[\"Durchmesser\"],\n",
    "            y=df[\"q\"],\n",
    "            name=\"Incremental Volume\",\n",
    "            marker_color=\"blue\", # Farbe direkt für den Marker setzen\n",
    "            histfunc=\"sum\", # Summiert die y-Werte innerhalb jedes Bins\n",
    "            xbins=dict(\n",
    "                start=bin_edges[0],\n",
    "                end=bin_edges[-1],\n",
    "                size=np.diff(np.log10(bin_edges)) # Bin-Größen auf logarithmischer Skala\n",
    "            ),\n",
    "            autobinx=False, # Deaktiviere automatische Bin-Erkennung\n",
    "            # Alternativ: Um die Breite der Balken manuell zu steuern (nicht unbedingt nötig mit xbins)\n",
    "            # hoverinfo='x+y', # Optional: Zeigt x- und y-Wert beim Hovern an\n",
    "            # opacity=0.8 # Optional: Für Transparenz\n",
    "        )\n",
    "    )\n",
    "    \n",
    "    fig.add_trace(\n",
    "        go.Scatter(\n",
    "            x=df[\"Durchmesser\"],\n",
    "            y=df[\"Q\"],\n",
    "            yaxis=\"y2\",\n",
    "            name=\"Cumulative Volume\",\n",
    "            marker=dict(color=\"red\"),\n",
    "            mode=\"lines+markers\"\n",
    "        )\n",
    "    )\n",
    "    \n",
    "    fig.update_layout(\n",
    "        title_text=\"Partikelgrößenverteilung\",\n",
    "        legend=dict(orientation=\"h\"),         \n",
    "        xaxis=dict(\n",
    "            title=dict(text=\"Particle size (µm)\"),\n",
    "            type=\"log\", # Wichtig: X-Achse auf logarithmische Skala setzen\n",
    "            autorange=True,\n",
    "            showgrid=True, # Optional: Gitterlinien anzeigen\n",
    "            mirror=True,\n",
    "            linewidth=1, # Optional: Achsenlinienbreite\n",
    "            linecolor='black', # Optional: Achsenlinienfarbe\n",
    "            ticks='outside',\n",
    "            ticklen=5,\n",
    "            tickwidth=1, # Optional: Tick-Breite\n",
    "        ),\n",
    "        yaxis=dict(\n",
    "            title=dict(text=\"Incremental volume (%)\"),\n",
    "            side=\"left\",\n",
    "            range=[0, 10],\n",
    "            showgrid=True,\n",
    "            mirror=True,\n",
    "            linewidth=1,\n",
    "            linecolor='black',\n",
    "            ticks='outside',\n",
    "            ticklen=5,\n",
    "            tickwidth=1,\n",
    "        ),\n",
    "        yaxis2=dict(\n",
    "            title=dict(text=\"Cumulative Volume %\"),\n",
    "            side=\"right\",\n",
    "            range=[0, 100],\n",
    "            overlaying=\"y\",\n",
    "            tickmode=\"array\",\n",
    "            tickvals=[0, 20, 40, 60, 80, 100], # Explizite Tick-Werte für rechte Achse\n",
    "            showgrid=True,\n",
    "            mirror=True,\n",
    "            linewidth=1,\n",
    "            linecolor='black',\n",
    "            ticks='outside',\n",
    "            ticklen=5,\n",
    "            tickwidth=1,\n",
    "        ),\n",
    "        bargap=0, \n",
    "        plot_bgcolor='white',\n",
    "        barmode='overlay' # Stellt sicher, dass die Balken nicht gestapelt werden, falls mehrere Histogramme vorhanden wären\n",
    "    )\n",
    "    fig.show()\n",
    "    \n",
    "except TypeError:\n",
    "    print(\"\\nProgram interrupted by user.\")"
   ]
  },
  {
   "cell_type": "code",
   "execution_count": null,
   "id": "839c1af8-8f25-4222-8693-b45ec42516e9",
   "metadata": {},
   "outputs": [],
   "source": []
  }
 ],
 "metadata": {
  "kernelspec": {
   "display_name": "Python 3 (ipykernel)",
   "language": "python",
   "name": "python3"
  },
  "language_info": {
   "codemirror_mode": {
    "name": "ipython",
    "version": 3
   },
   "file_extension": ".py",
   "mimetype": "text/x-python",
   "name": "python",
   "nbconvert_exporter": "python",
   "pygments_lexer": "ipython3",
   "version": "3.12.3"
  }
 },
 "nbformat": 4,
 "nbformat_minor": 5
}
