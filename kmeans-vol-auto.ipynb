{
 "cells": [
  {
   "cell_type": "markdown",
   "id": "aca9d0cb-e1e8-4701-be86-4e77e9856c5c",
   "metadata": {},
   "source": [
    "### Import the necessary program libraries"
   ]
  },
  {
   "cell_type": "code",
   "execution_count": 1,
   "id": "23a965af-d9fa-4610-9dfc-07ca8c7b2e71",
   "metadata": {},
   "outputs": [],
   "source": [
    "import pandas as pd\n",
    "from classes import KMeansClusterMain, BaseLoader\n",
    "import plotly.express as px\n",
    "from sqlalchemy import create_engine\n",
    "from settings import mariadb_string, mariadb_config\n",
    "from funcs import get_density\n",
    "from pathlib import Path"
   ]
  },
  {
   "cell_type": "markdown",
   "id": "66060c90-71a0-4373-bb5b-fd9857c4795e",
   "metadata": {},
   "source": [
    "### Automate of receiving pics"
   ]
  },
  {
   "cell_type": "code",
   "execution_count": 2,
   "id": "602245dc-f75e-4085-8abf-458d386b3f37",
   "metadata": {},
   "outputs": [
    {
     "name": "stdout",
     "output_type": "stream",
     "text": [
      "Image for ADS.DEX saved!\n",
      "Image for AMZN saved!\n",
      "Image for BKNG saved!\n",
      "Image for DASH saved!\n",
      "Image for FNTN.DE saved!\n",
      "Image for HD saved!\n",
      "Image for LOW saved!\n",
      "Image for MCD saved!\n",
      "Image for NKE saved!\n",
      "Image for NRDBY saved!\n",
      "Image for PAH3.DE saved!\n",
      "Image for SBUX saved!\n",
      "Image for SY1.DE saved!\n",
      "Image for TJX saved!\n",
      "Image for TSLA saved!\n",
      "All good!\n"
     ]
    }
   ],
   "source": [
    "\n",
    "loader = BaseLoader(mariadb_config)\n",
    "symbols = loader.select(\"select symbol from stocks;\")\n",
    "\n",
    "data_select_query = \"\"\"select \n",
    "\t*\n",
    "from\n",
    "\tstock_price s\n",
    "where\n",
    "\ts.symbol = '{}'\n",
    "group BY\n",
    "\ts.`date`\n",
    "order by\n",
    "\ts.`date` asc;\"\"\"\n",
    "\n",
    "for item in symbols:\n",
    "    df_stock = pd.read_sql(data_select_query.format(item[0]), create_engine(mariadb_string))\n",
    "    df_stock[\"date\"] = pd.to_datetime(df_stock[\"date\"])\n",
    "    \n",
    "    # Compute the percentage change\n",
    "    df_stock[\"perc_change\"] = ((df_stock[\"open\"] + df_stock[\"high\"] + df_stock[\"low\"] + df_stock[\"close\"]) / 3).pct_change()\n",
    "    df_stock.dropna(inplace=True)\n",
    "    df_stock = df_stock[df_stock['perc_change'] != 0.0]\n",
    "    \n",
    "    # Here comes KMeans\n",
    "    datapoints = df_stock[\"perc_change\"].to_list()\n",
    "    kmeans = KMeansClusterMain(3)\n",
    "    kmeans.fit(datapoints) \n",
    "    \n",
    "    # Assign the clusters\n",
    "    df_stock[\"cluster\"] = kmeans.labels\n",
    "    df_stock[\"cluster\"] = pd.to_numeric(df_stock[\"cluster\"])\n",
    "    \n",
    "    # Get the density for the colormap\n",
    "    df_stock[\"density\"] = df_stock[\"cluster\"].rolling(21).apply(get_density, kwargs={'orig_density': kmeans.centroids})\n",
    "    \n",
    "    # cluster_str needed for kmeans volatility cluster graph.\n",
    "    df_stock[\"cluster_str\"] = df_stock.cluster.astype(str)\n",
    "    df_stock['perc_change'] = df_stock['perc_change'] * 100\n",
    "    \n",
    "    # Calculate the density\n",
    "    describe_ser = df_stock[\"density\"].describe()\n",
    "    upper_limit = describe_ser[\"mean\"] + (describe_ser[\"std\"] * 2)\n",
    "    lower_limit = describe_ser[\"mean\"] - (describe_ser[\"std\"] * 2)\n",
    "    \n",
    "    # Show the density\n",
    "    fig = px.line(df_stock, x=\"date\", y=\"density\", title=\"Stock on Daily Basis\",\n",
    "                      labels={\"date\": \"Date\", \"density\": \"Cluster Aufsummierung\"})\n",
    "    \n",
    "    fig.add_hline(y=upper_limit, line_dash=\"dash\", line_color=\"red\", annotation_text=f\"Grenze bei {round(upper_limit,4)}\")\n",
    "    fig.add_hline(y=lower_limit, line_dash=\"dash\", line_color=\"red\", annotation_text=f\"Grenze bei {round(lower_limit,4)}\")\n",
    "    \n",
    "    \n",
    "    fig.write_image(str(Path.cwd().joinpath(\"images\", item[0] + \"_kmeans_analyse\")) + \".png\")\n",
    "    print(f\"Image for {item[0]} saved!\")\n",
    "\n",
    "print(\"All good!\")"
   ]
  },
  {
   "cell_type": "code",
   "execution_count": 5,
   "id": "0b2d1775-ab11-4387-a04e-532792af945f",
   "metadata": {},
   "outputs": [
    {
     "data": {
      "text/plain": [
       "('MBG.DE',)"
      ]
     },
     "execution_count": 5,
     "metadata": {},
     "output_type": "execute_result"
    }
   ],
   "source": [
    "item"
   ]
  }
 ],
 "metadata": {
  "kernelspec": {
   "display_name": "Python 3 (ipykernel)",
   "language": "python",
   "name": "python3"
  },
  "language_info": {
   "codemirror_mode": {
    "name": "ipython",
    "version": 3
   },
   "file_extension": ".py",
   "mimetype": "text/x-python",
   "name": "python",
   "nbconvert_exporter": "python",
   "pygments_lexer": "ipython3",
   "version": "3.12.3"
  }
 },
 "nbformat": 4,
 "nbformat_minor": 5
}
