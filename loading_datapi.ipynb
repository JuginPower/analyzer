{
 "cells": [
  {
   "cell_type": "code",
   "execution_count": 1,
   "id": "c6c6e95a-7ecf-4f6d-a6e3-29e60c2e8268",
   "metadata": {},
   "outputs": [],
   "source": [
    "import requests\n",
    "from requests.auth import HTTPBasicAuth\n",
    "from classes import BaseLoader\n",
    "from datalayer import MysqlDataManager\n",
    "from settings import datapi_url, datapi_username, datapi_passwd, mariadb_config, alpha_key\n",
    "import logging\n",
    "import requests\n",
    "from time import sleep\n",
    "\n",
    "\n",
    "def get_price_rows(data: dict):\n",
    "    \"\"\"\n",
    "    For getting the price rows from the response data\n",
    "    \"\"\"\n",
    "\n",
    "    price_rows = []\n",
    "    symbol = full_data['Meta Data']['2. Symbol']\n",
    "    \n",
    "    for day_item in full_data[\"Time Series (Daily)\"].items():\n",
    "        datum = day_item[0]\n",
    "        opening = float(day_item[1][\"1. open\"])\n",
    "        high = float(day_item[1][\"2. high\"])\n",
    "        low = float(day_item[1][\"3. low\"])\n",
    "        closing = float(day_item[1][\"4. close\"])\n",
    "        price_row = tuple([symbol, datum, opening, high, low, closing])\n",
    "        price_rows.append(price_row)\n",
    "\n",
    "    return price_rows"
   ]
  },
  {
   "cell_type": "markdown",
   "id": "a5a34dd8-2a3b-4194-9ec6-fbd14cee833e",
   "metadata": {},
   "source": [
    "## Get the daily data from datapi"
   ]
  },
  {
   "cell_type": "code",
   "execution_count": 2,
   "id": "793dddbd-d185-4409-95e8-8206a97aaa7d",
   "metadata": {},
   "outputs": [
    {
     "name": "stdout",
     "output_type": "stream",
     "text": [
      "Result from upload to api: 75\n",
      "Status Code from DELETE request: 200\n"
     ]
    }
   ],
   "source": [
    "# Initialize the logger\n",
    "logger = logging.getLogger(__name__)\n",
    "logging.basicConfig(filename=\"loading_datapi.log\", encoding=\"utf-8\", level=logging.ERROR,\n",
    "                    format='%(asctime)s - %(name)s - %(levelname)s - %(message)s', datefmt='%Y-%m-%d, %H:%M:%S')\n",
    "\n",
    "# Initialize the local database connection\n",
    "loader = BaseLoader(mariadb_config)\n",
    "res = requests.get(datapi_url, auth=HTTPBasicAuth(datapi_username, datapi_passwd))\n",
    "\n",
    "# request for data\n",
    "if 299 >= res.status_code >= 200:\n",
    "    data_source = res.json()\n",
    "    try:\n",
    "        result = loader.upload(data_source)\n",
    "    except Exception as err:\n",
    "        logger.error(\"Something goes wrong in loading_datapi: %s\", err)\n",
    "        raise err\n",
    "    else:\n",
    "        print(\"Result from upload to api:\", result)\n",
    "\n",
    "        # request for delete the data on the remote server\n",
    "        res = requests.delete(datapi_url, auth=HTTPBasicAuth(datapi_username, datapi_passwd))\n",
    "        print(\"Status Code from DELETE request:\", res.status_code)\n",
    "\n",
    "elif not (299 >= res.status_code >= 200):\n",
    "    print(f\"Status Code: {res.status_code} occured!\")\n",
    "    print(res.json()[\"response\"])\n"
   ]
  },
  {
   "cell_type": "markdown",
   "id": "f6129bf0-2734-4100-ac3a-85a851f13c40",
   "metadata": {},
   "source": [
    "## Get full data from alphavantage"
   ]
  },
  {
   "cell_type": "code",
   "execution_count": 4,
   "id": "ceee319d-63ef-4ee0-908a-ef255b47da96",
   "metadata": {},
   "outputs": [
    {
     "name": "stdout",
     "output_type": "stream",
     "text": [
      "For 3868Rows affected: 3868\n",
      "For 5220Rows affected: 5220\n",
      "For 5220Rows affected: 5220\n",
      "For 5219Rows affected: 5219\n",
      "For 4719Rows affected: 4719\n"
     ]
    }
   ],
   "source": [
    "select_query= \"\"\"SELECT\n",
    "    i.symbol\n",
    "FROM\n",
    "    indexes AS i\n",
    "LEFT JOIN\n",
    "    stock_price sp ON i.symbol = sp.symbol\n",
    "WHERE\n",
    "    sp.symbol IS NULL;\"\"\"\n",
    "\n",
    "# Set the connection with database and alphavantage\n",
    "url_template = \"https://www.alphavantage.co/query?function=TIME_SERIES_DAILY&symbol={}&outputsize=full&apikey={}\"\n",
    "sql_query = \"insert into stock_price values (%s, %s, %s, %s, %s, %s);\"\n",
    "data_manager = MysqlDataManager(mariadb_config)\n",
    "symbols = data_manager.select(select_query)\n",
    "\n",
    "# Insert full data for each symbol in database\n",
    "\n",
    "for item in symbols:\n",
    "    full_data = requests.get(url_template.format(item[0], alpha_key)).json()\n",
    "    \n",
    "    price_rows = get_price_rows(full_data)\n",
    "\n",
    "    sleep(1)\n",
    "    rows_affected = data_manager.query(sql_query, price_rows)\n",
    "    print(f\"For {item[0]} rows affected: {rows_affected}\")"
   ]
  },
  {
   "cell_type": "markdown",
   "id": "3e4ab545-cd36-4050-b75f-9fda33de8430",
   "metadata": {},
   "source": [
    "### Get full data per symbol"
   ]
  },
  {
   "cell_type": "code",
   "execution_count": 2,
   "id": "ce4a1101-ecc9-4f8b-8416-5c60d9e4f1b7",
   "metadata": {},
   "outputs": [
    {
     "name": "stdin",
     "output_type": "stream",
     "text": [
      "Symbol:  NRDBY\n"
     ]
    },
    {
     "name": "stdout",
     "output_type": "stream",
     "text": [
      "Rows affected 1717\n"
     ]
    }
   ],
   "source": [
    "# Initialize important objects\n",
    "symbol = input(\"Symbol: \").upper()\n",
    "url_template = f\"https://www.alphavantage.co/query?function=TIME_SERIES_DAILY&symbol={symbol}&outputsize=full&apikey={alpha_key}\"\n",
    "sql_query = \"insert into stock_price values (%s, %s, %s, %s, %s, %s);\"\n",
    "data_manager = MysqlDataManager(mariadb_config)\n",
    "\n",
    "# Start the request\n",
    "full_data = requests.get(url_template.format(symbol, alpha_key)).json()\n",
    "price_rows = get_price_rows(full_data)\n",
    "result = data_manager.query(sql_query, price_rows)\n",
    "\n",
    "print(\"Rows affected\", result)"
   ]
  },
  {
   "cell_type": "code",
   "execution_count": null,
   "id": "3278b510-7802-4175-bd50-66a4b14244cd",
   "metadata": {},
   "outputs": [],
   "source": []
  }
 ],
 "metadata": {
  "kernelspec": {
   "display_name": "Python 3 (ipykernel)",
   "language": "python",
   "name": "python3"
  },
  "language_info": {
   "codemirror_mode": {
    "name": "ipython",
    "version": 3
   },
   "file_extension": ".py",
   "mimetype": "text/x-python",
   "name": "python",
   "nbconvert_exporter": "python",
   "pygments_lexer": "ipython3",
   "version": "3.12.3"
  }
 },
 "nbformat": 4,
 "nbformat_minor": 5
}
