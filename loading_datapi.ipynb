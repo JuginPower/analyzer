{
 "cells": [
  {
   "cell_type": "code",
   "execution_count": 1,
   "id": "c6c6e95a-7ecf-4f6d-a6e3-29e60c2e8268",
   "metadata": {},
   "outputs": [],
   "source": [
    "import requests\n",
    "from requests.auth import HTTPBasicAuth\n",
    "from classes import BaseLoader\n",
    "from settings import datapi_url, datapi_username, datapi_passwd, mariadb_config, alpha_key\n",
    "import logging\n",
    "import requests\n",
    "from time import sleep"
   ]
  },
  {
   "cell_type": "markdown",
   "id": "a5a34dd8-2a3b-4194-9ec6-fbd14cee833e",
   "metadata": {},
   "source": [
    "## Get the daily data"
   ]
  },
  {
   "cell_type": "code",
   "execution_count": 2,
   "id": "793dddbd-d185-4409-95e8-8206a97aaa7d",
   "metadata": {},
   "outputs": [
    {
     "name": "stdout",
     "output_type": "stream",
     "text": [
      "Result from upload from api: 10\n",
      "Status Code from DELETE request: 200\n"
     ]
    }
   ],
   "source": [
    "# Initialize the logger\n",
    "logger = logging.getLogger(__name__)\n",
    "logging.basicConfig(filename=\"loading_datapi.log\", encoding=\"utf-8\", level=logging.ERROR,\n",
    "                    format='%(asctime)s - %(name)s - %(levelname)s - %(message)s', datefmt='%Y-%m-%d, %H:%M:%S')\n",
    "\n",
    "# Initialize the local database connection\n",
    "loader = BaseLoader(mariadb_config)\n",
    "res = requests.get(datapi_url, auth=HTTPBasicAuth(datapi_username, datapi_passwd))\n",
    "\n",
    "# request for data\n",
    "if 299 >= res.status_code >= 200:\n",
    "    data_source = res.json()\n",
    "    try:\n",
    "        result = loader.upload(data_source)\n",
    "    except Exception as err:\n",
    "        logger.error(\"Something goes wrong in loading_datapi: %s\", err)\n",
    "        raise err\n",
    "    else:\n",
    "        print(\"Result from upload from api:\", result)\n",
    "\n",
    "        # request for delete the data on the remote server\n",
    "        res = requests.delete(datapi_url, auth=HTTPBasicAuth(datapi_username, datapi_passwd))\n",
    "        print(\"Status Code from DELETE request:\", res.status_code)\n",
    "\n",
    "elif not (299 >= res.status_code >= 200):\n",
    "    print(f\"Status Code: {res.status_code} occured!\")\n",
    "    print(res.json()[\"response\"])\n"
   ]
  },
  {
   "cell_type": "markdown",
   "id": "f6129bf0-2734-4100-ac3a-85a851f13c40",
   "metadata": {},
   "source": [
    "## Get full data from alphavantage"
   ]
  },
  {
   "cell_type": "code",
   "execution_count": null,
   "id": "ceee319d-63ef-4ee0-908a-ef255b47da96",
   "metadata": {},
   "outputs": [],
   "source": [
    "# Set the connection with database and alphavantage\n",
    "url_template = f\"https://www.alphavantage.co/query?function=TIME_SERIES_DAILY&symbol={}&outputsize=full&apikey={}\"\n",
    "sql_query = \"insert into stock_price values (%s, %s, %s, %s, %s, %s);\"\n",
    "data_manager = MysqlConnectorManager(mariadb_config)\n",
    "symbols = data_manager.select(\"select symbol from indexes;\")\n",
    "\n",
    "# Insert full data for each symbol in database\n",
    "\n",
    "for item in symbols:\n",
    "    full_data = requests.get(url_template.format(item[0], alpha_key)).json()\n",
    "    price_rows = []\n",
    "    symbol = full_data['Meta Data']['2. Symbol']\n",
    "    \n",
    "    for day_item in full_data[\"Time Series (Daily)\"].items():\n",
    "        datum = day_item[0]\n",
    "        opening = float(day_item[1][\"1. open\"])\n",
    "        high = float(day_item[1][\"2. high\"])\n",
    "        low = float(day_item[1][\"3. low\"])\n",
    "        closing = float(day_item[1][\"4. close\"])\n",
    "        price_row = tuple([symbol, datum, opening, high, low, closing])\n",
    "        price_rows.append(price_row)\n",
    "\n",
    "    sleep(1)\n",
    "    data_manager.query(sql_query, price_rows)"
   ]
  }
 ],
 "metadata": {
  "kernelspec": {
   "display_name": "Python 3 (ipykernel)",
   "language": "python",
   "name": "python3"
  },
  "language_info": {
   "codemirror_mode": {
    "name": "ipython",
    "version": 3
   },
   "file_extension": ".py",
   "mimetype": "text/x-python",
   "name": "python",
   "nbconvert_exporter": "python",
   "pygments_lexer": "ipython3",
   "version": "3.12.3"
  }
 },
 "nbformat": 4,
 "nbformat_minor": 5
}
